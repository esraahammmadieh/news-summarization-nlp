{
  "cells": [
    {
      "cell_type": "code",
      "execution_count": null,
      "metadata": {
        "colab": {
          "base_uri": "https://localhost:8080/"
        },
        "collapsed": true,
        "id": "lQCUb_FUzfhh",
        "outputId": "65f72c01-9031-4fec-92e9-d9dfedb6b442"
      },
      "outputs": [
        {
          "output_type": "stream",
          "name": "stderr",
          "text": [
            "[nltk_data] Downloading package stopwords to /root/nltk_data...\n",
            "[nltk_data]   Unzipping corpora/stopwords.zip.\n",
            "[nltk_data] Downloading package punkt to /root/nltk_data...\n",
            "[nltk_data]   Unzipping tokenizers/punkt.zip.\n",
            "[nltk_data] Downloading package punkt_tab to /root/nltk_data...\n",
            "[nltk_data]   Unzipping tokenizers/punkt_tab.zip.\n"
          ]
        }
      ],
      "source": [
        "import kagglehub\n",
        "import os\n",
        "import shutil\n",
        "import pandas as pd\n",
        "import matplotlib.pyplot as plt\n",
        "import seaborn as sns\n",
        "import numpy as np\n",
        "import re\n",
        "from nltk.corpus import stopwords\n",
        "import nltk\n",
        "nltk.download('stopwords')\n",
        "nltk.download('punkt')\n",
        "nltk.download('punkt_tab')\n",
        "from nltk.tokenize import sent_tokenize # Changed 'sent_tokeniz' to 'sent_tokenize'from sklearn.feature_extraction.text import TfidfVectorizer\n",
        "from wordcloud import WordCloud\n",
        "from textblob import TextBlob\n"
      ]
    },
    {
      "cell_type": "markdown",
      "metadata": {
        "id": "Vl8jLy53oYb8"
      },
      "source": [
        "# Load Data"
      ]
    },
    {
      "cell_type": "code",
      "execution_count": null,
      "metadata": {
        "colab": {
          "base_uri": "https://localhost:8080/"
        },
        "id": "HaBs0NrzSZGy",
        "outputId": "0d770bce-144a-45b8-a943-8c642a9d04ee"
      },
      "outputs": [
        {
          "output_type": "stream",
          "name": "stdout",
          "text": [
            "Downloading from https://www.kaggle.com/api/v1/datasets/download/gowrishankarp/newspaper-text-summarization-cnn-dailymail?dataset_version_number=2...\n"
          ]
        },
        {
          "output_type": "stream",
          "name": "stderr",
          "text": [
            "100%|██████████| 503M/503M [00:07<00:00, 75.0MB/s]"
          ]
        },
        {
          "output_type": "stream",
          "name": "stdout",
          "text": [
            "Extracting files...\n"
          ]
        },
        {
          "output_type": "stream",
          "name": "stderr",
          "text": [
            "\n"
          ]
        },
        {
          "output_type": "stream",
          "name": "stdout",
          "text": [
            "Path to dataset files: /root/.cache/kagglehub/datasets/gowrishankarp/newspaper-text-summarization-cnn-dailymail/versions/2\n"
          ]
        }
      ],
      "source": [
        "# Download latest version\n",
        "path = kagglehub.dataset_download(\"gowrishankarp/newspaper-text-summarization-cnn-dailymail\")\n",
        "\n",
        "print(\"Path to dataset files:\", path)"
      ]
    },
    {
      "cell_type": "code",
      "source": [
        "pip install rouge-score\n"
      ],
      "metadata": {
        "colab": {
          "base_uri": "https://localhost:8080/"
        },
        "id": "KgaPQFysLSUz",
        "outputId": "5461b113-4825-45b0-a501-23c9bd922415"
      },
      "execution_count": null,
      "outputs": [
        {
          "output_type": "stream",
          "name": "stdout",
          "text": [
            "Collecting rouge-score\n",
            "  Downloading rouge_score-0.1.2.tar.gz (17 kB)\n",
            "  Preparing metadata (setup.py) ... \u001b[?25l\u001b[?25hdone\n",
            "Requirement already satisfied: absl-py in /usr/local/lib/python3.11/dist-packages (from rouge-score) (1.4.0)\n",
            "Requirement already satisfied: nltk in /usr/local/lib/python3.11/dist-packages (from rouge-score) (3.9.1)\n",
            "Requirement already satisfied: numpy in /usr/local/lib/python3.11/dist-packages (from rouge-score) (1.26.4)\n",
            "Requirement already satisfied: six>=1.14.0 in /usr/local/lib/python3.11/dist-packages (from rouge-score) (1.17.0)\n",
            "Requirement already satisfied: click in /usr/local/lib/python3.11/dist-packages (from nltk->rouge-score) (8.1.8)\n",
            "Requirement already satisfied: joblib in /usr/local/lib/python3.11/dist-packages (from nltk->rouge-score) (1.4.2)\n",
            "Requirement already satisfied: regex>=2021.8.3 in /usr/local/lib/python3.11/dist-packages (from nltk->rouge-score) (2024.11.6)\n",
            "Requirement already satisfied: tqdm in /usr/local/lib/python3.11/dist-packages (from nltk->rouge-score) (4.67.1)\n",
            "Building wheels for collected packages: rouge-score\n",
            "  Building wheel for rouge-score (setup.py) ... \u001b[?25l\u001b[?25hdone\n",
            "  Created wheel for rouge-score: filename=rouge_score-0.1.2-py3-none-any.whl size=24935 sha256=9769ce2b9c600cd93004ec4885380b86d1c16e200f6e205cd6b66a2d38311c71\n",
            "  Stored in directory: /root/.cache/pip/wheels/1e/19/43/8a442dc83660ca25e163e1bd1f89919284ab0d0c1475475148\n",
            "Successfully built rouge-score\n",
            "Installing collected packages: rouge-score\n",
            "Successfully installed rouge-score-0.1.2\n"
          ]
        }
      ]
    },
    {
      "cell_type": "code",
      "execution_count": null,
      "metadata": {
        "colab": {
          "base_uri": "https://localhost:8080/"
        },
        "id": "qnUB_NNmXElA",
        "outputId": "c1dff871-84c0-443f-d421-9795b1e0d3cf"
      },
      "outputs": [
        {
          "output_type": "stream",
          "name": "stdout",
          "text": [
            "Files in the dataset folder:\n",
            "['cnn_dailymail']\n"
          ]
        }
      ],
      "source": [
        "# عرض الملفات في المسار الذي تم تحميل البيانات فيه\n",
        "print(\"Files in the dataset folder:\")\n",
        "print(os.listdir(path))\n"
      ]
    },
    {
      "cell_type": "code",
      "execution_count": null,
      "metadata": {
        "colab": {
          "base_uri": "https://localhost:8080/"
        },
        "id": "4pLYCy0Fd-4S",
        "outputId": "148ad18f-cafd-48d8-c96f-ba3d5b4780da"
      },
      "outputs": [
        {
          "output_type": "stream",
          "name": "stdout",
          "text": [
            "Files inside 'cnn_dailymail':\n",
            "['validation.csv', 'train.csv', 'test.csv']\n"
          ]
        }
      ],
      "source": [
        "# عرض الملفات داخل مجلد cnn_dailymail\n",
        "data_folder = os.path.join(path, \"cnn_dailymail\")\n",
        "print(\"Files inside 'cnn_dailymail':\")\n",
        "print(os.listdir(data_folder))\n"
      ]
    },
    {
      "cell_type": "code",
      "execution_count": null,
      "metadata": {
        "colab": {
          "base_uri": "https://localhost:8080/"
        },
        "collapsed": true,
        "id": "vGWIKsWJq3EE",
        "outputId": "0c8d447d-0ea0-4423-fccf-d5bc79a6d65a"
      },
      "outputs": [
        {
          "output_type": "stream",
          "name": "stdout",
          "text": [
            "Data moved to: /content/data\n"
          ]
        }
      ],
      "source": [
        "# تحديد المسار الذي تم تنزيل البيانات إليه\n",
        "downloaded_path = path  # المسار الذي تم تنزيل البيانات إليه\n",
        "\n",
        "# تحديد المسار الجديد في /content\n",
        "new_path = \"/content/data\"\n",
        "\n",
        "# التحقق مما إذا كان المسار الجديد موجودًا بالفعل\n",
        "if os.path.exists(new_path):\n",
        "    # إذا كان موجودًا، احذفه باستخدام shutil.rmtree\n",
        "    shutil.rmtree(new_path)\n",
        "\n",
        "# نقل البيانات إلى /content\n",
        "shutil.move(downloaded_path, new_path)\n",
        "\n",
        "print(\"Data moved to:\", new_path)"
      ]
    },
    {
      "cell_type": "code",
      "execution_count": null,
      "metadata": {
        "colab": {
          "base_uri": "https://localhost:8080/"
        },
        "id": "K_Q6_XrIuAhN",
        "outputId": "0c545819-659c-4d62-d936-9421ffd390e3"
      },
      "outputs": [
        {
          "output_type": "stream",
          "name": "stdout",
          "text": [
            "cnn_dailymail\n"
          ]
        }
      ],
      "source": [
        "!ls /content/data"
      ]
    },
    {
      "cell_type": "code",
      "execution_count": null,
      "metadata": {
        "colab": {
          "base_uri": "https://localhost:8080/"
        },
        "collapsed": true,
        "id": "6FZubGgRutEW",
        "outputId": "7c502b6f-9bf3-4c96-be0b-c7a4f4689bef"
      },
      "outputs": [
        {
          "output_type": "stream",
          "name": "stdout",
          "text": [
            "                                         id  \\\n",
            "0  0001d1afc246a7964130f43ae940af6bc6c57f01   \n",
            "1  0002095e55fcbd3a2f366d9bf92a95433dc305ef   \n",
            "2  00027e965c8264c35cc1bc55556db388da82b07f   \n",
            "3  0002c17436637c4fe1837c935c04de47adb18e9a   \n",
            "4  0003ad6ef0c37534f80b55b4235108024b407f0b   \n",
            "\n",
            "                                             article  \\\n",
            "0  By . Associated Press . PUBLISHED: . 14:11 EST...   \n",
            "1  (CNN) -- Ralph Mata was an internal affairs li...   \n",
            "2  A drunk driver who killed a young woman in a h...   \n",
            "3  (CNN) -- With a breezy sweep of his pen Presid...   \n",
            "4  Fleetwood are the only team still to have a 10...   \n",
            "\n",
            "                                          highlights  \n",
            "0  Bishop John Folda, of North Dakota, is taking ...  \n",
            "1  Criminal complaint: Cop used his role to help ...  \n",
            "2  Craig Eccleston-Todd, 27, had drunk at least t...  \n",
            "3  Nina dos Santos says Europe must be ready to a...  \n",
            "4  Fleetwood top of League One after 2-0 win at S...  \n"
          ]
        }
      ],
      "source": [
        "\n",
        "# تحميل بيانات التدريب\n",
        "train_data = pd.read_csv('/content/data/cnn_dailymail/train.csv')\n",
        "test_data = pd.read_csv('/content/data/cnn_dailymail/test.csv')\n",
        "validation_data = pd.read_csv('/content/data/cnn_dailymail/validation.csv')\n",
        "\n",
        "\n",
        "# عرض أول بضعة صفوف من البيانات\n",
        "print(train_data.head())"
      ]
    },
    {
      "cell_type": "code",
      "execution_count": null,
      "metadata": {
        "colab": {
          "base_uri": "https://localhost:8080/"
        },
        "collapsed": true,
        "id": "6gi3_Eu6pkHL",
        "outputId": "820dbba1-3be8-4fff-ca89-fb62fc2d32dd"
      },
      "outputs": [
        {
          "output_type": "stream",
          "name": "stdout",
          "text": [
            "                                         id  \\\n",
            "0  0001d1afc246a7964130f43ae940af6bc6c57f01   \n",
            "1  0002095e55fcbd3a2f366d9bf92a95433dc305ef   \n",
            "2  00027e965c8264c35cc1bc55556db388da82b07f   \n",
            "3  0002c17436637c4fe1837c935c04de47adb18e9a   \n",
            "4  0003ad6ef0c37534f80b55b4235108024b407f0b   \n",
            "\n",
            "                                             article  \\\n",
            "0  By . Associated Press . PUBLISHED: . 14:11 EST...   \n",
            "1  (CNN) -- Ralph Mata was an internal affairs li...   \n",
            "2  A drunk driver who killed a young woman in a h...   \n",
            "3  (CNN) -- With a breezy sweep of his pen Presid...   \n",
            "4  Fleetwood are the only team still to have a 10...   \n",
            "\n",
            "                                          highlights  \n",
            "0  Bishop John Folda, of North Dakota, is taking ...  \n",
            "1  Criminal complaint: Cop used his role to help ...  \n",
            "2  Craig Eccleston-Todd, 27, had drunk at least t...  \n",
            "3  Nina dos Santos says Europe must be ready to a...  \n",
            "4  Fleetwood top of League One after 2-0 win at S...  \n",
            "<class 'pandas.core.frame.DataFrame'>\n",
            "RangeIndex: 287113 entries, 0 to 287112\n",
            "Data columns (total 3 columns):\n",
            " #   Column      Non-Null Count   Dtype \n",
            "---  ------      --------------   ----- \n",
            " 0   id          287113 non-null  object\n",
            " 1   article     287113 non-null  object\n",
            " 2   highlights  287113 non-null  object\n",
            "dtypes: object(3)\n",
            "memory usage: 6.6+ MB\n",
            "None\n",
            "id            0\n",
            "article       0\n",
            "highlights    0\n",
            "dtype: int64\n"
          ]
        }
      ],
      "source": [
        "# عرض أول بضعة صفوف من بيانات التدريب\n",
        "print(train_data.head())\n",
        "\n",
        "# الحصول على معلومات عامة عن البيانات\n",
        "print(train_data.info())\n",
        "\n",
        "# التحقق من وجود قيم مفقودة\n",
        "print(train_data.isnull().sum())"
      ]
    },
    {
      "cell_type": "code",
      "execution_count": null,
      "metadata": {
        "colab": {
          "base_uri": "https://localhost:8080/"
        },
        "collapsed": true,
        "id": "GWpyFw4bxPRO",
        "outputId": "52e19d94-1059-408a-9d07-9926854072a4"
      },
      "outputs": [
        {
          "output_type": "stream",
          "name": "stdout",
          "text": [
            "       article_length  summary_length\n",
            "count   287113.000000   287113.000000\n",
            "mean      4033.660865      294.770390\n",
            "std       1954.339234      120.197405\n",
            "min         48.000000       14.000000\n",
            "25%       2583.000000      218.000000\n",
            "50%       3682.000000      280.000000\n",
            "75%       5117.000000      342.000000\n",
            "max      15925.000000     7388.000000\n",
            "       article_length  summary_length\n",
            "count    11490.000000    11490.000000\n",
            "mean      3967.077807      311.927241\n",
            "std       2024.843965      128.027548\n",
            "min        293.000000       51.000000\n",
            "25%       2432.000000      223.000000\n",
            "50%       3563.000000      290.000000\n",
            "75%       5076.750000      359.000000\n",
            "max      11991.000000     3410.000000\n",
            "       article_length  summary_length\n",
            "count    13368.000000    13368.000000\n",
            "mean      3923.831912      328.033513\n",
            "std       1992.463205      146.304859\n",
            "min        245.000000       52.000000\n",
            "25%       2404.000000      229.000000\n",
            "50%       3523.000000      299.000000\n",
            "75%       5041.000000      386.000000\n",
            "max      11412.000000     8541.000000\n"
          ]
        }
      ],
      "source": [
        "# حساب طول النصوص والتلخيصات\n",
        "train_data['article_length'] = train_data['article'].apply(len)\n",
        "train_data['summary_length'] = train_data['highlights'].apply(len)\n",
        "\n",
        "test_data['article_length'] = test_data['article'].apply(len)\n",
        "test_data['summary_length'] = test_data['highlights'].apply(len)\n",
        "\n",
        "validation_data['article_length'] = validation_data['article'].apply(len)\n",
        "validation_data['summary_length'] = validation_data['highlights'].apply(len)\n",
        "\n",
        "# عرض الإحصائيات\n",
        "print(train_data[['article_length', 'summary_length']].describe())\n",
        "print(test_data[['article_length', 'summary_length']].describe())\n",
        "print(validation_data[['article_length', 'summary_length']].describe())"
      ]
    },
    {
      "cell_type": "code",
      "execution_count": null,
      "metadata": {
        "colab": {
          "base_uri": "https://localhost:8080/",
          "height": 600
        },
        "collapsed": true,
        "id": "wBVKNOaRnd10",
        "outputId": "bd23d2bd-27f5-4e06-c43e-dd9f9e5dd340"
      },
      "outputs": [
        {
          "output_type": "stream",
          "name": "stderr",
          "text": [
            "<ipython-input-11-1fb8432e3d25>:2: MatplotlibDeprecationWarning: The 'labels' parameter of boxplot() has been renamed 'tick_labels' since Matplotlib 3.9; support for the old name will be dropped in 3.11.\n",
            "  plt.boxplot([train_data['article_length'], train_data['summary_length']], labels=['Article Length', 'Summary Length'])\n"
          ]
        },
        {
          "output_type": "display_data",
          "data": {
            "text/plain": [
              "<Figure size 1000x600 with 1 Axes>"
            ],
            "image/png": "[encoded data removed]"
          },
          "metadata": {}
        }
      ],
      "source": [
        "plt.figure(figsize=(10, 6))\n",
        "plt.boxplot([train_data['article_length'], train_data['summary_length']], labels=['Article Length', 'Summary Length'])\n",
        "plt.title('Distribution of Article and Summary Lengths')\n",
        "plt.ylabel('Length (Characters)')\n",
        "plt.grid(axis='y')\n",
        "\n",
        "# إضافة خط للمتوسط\n",
        "plt.axhline(train_data['article_length'].mean(), color='blue', linestyle='--', label='Average Article Length')\n",
        "plt.axhline(train_data['summary_length'].mean(), color='orange', linestyle='--', label='Average Summary Length')\n",
        "plt.legend()\n",
        "plt.show()"
      ]
    },
    {
      "cell_type": "code",
      "execution_count": null,
      "metadata": {
        "colab": {
          "base_uri": "https://localhost:8080/"
        },
        "id": "q5NeKLj2MQLz",
        "outputId": "b37f4774-dfef-49b1-f1b6-3d974591d270"
      },
      "outputs": [
        {
          "output_type": "stream",
          "name": "stdout",
          "text": [
            "Sample data:\n",
            "Article 167668: By . Ted Thornhill . PUBLISHED: . 09:33 EST, 7 October 2013 . | . UPDATED: . 11:46 EST, 7 October 2013 . An elderly British couple have been knocked down and killed in America whilst trying to cross a five lane freeway in America to reach a roadside diner. Edward McElroy, 76, and his 70-year old wife Brenda were thought to have been walking hand-in-hand when they were hit by a pick-up truck - just 24 hours after they arrived in the US for a last-minute 'fly drive' holiday. A nurse attempted to give first aid to the couple, but both were pronounced dead at the scene having been killed instantly. Tragedy: Brenda and Edward McElroy from Blackpool, Lancashire, who have been killed in a horror crash while on holiday in America . Retired loss adjuster Mr McElroy, known as Ted, and his wife, a former customer services advisor, had travelled to West Virginia where ‘leaf peepers’ were visiting to marvel at the changing colours of the tree-filled landscapes in Autumn. The couple, from Blackpool, Lancashire, who have three children and three grandchildren, booked into a Best Western hotel in Barboursville and tragedy struck as they were crossing the road to get to a restaurant which had been recommended to them. Their eldest daughter Gillian, 49, has now flown to the US to arrange for the bodies to be repatriated back to England. On Monday Mrs McElroy's sister Eileen Dobson, 65, said: ‘We're all devastated and so sad especially after we saw them only last week for Ted's birthday. ‘They were so excited and were telling us about the trip. I asked if they were looking forward to it and they said they couldn't wait. It's heart-breaking - they were so full of life.’ She added: ‘Ted and Brenda had initially booked a holiday to go and stay with a friend in Kentucky but they couldn't go because the friend had a stroke and wasn't well enough to put them up. ‘When they came to try and change the flight it was going to cost them a lot of money so they booked a fly/drive holiday. It was a last-minute decision. They were planning to go all the way across West Virginia. Heart-breaking: The couple were described as being 'so full of life' ‘I didn't want them to go at all. Instead of rebooking those flights where you don't know where you're going I thought they should have gone to Cornwall and I just felt it was jinxed from the start. ‘But they loved America and were determined to go. They did everything together.’ ‘Personally I can't believe they've essentially crossed a motorway in the dark. Normally they're sensible people who are always so aware of their surroundings so I just can't understand what's happened. ‘It was a five-lane freeway. Apparently it is a notoriously dangerous place to cross and local residents were campaigning to get lights put there. ‘You just wouldn't cross a motorway here so why do it in America.’Mr and Mrs McElroy were seasoned travellers, visiting several parts of the world. The couple originally met at a yacht club and later married in Canada. He worked across the world as a loss adjuster in locations as diverse as London, Nigeria and Canada. Later in his career, Mr McElroy, a model railway enthusiast, was employed as a civil servant for the Department of Work and Pensions. The couple were members of a crown green bowling club and were involved in amateur dramatics. Mrs Dobson added: ‘Brenda and Ted used to like doing different things and liked visiting friends and making friends. They were very outgoing. Keen travellers: The couple had arrived in Barboursville on a last-minute fly-drive holiday . ‘They loved socialising and entertaining and they always had two holidays a year. They had done the Great Wall of China and went on a cruise round Norway this Spring. ‘They had only just got to Barboursville when it happened. They set off at 6am from Manchester to West Virginia so I would think that they didn't get there until late at night, so they couldn't have done much because they would have just got there and picked up a car. They would have been very tired and they may have had a glass of wine. ‘Their advanced ages were on my mind when they said they were going there. I know how tiring a long-haul journey like that is. ‘I said it's such a long way and I asked if they were sure about it. I wanted them to stay in this country but they were so used to going out on these exotic holidays. ‘She said this would be the last holiday and it just shows you have to be careful what you say because it was their last one. The crash happened at 8.15pm local time on Tuesday of last week. The manager of the Best Western motel, where the couple were staying, was reported to have said the McElroys had gone to the front desk minutes before the accident to ask where they could go for dinner. The eastbound lanes of the road - known as Route 60 - were closed for several hours while police and ambulance crews attended the scene. The driver of the pick-up truck - a 56-year-old woman - was treated for shock in hospital after the incident. Police said there were no charges pending against the driver. The mayor of Barboursville, Paul Turman, said he would talk to the department of highways to see if any lessons could be learned from the tragedy. He said: ‘One thing that has come up that would be helpful is to try and help with the lighting in the area. It's unfortunate and we are saddened by it.’ A spokesman for the Foreign and Commonwealth Office said: ‘We are aware of the deaths of Edward and Brenda McElroy in the US. We are in contact and are providing consular assistance.’ West Virginia is a popular tourist destination in September and October for ‘leaf peepers’, who visit to marvel at the changing colours of the tree-filled landscapes in Autumn. Nearly 80 per cent of West Virginia is covered in trees and ‘fall driving tours’ are a popular tourist attraction. The trips are so popular that the West Virginia Division of Forestry provides weekly ‘fall foliage reports’, which includes maps of autumn colour by county and a ‘foliage colouration guide’ by tree species.\n",
            "Summary: Edward McElroy, 76, and his wife, Brenda, were killed in West Virginia .\n",
            "They were struck by a truck and both died at the scene in Barboursville .\n",
            "They had gone to America for a last-minute fly-drive holiday .\n",
            "\n",
            "Article 259775: At least 40 people have been killed in a wave of sectarian car bombings across Iraq. Shiite neighbourhoods of Baghdad and the southern city of Basra were targeted as bombers struck at market places and crowded bus stops during the busy morning hours, officials said. The attacks, which left dozens of people injured, are the latest in a recent spike of bombings that has hit both Sunni and Shiite civilian targets over the past week. Wreckage: Civilians gather at the site of a car bomb attack in front of a crowded restaurant in Basra in southeast Iraq. Two car bombs left dozens killed and injured in the city today . Tensions: Iraqi security forces gather at the site of the car bomb. The attacks are believed to have targeted Shiite areas as sectarian tensions heighten across the country . Terror: A shocked woman is left in tears as civilians peer at the destruction left by the bomb attack in Basra . The bloodshed has raised fears of a return to the widespread sectarian violence of 2006-2007 that brought the country to the edge of civil war. In the Iraqi capital, nine car bombs went off at bus stops, open-air markets and in the streets of Shiite areas, killing 27 people and wounding 116, according to police officials. The deadliest attacks came in the northern Sabi al-Boor neighborhood and in Baghdad's eastern suburb of Kamaliya. Seven people were killed in each of those attacks. In the southern city of Basra, two car bombs - one near a restaurant and the other at the city's main bus station - killed at least 13 and wounded 40, according to the provincial police spokesman, Col. Abdul-Karim al-Zaidi, and the head of city's health directorate, Riadh Abdul-Amir. The blast at the Basra bus station ripped through food stalls that serve falafel and eggs to travelers. Slippers lay scattered on the bloodstained pavement. Aftermath: Civilians gather at the scene of another car bomb attack in Kamaliyah, a predominantly Shiite area of eastern Baghdad . Shock: A boy on a bike joins other onlookers at the scene of the bombing in Kamaliyah. The country's Sunni minority has held recent protests against alleged abuse and neglect by the majority Shiite government . Destruction: A vehicle lies on its side following the bombing in Baghdad. There are fears a recent spike in sectarian violence will destabilise the country . A Basra resident, Talib Dakhil, said he was at the station when the explosion went off. 'This will not discourage us from continuing our life,' he said. 'We will continue challenging terrorism, whatever happens.' No one immediately claimed responsibility for the blasts but such large-scale bombings bear the hallmarks of al-Qaida in Iraq. Hospital officials in Baghdad and Basra confirmed the casualty tolls. All the officials spoke on condition of anonymity because they were not authorized to talk to the media. In Baghdad, Malik Ibrahim blamed the government and political parties for the bloodshed and the lack of security in the country. 'How long do we have to continue living like this, with all the lies from the government,' asked the 23-year-old Baghdad resident. 'Whenever they say they have reached a solution, the bombings come back stronger than before. We're fed up with them and we can't tolerate this anymore,' he added. Fear: The attacks in Baghdad (pictured) and in Basra have led to fears of a return to the dark days when the country appeared on the brink of civil war . Force: A boy looks at the shattered remains of a vehicle caught in the Baghdad bomb attack. The force of the explosion destroyed most of the vehicle . Tensions have been intensifying in Iraq since the country's minority since Sunnis began protesting what they say is mistreatment at the hands of the Shiite-led government, including random detentions and neglect. The protests, which began in December, have largely been peaceful, but the number of attacks rose sharply after a deadly security crackdown on a Sunni protest camp in the country's north on April 23. Majority Shiites control the levers of power in post-Saddam Hussein Iraq. Wishing to rebuild the nation rather than revert to open warfare, they have largely restrained their militias over the past five years or so as Sunni extremist groups such as al-Qaida have targeted them with occasional large-scale attacks.\n",
            "Summary: Bombers target Shiite neighbourhoods in Baghdad and Basra .\n",
            "Fears of return to widespread sectarian violence .\n",
            "No group has yet claimed responsibility for the blasts .\n",
            "\n",
            "Article 213723: (CNN) -- Lady Gaga announced that she's going to sing in space. Everyone is raving about \"Gravity,\" the new movie starring Sandra Bullock and George Clooney as astronauts in orbit. And India just launched its first Mars mission on Thursday. Clearly, we Earthlings are still madly in love with space. But what about the moon? It's sad how far America has fallen in our space aspirations. So far that we can't even get into Earth orbit without help from the Russians, let alone get back to the moon. But NASA is trying to get back in the game. Two months after launch, its Lunar Atmosphere and Dust Environment Explorer -- LADEE, pronounced \"laddie\" -- has finished its looping journey and it is gathering important information about the moon's dust and thin atmosphere. Already, this modular spacecraft has tested a new system for interplanetary communication using pulsed lasers, delivering a blistering 622 megabits per second. Try getting that from your Internet service provider. LADEE is a worthy mission, but it's a far cry from the romance and ambition of space exploration 50 years ago. When Frank Sinatra released a swing version of \"Fly Me to the Moon\" in 1964, the song captured the optimism of the U.S. space program. President John Kennedy had challenged the country to a manned moon landing three years earlier and NASA's budget rose by a factor of five to accomplish the goal. The moon landings were a phenomenal achievement. Even knowing that they were motivated by a rivalry with the Soviets and fueled by an unsustainable budget didn't tarnish their luster. The Saturn V was the largest and most powerful rocket ever built, and the Apollo program was the most technically complex human undertaking in history. Two dozen brave and daring astronauts reached their target with computer processors less powerful than those inside our modern-day smartphones. The 12 who loped across the lunar soil are the only people to set foot on another world. Today, the Apollo moon shots fade and flicker in the public consciousness, like the grainy black-and-white TV images that many of us recall from just over 44 years ago. About 6% of the American public thought the moon landings were a hoax, despite high resolution images that show the landers and tracks left by the rovers, and ongoing scientific experiments using the hardware we left behind. I used to get annoyed at the Apollo deniers. (Buzz Aldrin at least managed to get even; YouTube videos where he decks conspiracy theorist and filmmaker Bart Sibrel have been watched more than half a million times). Then I realized that a list of things that one in 10 Americans believes would include some pretty outrageous things. But willful cultural ignorance is sad. New players are stepping into the vacuum. Google announced the Lunar X Prize in 2007, riffing off the successful Ansari XPRIZE, where private teams were challenged to build a reusable spacecraft to reach the boundary of outer space. A $20 million prize will go to the first team to land a robot on the moon that can travel 500 meters and transmit images and video. Twenty teams are still in the running. The competition expires when all the prizes have been claimed or at the end of 2015, whichever comes first. China is likely to beat all these teams to the punch. A few weeks ago the Chinese announced that the Chang'e 3 lunar rover will be launched by the end of the year. If successful, it would be the first soft landing on the moon since the Russian Luna 24 in 1976. Less than a decade old, China's space program is well-funded and aggressive. China has put 15 astronauts in orbit and plans to complete a 60-ton space station by 2020. Following Chang'e 3, they plan sample return by 2020 and a manned landing by 2025. So, more than half a century after Eugene Cernan left the last human footprint on the moon, the next may be made by someone who speaks Mandarin. Meanwhile, other countries are getting into the act. The European Space Agency has long-term plans to send robots and astronauts to the moon. Japan and India also have advanced plans for lunar rovers. The United States led the world in space but NASA is cooling its heels, with a vision that has shrunk along with its budget. America's space program would be best served by continuing the mission started 50 years ago. The moon still has much to teach us about how the solar system and the Earth formed. It's not the sterile place we once thought; there's enough water and oxygen in the soil to easily sustain a base. It's the perfect place for learning how to live and work beyond the Earth. When Sinatra performed \"Fly Me to the Moon\" on his TV show in 1969 he dedicated it to the Apollo astronauts \"who made the impossible possible.\" LADEE was designed to characterize the lunar environment in preparation for future human missions. But the Constellation Program that would have gotten us back to the Moon was canceled in 2010. LADEE will set the table but no one's coming to dinner. By partnering with other countries or private sector companies, NASA can rekindle the dream and fulfill our destiny to explore beyond our planet. The opinions expressed in this commentary are solely those of Chris Impey.\n",
            "Summary: Chris Impey: It's sad how far America has fallen in our moon aspirations .\n",
            "Impey: NASA is trying to get back in the game with the launch of LADEE .\n",
            "He says other countries and private companies are more ambitious in exploring .\n",
            "Impey: The moon has much to teach us, let's continue the mission started 50 years ago .\n",
            "\n",
            "Article 186789: Ajax were gifted victory at Go Ahead Eagles in the Eredivisie on Sunday after their on-loan goalkeeper, Mickey van der Hart, assisted a bizarre own goal for the home side. With the score locked at 1-1, Van der Hart completely missed his kick when receiving a back pass from Wesley Verhoek and allowed the ball to roll into his empty net. It was a deeply embarrassing moment for the young stopper against his parent club and cost his current side a precious point as they hover precariously just one place and three points above the relegation zone. Wesley Verhoek plays a seemingly harmless back pass to his goalkeeper from midfield . Mickey van der Hart, on loan from Ajax, comes out to meet the pass . He misses his kick though, and the ball rolls into the net . Van der Hart is helpless and cannot get back in time . The young goalkeeper bites at his shirt in frustration . Go Ahead Eagles midfielder Deniz Turuc falls to his knees after the howler gifts Ajax victory . On-loan goalkeeper Mickey van der Hart looks dejected after letting in a late winner against his parent club . Ajax have won the last four Eredivisie league titles, but this year's defence is looking a little shaky . Ajax, meanwhile are second in the table with 46 points from 22 games, but are 12 off the pace of league leaders PSV Eindhoven. The Amsterdam club had broken the deadlock against The Eagles in the 24th miute with Ricardo Kishna powering down the flank before pulling the ball back to Anwar El Ghazi, who prodded home from close range. Go Ahead leveled midway through the second-half when Sjoerd Overgoor let rip with a shot from 25 yards that flew into the top corner. But just as a draw was looking likely, Van der Hart's error proved costly for the hosts. The gaffe has already become a viral sensation and there are plenty of conspiracy theories doing the rounds on internet message boards as to how convenient the mistake seems for Frank de Boer's side. The theories, however, are purely speculative, and it seems more likely that this was simply another freakish moment in football that those involved will want to forget, but fans will always remember. Former England goalkeeper Paul Robinson misses Gary Neville's back pass in 2006 against Croatia . In 2006, former England goalkeeper Paul Robinson experienced a similar fate to Van der Haart, missing his kick from Gary Neville's back pass as The Three Lions slumped to a 2-0 defeat against Croatia. Ajax have won the previous four Dutch titles, but this year's defence is looking a little frail with PSV so far out in front. De Boer has been widely linked with an exit from the club at the end of the season, with Premier League side Newcastle United being mooted as a potential destination. Go Ahead Eagles are 15th in the Eredivisie table and just three points above the relegation zone . Ajax boss Frank de Boer is thought to be leaving the club this summer with Newcastle a potential destination .\n",
            "Summary: Ajax secure 2-1 win at Go Ahead Eagles after Mickey van der Hart mistake .\n",
            "The 20-year-old goalkeeper is actually on loan from Ajax .\n",
            "He missed his kick from a team-mate's pass and the ball rolled into the net .\n",
            "Wesley Verhoek was credited with an own goal .\n",
            "Ajax are second in the Eredivisie, 12 points behind leaders PSV .\n",
            "Go Ahead Eagles are battling relegation and are 15th in the table .\n",
            "\n",
            "Article 256483: By . Ted Thornhill . PUBLISHED: . 03:26 EST, 4 October 2013 . | . UPDATED: . 08:15 EST, 4 October 2013 . A bride who claimed that the cliff-fall death of her husband of just eight days was an accident was charged with murder by a grand jury on Thursday. Jordan Linn Graham will today make a plea to magistrates in a Missoula court against charges of first and second-degree murder and making false statements in the death of Cody L Johnson. In a rage, Graham is said to have pushed Mr Johnson, 25, with both hands in his back, sending him tumbling hundreds of feet over a sheer cliff edge at Glacier National Park in Montana, US. Happier times: Jordan and Cody Johnson got married eight days before she allegedly pushed him to his death . The area is so rugged a helicopter had to be used to recover the body. It emerged recently that a singer . created a custom song for the newlywed couple with lyrics about falling . and climbing up hills that seem spooky to her in light of the court case. Graham, 22, has . been under house arrest and fitted with a GPS monitoring bracelet . while staying at her parents' Kalispell, Montana home. The revelations about the seemingly prophetic song adds another layer of intrigue to the case, as the woman who wrote the song said that she came up with the lyrics based on a series of interviews with the couple before their wedding. 'I used words like \"you helped me to climb higher for a better view, you're my safe place to fall, you never let me go,\"' songwriter Elizabeth Shea told CNN. 'Now when I hear those words, it's a little creepy.' Influence: The songwriter says that she interviewed the couple and met with Jordan before coming up with the lyrics, that now seem eerily prophetic in light of the way how Cody died . Jordan Linn Graham, 22, (left) was allegedly having second thoughts about getting married around the time the body of her husband, Cody Lee Johnson, 25, (right) was discovered . Authorities say Graham has admitted to shoving Cody Lee Johnson, 25, off a cliff in Glacier on the night of July 7 during an argument. According to charging documents Graham had been having second thoughts about getting married around the time the body of her husband was discovered. Songwriter: Elizabeth Shea came up with the lyrics based on interviews she had with the couple before the wedding . Prosecutors revealed that an email was allegedly sent from a man named 'Tony' while Graham's husband was still missing. The email, sent three days after Cody Lee Johnson went missing, claimed he had fallen and died after going hiking with three friends. According to the affidavit, the message also suggested 'the search should be called off', according to the Missoulian. Graham (left) 'pushed Johnson (right) with both hands in the back, and as a result, he fell face first off the cliff,' an affidavit states . Jordan Graham, who goes by 'JoJo' is pictured on her wedding day . Family friend Tracey Maness told the Missoulian that Johnson was excited about his wedding and in love with Graham . However, the email was traced to a . computer belonging to Graham's stepfather Steven Rutledge, and it was found . to have been written on the day the gmail account it was sent from was . created, FBI Special Agent Steven Liss said. She made her confession to . police only after this email had been sent. Her . 25-year-old husband died on July 7 and Graham allegedly confessed to . pushing him on July 16, but she wasn't arrested on second-degree murder . charges until Monday. When . she interviewed by the police on July 18, Graham admitted that she had . lied about the death of her husband and provided false statements, . according to ABC News. Graham posted this photo around the time of Cody Johnson's death. She said she was doing some 'modeling' after a night of bowling . Graham posted this photo to Instagram in December 2012 with the caption: 'He proposed!! Best early Christmas present ever!! :)' Sorry we are unable to accept comments for legal reasons.\n",
            "Summary: Jordan Linn Graham, 22, will enter a plea at a Missoula court .\n",
            "She told FBI she had been arguing with her husband, 25-year-old Cody Lee Johnson as they walked in Glacier National Park .\n",
            "Graham said Johnson grabbed her arm, then she turned around and 'pushed Johnson with both hands in the back, and as a result, he fell face first off the cliff'\n",
            "\n"
          ]
        }
      ],
      "source": [
        "print(\"Sample data:\")\n",
        "sample_data = train_data[['article', 'highlights']].sample(5)\n",
        "for index, row in sample_data.iterrows():\n",
        "    print(f\"Article {index + 1}: {row['article']}\\nSummary: {row['highlights']}\\n\")"
      ]
    },
    {
      "cell_type": "markdown",
      "metadata": {
        "id": "EVJ5ugTWogF5"
      },
      "source": [
        "# المرحلة الأولى: التحضير المسبق للنصوص (Preprocessing)\n",
        "\n"
      ]
    },
    {
      "cell_type": "markdown",
      "metadata": {
        "id": "spN4zVxBDDB_"
      },
      "source": [
        "\n",
        "\n",
        "# تنظيف النصوص (Text Cleaning)"
      ]
    },
    {
      "cell_type": "code",
      "execution_count": null,
      "metadata": {
        "colab": {
          "base_uri": "https://localhost:8080/"
        },
        "collapsed": true,
        "id": "Aor6u-DbJfFP",
        "outputId": "bf654a4c-6ee8-477e-e04d-51e8f793aded"
      },
      "outputs": [
        {
          "output_type": "stream",
          "name": "stdout",
          "text": [
            "Cleaned sample:\n",
            "                                          article_cleaned  \\\n",
            "222151  Change Iain Duncan Smith, pictured, said the b...   \n",
            "108058  CNN  Northern Irelands top police officer on S...   \n",
            "85808   The name Brabham could return to Formula One i...   \n",
            "225847  An effort by the Library of Congress to archiv...   \n",
            "267074  By . Becky Barrow . Holding on to it Figures f...   \n",
            "\n",
            "                                          summary_cleaned  \n",
            "222151  Mr Duncan Smith Everyone should be part of Bri...  \n",
            "108058  NEW Those people had no intention of peaceful ...  \n",
            "85808   David Brabham said he planned to use crowdfund...  \n",
            "225847  Library of Congress has compiled more than 170...  \n",
            "267074  Net lending has fallen 4.3billion since Februa...  \n",
            "                                         article_cleaned  \\\n",
            "93     Cristiano Ronaldo looked in formidable form as...   \n",
            "5148   A timewarp home which has remained unchanged s...   \n",
            "8281   CNNThe onslaught on Houthis rebels in Yemen co...   \n",
            "1931   As a young prisoner of war, he survived the br...   \n",
            "10173  We have all been there. Wanting to get online ...   \n",
            "\n",
            "                                         summary_cleaned  \n",
            "93     Real Madrid face Atletico Madrid in Champions ...  \n",
            "5148   Nondescript semidetached home for sale in Horf...  \n",
            "8281   Saudi minister If wars drums are beaten, we ar...  \n",
            "1931   Greatgrandfather Robert Clark has lived in the...  \n",
            "10173  Cloud appeared in central Chinas Hunan provinc...  \n",
            "                                         article_cleaned  \\\n",
            "10773  CNNThere were three Selma to Montgomery marche...   \n",
            "803    Harry Kane has been named the Barclays Premier...   \n",
            "5153   These are the shocking images which show how p...   \n",
            "12786  CNNFootball is the most widely played sport am...   \n",
            "8910   Leonard Nimoys widow was surrounded and comfor...   \n",
            "\n",
            "                                         summary_cleaned  \n",
            "10773  Ceremonies attended by President Obama to mark...  \n",
            "803    Harry Kane scored four Premier League goals fo...  \n",
            "5153   Tammy Kenyon and her partner were given a hous...  \n",
            "12786  French womens football has long been marginali...  \n",
            "8910   Susan Bay was spotted outside of the Bouchon B...  \n"
          ]
        }
      ],
      "source": [
        "\n",
        "# إزالة النصوص المفقودة\n",
        "train_data.dropna(inplace=True)\n",
        "test_data.dropna(inplace=True)\n",
        "validation_data.dropna(inplace=True)\n",
        "\n",
        "# تنظيف النصوص من الرموز غير المرغوب فيها\n",
        "def clean_text(text):\n",
        "    text = re.sub(r'\\s+', ' ', text)  # إزالة المسافات الزائدة\n",
        "    text = re.sub(r'[^\\w\\s.,]', '', text)  # إزالة الرموز\n",
        "    text = re.sub(r'<[^>]*>', '', text)  # إزالة علامات HTML\n",
        "    text = re.sub(r'[^\\x00-\\x7F]+', ' ', text)  # إزالة الأحرف غير ASCII\n",
        "    text = text.strip()  # إزالة المسافات في البداية والنهاية\n",
        "    return text\n",
        "\n",
        "# تنظيف النصوص والمُلخصات\n",
        "train_data['article_cleaned'] = train_data['article'].apply(clean_text)\n",
        "train_data['summary_cleaned'] = train_data['highlights'].apply(clean_text)\n",
        "\n",
        "# تنظيف النصوص والمُلخصات\n",
        "test_data['article_cleaned'] = test_data['article'].apply(clean_text)\n",
        "test_data['summary_cleaned'] = test_data['highlights'].apply(clean_text)\n",
        "\n",
        "# تنظيف النصوص والمُلخصات\n",
        "validation_data['article_cleaned'] = validation_data['article'].apply(clean_text)\n",
        "validation_data['summary_cleaned'] = validation_data['highlights'].apply(clean_text)\n",
        "\n",
        "# عرض عينة من البيانات بعد التنظيف\n",
        "print(\"Cleaned sample:\")\n",
        "print(train_data[['article_cleaned', 'summary_cleaned']].sample(5))\n",
        "print(test_data[['article_cleaned', 'summary_cleaned']].sample(5))\n",
        "print(validation_data[['article_cleaned', 'summary_cleaned']].sample(5))\n"
      ]
    },
    {
      "cell_type": "code",
      "execution_count": null,
      "metadata": {
        "colab": {
          "base_uri": "https://localhost:8080/"
        },
        "collapsed": true,
        "id": "xhdgXpEaYzum",
        "outputId": "487c896a-0202-432a-bba3-c19324fdea72"
      },
      "outputs": [
        {
          "output_type": "stream",
          "name": "stdout",
          "text": [
            "Cleaned sample:\n",
            "                                          article_cleaned  \\\n",
            "136458  With their faces smeared with boot polish thes...   \n",
            "239185  Entertainment Weekly  Dan Browns The Da Vinci ...   \n",
            "92716   By . Helen Pow . PUBLISHED . 0356 EST, 9 Octob...   \n",
            "278393  By . MailOnline Reporter . Coffee giant Starbu...   \n",
            "44514   By . Daily Mail Reporter . PUBLISHED . 1355 ES...   \n",
            "\n",
            "                                          summary_cleaned  \n",
            "136458  The elite commando unit was made up of America...  \n",
            "239185  EW Dan Browns new novel, The Lost Symbol, does...  \n",
            "92716   Mick McDonald, 50, converted a rusty old VW ca...  \n",
            "278393  The company has spent years denying it sends p...  \n",
            "44514   Young people dont tend to be fans of bones, KF...  \n",
            "Cleaned sample:\n",
            "                                         article_cleaned  \\\n",
            "11025  A young mother and her three children have bee...   \n",
            "6938   Patients who always see the same GP are more l...   \n",
            "5674   CNNNorth Korea is in the headlines again. Acco...   \n",
            "1945   This is the moment Jeremy Clarkson talked hims...   \n",
            "3277   The four sisters caught in the middle of a bat...   \n",
            "\n",
            "                                         summary_cleaned  \n",
            "11025  LaTasha Gosling, 27, of Tisdale, Saskatchewan,...  \n",
            "6938   Bowel cancer patients who saw normal GP diagno...  \n",
            "5674   Report says North Korea may have as many as 20...  \n",
            "1945   Axed Top Gear presenter was seen laughing with...  \n",
            "3277   Four sisters were at the centre of an internat...  \n",
            "Cleaned sample:\n",
            "                                         article_cleaned  \\\n",
            "1855   One of the countrys most influential evangelic...   \n",
            "6955   A police official called a driveby shooting on...   \n",
            "2623   Tragic Fivemonthold Leo Radcliffe died on June...   \n",
            "3122   Tiny robots that can swim in the bloodstream a...   \n",
            "12066  Authorities in Houston, Texas are offering a 5...   \n",
            "\n",
            "                                         summary_cleaned  \n",
            "1855   Bob Jones III said homosexuals should be stone...  \n",
            "6955   Police identified the three victims killed dur...  \n",
            "2623   Fivemonthold Leo Radcliffe was suffering high ...  \n",
            "3122   Team at Harvards Wyss Institute in Massachuset...  \n",
            "12066  A grey pitbull was found roaming the streets o...  \n"
          ]
        }
      ],
      "source": [
        "# إزالة الجمل المكررة داخل النص\n",
        "def remove_repeated_sentences(text):\n",
        "    sentences = text.split('. ')\n",
        "    unique_sentences = list(dict.fromkeys(sentences))  # الاحتفاظ فقط بالجمل الفريدة\n",
        "    return '. '.join(unique_sentences)\n",
        "\n",
        "# تطبيق إزالة التكرار\n",
        "train_data['article_cleaned'] = train_data['article_cleaned'].apply(remove_repeated_sentences)\n",
        "train_data['summary_cleaned'] = train_data['summary_cleaned'].apply(remove_repeated_sentences)\n",
        "\n",
        "test_data['article_cleaned'] = test_data['article_cleaned'].apply(remove_repeated_sentences)\n",
        "test_data['summary_cleaned'] = test_data['summary_cleaned'].apply(remove_repeated_sentences)\n",
        "\n",
        "validation_data['article_cleaned'] = validation_data['article_cleaned'].apply(remove_repeated_sentences)\n",
        "validation_data['summary_cleaned'] = validation_data['summary_cleaned'].apply(remove_repeated_sentences)\n",
        "\n",
        "# عرض عينة من البيانات بعد التنظيف\n",
        "print(\"Cleaned sample:\")\n",
        "print(train_data[['article_cleaned', 'summary_cleaned']].sample(5))\n",
        "\n",
        "# عرض عينة من البيانات بعد التنظيف\n",
        "print(\"Cleaned sample:\")\n",
        "print(test_data[['article_cleaned', 'summary_cleaned']].sample(5))\n",
        "\n",
        "# عرض عينة من البيانات بعد التنظيف\n",
        "print(\"Cleaned sample:\")\n",
        "print(validation_data[['article_cleaned', 'summary_cleaned']].sample(5))\n"
      ]
    },
    {
      "cell_type": "code",
      "execution_count": null,
      "metadata": {
        "colab": {
          "base_uri": "https://localhost:8080/"
        },
        "collapsed": true,
        "id": "pCpN1RIKZyrm",
        "outputId": "a05b60c6-3a54-479c-aaba-4b252a275e61"
      },
      "outputs": [
        {
          "output_type": "stream",
          "name": "stdout",
          "text": [
            "Cleaned sample:\n",
            "                                          article_cleaned  \\\n",
            "278297  cnn  ballistic ecks vs. sever had few fans upo...   \n",
            "96576   cnn  the big lebowski, ferris buellers day off...   \n",
            "18429   by . luke salkeld . published . 1016 est, 4 ju...   \n",
            "169450  an oregon mother says she got sick after eatin...   \n",
            "134041  new haven, connecticut cnn  a connecticut doct...   \n",
            "\n",
            "                                          summary_cleaned  \n",
            "278297  rottentomatoes.com ranked 100 worst films of t...  \n",
            "96576   the national film registry has added 25 more t...  \n",
            "18429   graham ovenden, 70, molested young girls he us...  \n",
            "169450  miranda fischer, 34, claims she caught norovir...  \n",
            "134041  new police sergeant says he saw hayes fleeing ...  \n",
            "Cleaned sample:\n",
            "                                        article_cleaned  \\\n",
            "5474  kristen bell, the voice of frozens anna and th...   \n",
            "239   arsenal midfielder santi cazorla is among a nu...   \n",
            "3755  it was a simple slip of the tongue, instantly ...   \n",
            "5440  travel to the tropics today and youll experien...   \n",
            "47    steven finn believes he has rediscovered the f...   \n",
            "\n",
            "                                        summary_cleaned  \n",
            "5474  the frozen star features on the cover of good ...  \n",
            "239   mateo musacchio fractured fibula and dislocate...  \n",
            "3755  ap mccoy will struggle with his new routine no...  \n",
            "5440  university of cologne scientist led research p...  \n",
            "47    steven finn was left out of the england squad ...  \n",
            "Cleaned sample:\n",
            "                                         article_cleaned  \\\n",
            "5014   today, the president will commemorate the hund...   \n",
            "7957   at 100plus kilometres per hour, molly taylors ...   \n",
            "10230  oliver downes has avoided jail after admitting...   \n",
            "12495  two of boxings greatest heavyweights descended...   \n",
            "10309  a transgender teenager has taken his life a ye...   \n",
            "\n",
            "                                         summary_cleaned  \n",
            "5014   billboard of kkk founder nathan bedford forres...  \n",
            "7957   motorsports have traditionally been male domin...  \n",
            "10230  oliver downes, 40, was suspended from bishop v...  \n",
            "12495  mike tyson and evander holyfield were at the s...  \n",
            "10309  north carolina teen blake brockington killed h...  \n"
          ]
        }
      ],
      "source": [
        "# تحويل النصوص إلى حروف صغيرة\n",
        "train_data['article_cleaned'] = train_data['article_cleaned'].str.lower()\n",
        "train_data['summary_cleaned'] = train_data['summary_cleaned'].str.lower()\n",
        "\n",
        "test_data['article_cleaned'] = test_data['article_cleaned'].str.lower()\n",
        "test_data['summary_cleaned'] = test_data['summary_cleaned'].str.lower()\n",
        "\n",
        "validation_data['article_cleaned'] = validation_data['article_cleaned'].str.lower()\n",
        "validation_data['summary_cleaned'] = validation_data['summary_cleaned'].str.lower()\n",
        "\n",
        "# عرض عينة من البيانات بعد التنظيف\n",
        "print(\"Cleaned sample:\")\n",
        "print(train_data[['article_cleaned', 'summary_cleaned']].sample(5))\n",
        "\n",
        "# عرض عينة من البيانات بعد التنظيف\n",
        "print(\"Cleaned sample:\")\n",
        "print(test_data[['article_cleaned', 'summary_cleaned']].sample(5))\n",
        "\n",
        "# عرض عينة من البيانات بعد التنظيف\n",
        "print(\"Cleaned sample:\")\n",
        "print(validation_data[['article_cleaned', 'summary_cleaned']].sample(5))\n",
        "\n"
      ]
    },
    {
      "cell_type": "code",
      "execution_count": null,
      "metadata": {
        "colab": {
          "base_uri": "https://localhost:8080/"
        },
        "collapsed": true,
        "id": "CwFV-owSZ_BP",
        "outputId": "895cd066-787c-44c2-ea14-dc295b8cc2eb"
      },
      "outputs": [
        {
          "output_type": "stream",
          "name": "stdout",
          "text": [
            "Cleaned sample:\n",
            "                                          article_cleaned  \\\n",
            "152898  there was a new haircut and a new role for rah...   \n",
            "49832   by . hugo gye . published . 1226 est, 12 decem...   \n",
            "192893  david moyes has been offered a route back into...   \n",
            "75894   reno, nevada cnn  over and over thursday, pres...   \n",
            "160437  gilberto martinez was . almost penniless when ...   \n",
            "\n",
            "                                          summary_cleaned  \n",
            "152898  raheem sterling played as a lone striker again...  \n",
            "49832   fran ikin and peter mortin paid builder 7,000 ...  \n",
            "192893  david moyes has been out of work since being s...  \n",
            "75894   president obama holds his third town hallstyle...  \n",
            "160437  gilberto martinez suarez is wanted on major cr...  \n",
            "Cleaned sample:\n",
            "                                         article_cleaned  \\\n",
            "11082  cnnmost days, 16yearold jason zobott walks int...   \n",
            "5123   cnnthe bad news for rio de janeiro ahead of th...   \n",
            "4140   airline rivals ryanair and aer lingus have loc...   \n",
            "5813   george boyd is the barclays premier leagues ha...   \n",
            "11468  blackpool are in talks to sign austria defende...   \n",
            "\n",
            "                                         summary_cleaned  \n",
            "11082  huntley high school in huntley, illinois, offe...  \n",
            "5123   officials start to clean up scores of dead fis...  \n",
            "4140   ryanair post promo photo in terminal 2  where ...  \n",
            "5813   burnley winger george boyd has run the furthes...  \n",
            "11468  thomas piermayr has been training with blackpo...  \n",
            "Cleaned sample:\n",
            "                                         article_cleaned  \\\n",
            "5176   james degale must travel to boston for his lon...   \n",
            "12878  two cocaine dealers were caught after they bou...   \n",
            "3033   this is the bizarre moment a sword wielding ra...   \n",
            "1798   an arizona father was caught on camera putting...   \n",
            "5247   mystery continues to surround the disappearanc...   \n",
            "\n",
            "                                         summary_cleaned  \n",
            "5176   james degale will face andre dirrell on may 23...  \n",
            "12878  thomas davies bought as many as 12 blenders at...  \n",
            "3033   masked raiders armed with machete and pool cue...  \n",
            "1798   jason matthew bristol, 33, of youngtown, arizo...  \n",
            "5247   janina vasquez, 27, left her mothers house in ...  \n"
          ]
        }
      ],
      "source": [
        "# إزالة الروابط\n",
        "def remove_urls(text):\n",
        "    return re.sub(r'http\\S+|www\\S+|https\\S+', '', text, flags=re.MULTILINE)\n",
        "\n",
        "# تطبيق إزالة الروابط\n",
        "train_data['article_cleaned'] = train_data['article_cleaned'].apply(remove_urls)\n",
        "train_data['summary_cleaned'] = train_data['summary_cleaned'].apply(remove_urls)\n",
        "\n",
        "# تطبيق إزالة الروابط\n",
        "test_data['article_cleaned'] = test_data['article_cleaned'].apply(remove_urls)\n",
        "test_data['summary_cleaned'] = test_data['summary_cleaned'].apply(remove_urls)\n",
        "\n",
        "# تطبيق إزالة الروابط\n",
        "validation_data['article_cleaned'] = validation_data['article_cleaned'].apply(remove_urls)\n",
        "validation_data['summary_cleaned'] = validation_data['summary_cleaned'].apply(remove_urls)\n",
        "\n",
        "# عرض عينة من البيانات بعد التنظيف\n",
        "print(\"Cleaned sample:\")\n",
        "print(train_data[['article_cleaned', 'summary_cleaned']].sample(5))\n",
        "\n",
        "# عرض عينة من البيانات بعد التنظيف\n",
        "print(\"Cleaned sample:\")\n",
        "print(test_data[['article_cleaned', 'summary_cleaned']].sample(5))\n",
        "\n",
        "# عرض عينة من البيانات بعد التنظيف\n",
        "print(\"Cleaned sample:\")\n",
        "print(validation_data[['article_cleaned', 'summary_cleaned']].sample(5))\n",
        "\n"
      ]
    },
    {
      "cell_type": "code",
      "execution_count": null,
      "metadata": {
        "colab": {
          "base_uri": "https://localhost:8080/"
        },
        "collapsed": true,
        "id": "HrkvQeO2bLf9",
        "outputId": "8db05679-e0fd-4523-9f24-425ad01e92f2"
      },
      "outputs": [
        {
          "output_type": "stream",
          "name": "stdout",
          "text": [
            "Cleaned sample:\n",
            "                                          article_cleaned  \\\n",
            "236004  january 9 , 2015 . cnn student news wraps up t...   \n",
            "225659  by . rob cooper . published . 0720 est, 28 nov...   \n",
            "157613  cnn simba makoni, the former zimbabwean financ...   \n",
            "173525  by . james chapman . published . 1903 est, 6 j...   \n",
            "254936  mps are demanding a bigger expenses bill so th...   \n",
            "\n",
            "                                          summary_cleaned  \n",
            "236004  this page includes the show transcript . use t...  \n",
            "225659  francesca and elisabetta grillo spent 685,000 ...  \n",
            "157613  simba makoni is a zimbabwean politician who ra...  \n",
            "173525  proposal is at the heart of a new coalition de...  \n",
            "254936  commons watchdog launches review of expenses r...  \n",
            "Cleaned sample:\n",
            "                                        article_cleaned  \\\n",
            "3108  gerard pique and charttopper shakira were in t...   \n",
            "7739  a 73yearold man is to appear in court today ch...   \n",
            "2492  dope smokers beware if marco rubio or chris ch...   \n",
            "3742  great britains medal hopes at the 2016 olympic...   \n",
            "7228  englands withdrawal from the historic victory ...   \n",
            "\n",
            "                                        summary_cleaned  \n",
            "3108  spain defender courtside with his wife shakira...  \n",
            "7739  body of woman believed to be celilia powell wa...  \n",
            "2492  we need to send very clear leadership from the...  \n",
            "3742  aaron cook fought for great britain at the bei...  \n",
            "7228  fa has withdrawn england from the historic vic...  \n",
            "Cleaned sample:\n",
            "                                        article_cleaned  \\\n",
            "895   arsenal need to challenge for the premier leag...   \n",
            "4037  workers rights advocates have called for indus...   \n",
            "2584  one of the two brave teens who thwarted a 15ye...   \n",
            "9224  it is nearly half a century since he won an ol...   \n",
            "2535  an indonesian town was high on more than just ...   \n",
            "\n",
            "                                        summary_cleaned  \n",
            "895   arsenal face monaco in champions league last 1...  \n",
            "4037  union says workers rely on penalty rates for e...  \n",
            "2584  washington teen andrew crain, 15, and his frie...  \n",
            "9224  former athlete david heremy, 70, plans to take...  \n",
            "2535  residents of tangerang suffered headaches and ...  \n"
          ]
        }
      ],
      "source": [
        "# توحيد المسافات\n",
        "train_data['article_cleaned'] = train_data['article_cleaned'].apply(lambda x: re.sub(r'\\s+', ' ', x).strip())\n",
        "train_data['summary_cleaned'] = train_data['summary_cleaned'].apply(lambda x: re.sub(r'\\s+', ' ', x).strip())\n",
        "\n",
        "test_data['article_cleaned'] = test_data['article_cleaned'].apply(lambda x: re.sub(r'\\s+', ' ', x).strip())\n",
        "test_data['summary_cleaned'] = test_data['summary_cleaned'].apply(lambda x: re.sub(r'\\s+', ' ', x).strip())\n",
        "\n",
        "validation_data['article_cleaned'] = validation_data['article_cleaned'].apply(lambda x: re.sub(r'\\s+', ' ', x).strip())\n",
        "validation_data['summary_cleaned'] = validation_data['summary_cleaned'].apply(lambda x: re.sub(r'\\s+', ' ', x).strip())\n",
        "\n",
        "# عرض عينة من البيانات بعد التنظيف\n",
        "print(\"Cleaned sample:\")\n",
        "print(train_data[['article_cleaned', 'summary_cleaned']].sample(5))\n",
        "\n",
        "# عرض عينة من البيانات بعد التنظيف\n",
        "print(\"Cleaned sample:\")\n",
        "print(test_data[['article_cleaned', 'summary_cleaned']].sample(5))\n",
        "\n",
        "# عرض عينة من البيانات بعد التنظيف\n",
        "print(\"Cleaned sample:\")\n",
        "print(validation_data[['article_cleaned', 'summary_cleaned']].sample(5))\n",
        "\n"
      ]
    },
    {
      "cell_type": "code",
      "execution_count": null,
      "metadata": {
        "colab": {
          "base_uri": "https://localhost:8080/"
        },
        "collapsed": true,
        "id": "P1CzXUeibn-g",
        "outputId": "9eae9b11-2850-48c3-b5b1-b9172932d984"
      },
      "outputs": [
        {
          "output_type": "stream",
          "name": "stdout",
          "text": [
            "Cleaned sample:\n",
            "                                          article_cleaned  \\\n",
            "123185  . kerry mcdermott . published . 0454 est, 20 f...   \n",
            "14808   haitis terror didnt end ground stopped shaking...   \n",
            "203351  mps embroiled yet another expenses row today e...   \n",
            "24305   warsaw, poland cnn polands interim president b...   \n",
            "150890  cnn horseback riders braving rugged idaho wild...   \n",
            "\n",
            "                                          summary_cleaned  \n",
            "123185  warning images contain graphic content . femal...  \n",
            "14808   nearly three years haitis earthquake, many sti...  \n",
            "203351  defence secretary liam fox, shadow ministers a...  \n",
            "24305   new interim president bronislaw komorowski win...  \n",
            "150890  demeanor expressions place, rider says . girl ...  \n",
            "Cleaned sample:\n",
            "                                         article_cleaned  \\\n",
            "7200   question personal discuss even closest friends...   \n",
            "10751  chelsea midfielder eden hazard toast english g...   \n",
            "8914   finding discounted flights tends hit miss vaca...   \n",
            "6316   say never forget roots. even case striking tre...   \n",
            "2939   among first britons join terrorists islamic st...   \n",
            "\n",
            "                                         summary_cleaned  \n",
            "7200   new app, honest, allows users pose questions r...  \n",
            "10751  eden hazard voted player year fellow professio...  \n",
            "8914   scott keyes, 28yearold writer, travel 20,000 m...  \n",
            "6316   roots banyan tree southern china originally gr...  \n",
            "2939   grace dare, uses name khadijah, isis syria . h...  \n",
            "Cleaned sample:\n",
            "                                        article_cleaned  \\\n",
            "8438  daley blinds previous visit anfield came widee...   \n",
            "191   moment rivalry turned ugly college basketball ...   \n",
            "9805  helplessly stuck patch mud, tiny zebra foal ap...   \n",
            "8998  orlandos streets paved purple, gold, city embr...   \n",
            "613   cnnisis militants northern syria released 19 a...   \n",
            "\n",
            "                                        summary_cleaned  \n",
            "8438  daley blind manchester united take liverpool a...  \n",
            "191   tuskagee albany state playing basketball fixtu...  \n",
            "9805  south african roel van muiden saw incident mad...  \n",
            "8998  orlando city take new york city mls opener sun...  \n",
            "613   unclear become kidnapped assyrians . syrian ob...  \n"
          ]
        }
      ],
      "source": [
        "\n",
        "stop_words = set(stopwords.words('english'))\n",
        "\n",
        "# إزالة الكلمات الشائعة\n",
        "def remove_stop_words(text):\n",
        "    words = text.split()\n",
        "    filtered_words = [word for word in words if word not in stop_words]\n",
        "    return ' '.join(filtered_words)\n",
        "\n",
        "# تطبيق إزالة الكلمات الشائعة\n",
        "train_data['article_cleaned'] = train_data['article_cleaned'].apply(remove_stop_words)\n",
        "train_data['summary_cleaned'] = train_data['summary_cleaned'].apply(remove_stop_words)\n",
        "\n",
        "test_data['article_cleaned'] = test_data['article_cleaned'].apply(remove_stop_words)\n",
        "test_data['summary_cleaned'] = test_data['summary_cleaned'].apply(remove_stop_words)\n",
        "\n",
        "validation_data['article_cleaned'] = validation_data['article_cleaned'].apply(remove_stop_words)\n",
        "validation_data['summary_cleaned'] = validation_data['summary_cleaned'].apply(remove_stop_words)\n",
        "\n",
        "# عرض عينة من البيانات بعد التنظيف\n",
        "print(\"Cleaned sample:\")\n",
        "print(train_data[['article_cleaned', 'summary_cleaned']].sample(5))\n",
        "\n",
        "# عرض عينة من البيانات بعد التنظيف\n",
        "print(\"Cleaned sample:\")\n",
        "print(test_data[['article_cleaned', 'summary_cleaned']].sample(5))\n",
        "\n",
        "# عرض عينة من البيانات بعد التنظيف\n",
        "print(\"Cleaned sample:\")\n",
        "print(validation_data[['article_cleaned', 'summary_cleaned']].sample(5))\n",
        "\n",
        "\n"
      ]
    },
    {
      "cell_type": "code",
      "execution_count": null,
      "metadata": {
        "colab": {
          "base_uri": "https://localhost:8080/"
        },
        "collapsed": true,
        "id": "eZG-grKxQ85U",
        "outputId": "f6bf26a6-d19d-43f7-e2b9-30248608b528"
      },
      "outputs": [
        {
          "output_type": "stream",
          "name": "stdout",
          "text": [
            "       article_cleaned_length  summary_cleaned_length\n",
            "count           287113.000000           287113.000000\n",
            "mean              2883.717390              227.025934\n",
            "std               1394.829766               89.448057\n",
            "min                 47.000000               11.000000\n",
            "25%               1854.000000              170.000000\n",
            "50%               2628.000000              216.000000\n",
            "75%               3643.000000              265.000000\n",
            "max              14569.000000             5837.000000\n",
            "       article_cleaned_length  summary_cleaned_length\n",
            "count            11490.000000            11490.000000\n",
            "mean              2807.879112              237.495735\n",
            "std               1437.361535               94.835219\n",
            "min                191.000000               40.000000\n",
            "25%               1720.000000              177.000000\n",
            "50%               2509.000000              222.000000\n",
            "75%               3577.750000              273.000000\n",
            "max              10230.000000             2948.000000\n",
            "       article_cleaned_length  summary_cleaned_length\n",
            "count            13368.000000            13368.000000\n",
            "mean              2774.148414              249.086176\n",
            "std               1407.530899              107.009245\n",
            "min                178.000000               33.000000\n",
            "25%               1708.000000              181.000000\n",
            "50%               2495.500000              231.000000\n",
            "75%               3552.250000              295.000000\n",
            "max               8949.000000             6166.000000\n"
          ]
        }
      ],
      "source": [
        "# إعادة حساب الأطوال بعد التنظيف\n",
        "train_data['article_cleaned_length'] = train_data['article_cleaned'].apply(len)\n",
        "train_data['summary_cleaned_length'] = train_data['summary_cleaned'].apply(len)\n",
        "\n",
        "test_data['article_cleaned_length'] = test_data['article_cleaned'].apply(len)\n",
        "test_data['summary_cleaned_length'] = test_data['summary_cleaned'].apply(len)\n",
        "\n",
        "validation_data['article_cleaned_length'] = validation_data['article_cleaned'].apply(len)\n",
        "validation_data['summary_cleaned_length'] = validation_data['summary_cleaned'].apply(len)\n",
        "\n",
        "# عرض إحصائيات الأطوال بعد التنظيف\n",
        "print(train_data[['article_cleaned_length', 'summary_cleaned_length']].describe())\n",
        "print(test_data[['article_cleaned_length', 'summary_cleaned_length']].describe())\n",
        "print(validation_data[['article_cleaned_length', 'summary_cleaned_length']].describe())\n"
      ]
    },
    {
      "cell_type": "code",
      "execution_count": null,
      "metadata": {
        "colab": {
          "base_uri": "https://localhost:8080/"
        },
        "collapsed": true,
        "id": "JDJiJxcI1-l5",
        "outputId": "0a9d540a-be2f-4d6d-d5f5-172d1f86bc86"
      },
      "outputs": [
        {
          "output_type": "stream",
          "name": "stdout",
          "text": [
            "Cleaned train sample after all processing:\n",
            "                                          article_cleaned  \\\n",
            "272570  jota cut inside, awful lot on, let fly. crept ...   \n",
            "259244  . anna edwards . banksy artwork ripped north l...   \n",
            "272941  fast company ipad changing folks read stuff on...   \n",
            "12028   schoolboy hanged falsely branded rapist fellow...   \n",
            "30408   . daily mail reporter . published . 1716 est, ...   \n",
            "\n",
            "                                          summary_cleaned  \n",
            "272570  hugo rodallega gave fulham lead 57th minute . ...  \n",
            "259244  ball games removed wall turnpike lane, tottenh...  \n",
            "272941  main bulk ipad text content consumption 7 p.m....  \n",
            "12028   tom acton falsely accused tied girl tree sexua...  \n",
            "30408   sally roberts, 38, lost legal battle . stop so...  \n",
            "Cleaned test sample after all processing:\n",
            "                                        article_cleaned  \\\n",
            "6815  football association contacting qpr chelsea in...   \n",
            "7302  respected law professor philadelphia investiga...   \n",
            "6712  worlds largest cattle station sale, larger isr...   \n",
            "489   cnnsaturday masters, like pga tournament, dubb...   \n",
            "8934  70,000 people across world signed petition dem...   \n",
            "\n",
            "                                        summary_cleaned  \n",
            "6815  qpr unlikely face disciplinary action incident...  \n",
            "7302  lisa mcelroy, 50, teaches legal writing drexel...  \n",
            "6712  worlds largest cattle station sale anna creek ...  \n",
            "489   jordan spieth holds lead 2015 masters . strong...  \n",
            "8934  78,000 sign petition demand removal spikes lee...  \n",
            "Cleaned validation sample after all processing:\n",
            "                                        article_cleaned  \\\n",
            "8538  one worlds best loved musicals true story novi...   \n",
            "8516  beginning february 2012, spate injuries forced...   \n",
            "6099  health service facing scores claims relating j...   \n",
            "9069  youd never know clothes on, 22yearold blogger ...   \n",
            "4486  mainstay nascar circuit nearly five decades. n...   \n",
            "\n",
            "                                        summary_cleaned  \n",
            "8538  maria von trapp criticised son johannes new bo...  \n",
            "8516  harry kane scored england debut 79 seconds fri...  \n",
            "6099  exclusive 400 claims sex abuse made nhs staff ...  \n",
            "9069  blogger matt diaz, 22, weighed nearly 500lbs a...  \n",
            "4486  north wilkesboro speedway north carolina mains...  \n"
          ]
        }
      ],
      "source": [
        "print(\"Cleaned train sample after all processing:\")\n",
        "print(train_data[['article_cleaned', 'summary_cleaned']].sample(5))\n",
        "\n",
        "print(\"Cleaned test sample after all processing:\")\n",
        "print(test_data[['article_cleaned', 'summary_cleaned']].sample(5))\n",
        "\n",
        "print(\"Cleaned validation sample after all processing:\")\n",
        "print(validation_data[['article_cleaned', 'summary_cleaned']].sample(5))\n"
      ]
    },
    {
      "cell_type": "code",
      "execution_count": null,
      "metadata": {
        "id": "oj7prcOzCHoA"
      },
      "outputs": [],
      "source": [
        "# حفظ البيانات المنظفة في ملفات CSV\n",
        "train_data.to_csv('/content/data/cleaned_train_data.csv', index=False)\n",
        "test_data.to_csv('/content/data/cleaned_test_data.csv', index=False)\n",
        "validation_data.to_csv('/content/data/cleaned_validation_data.csv', index=False)"
      ]
    },
    {
      "cell_type": "markdown",
      "metadata": {
        "id": "nS0bMUTLDOQm"
      },
      "source": [
        "# تجزئة النص (Tokenization)"
      ]
    },
    {
      "cell_type": "code",
      "execution_count": null,
      "metadata": {
        "colab": {
          "background_save": true
        },
        "id": "k2csfc0PFAkw"
      },
      "outputs": [],
      "source": [
        "train_data = pd.read_csv('/content/data/cleaned_train_data.csv')\n",
        "test_data = pd.read_csv('/content/data/cleaned_test_data.csv')\n",
        "validation_data = pd.read_csv('/content/data/cleaned_validation_data.csv')"
      ]
    },
    {
      "cell_type": "code",
      "execution_count": null,
      "metadata": {
        "colab": {
          "background_save": true
        },
        "collapsed": true,
        "id": "beIPNoLRmkq6",
        "outputId": "ee216be6-4f52-468b-bc11-cefcc6d84f89"
      },
      "outputs": [
        {
          "name": "stdout",
          "output_type": "stream",
          "text": [
            "                                        article_sentences  \\\n",
            "93997   [mexico city, mexico cnn police chief canc n r...   \n",
            "156132  [aeroplane might first place think looking goo...   \n",
            "79510   [get excited discovery vintage coat pretty vas...   \n",
            "164023  [german government said thursday expelling per...   \n",
            "230357  [strangers act kindness turned fortunes around...   \n",
            "\n",
            "                                        summary_sentences  \n",
            "93997   [mexican media says local chief put house arre...  \n",
            "156132  [retired boeing 457 jumbo jet made 33room jumb...  \n",
            "79510   [doublesided carved seal found charity shop he...  \n",
            "164023  [germany stresses mutual trust white house spo...  \n",
            "230357  [alan barnes disabled born sight growth proble...  \n",
            "                                       article_sentences  \\\n",
            "3631   [sri lankas kumar sangakkara reconsider decisi...   \n",
            "3420   [politics teacher 31,000ayear boarding school ...   \n",
            "616    [highlyanticipated champions league quarterfin...   \n",
            "10108  [mother demanding 300,000 school claiming son ...   \n",
            "8427   [forget theory everything, even important ques...   \n",
            "\n",
            "                                       summary_sentences  \n",
            "3631   [kumar sangakkara retired oneday cricket world...  \n",
            "3420   [nuku vanonyi cudjoecalvocoressi, 41, taught p...  \n",
            "616    [jose mourinho opted watching champions league...  \n",
            "10108  [ashley shupe says kaiden tried choking jumpin...  \n",
            "8427   [legendary physicist speaking sydney opera hou...  \n",
            "                                       article_sentences  \\\n",
            "12376  [newcastle united legend bobby moncur maintain...   \n",
            "3282   [mother shamed losing 10 stone left mortified ...   \n",
            "5125   [jurors shown pictures little boy stuffed box ...   \n",
            "7422   [chris gayle rejected speculation quit interna...   \n",
            "8351   [philippe coutinho found home away home mersey...   \n",
            "\n",
            "                                       summary_sentences  \n",
            "12376  [chelsea ranked fourth biggest english club th...  \n",
            "3282   [janine furr, 29,tipped scales 25st 7lb could ...  \n",
            "5125   [pictures boy stuffed bag box shown court frid...  \n",
            "7422   [chris gayle said hasnt retired format west in...  \n",
            "8351   [liverpool tv show behindthescenes documentary...  \n"
          ]
        }
      ],
      "source": [
        "# تقسيم النصوص إلى جمل\n",
        "train_data['article_sentences'] = train_data['article_cleaned'].apply(sent_tokenize)\n",
        "train_data['summary_sentences'] = train_data['summary_cleaned'].apply(sent_tokenize)\n",
        "\n",
        "test_data['article_sentences'] = test_data['article_cleaned'].apply(sent_tokenize)\n",
        "test_data['summary_sentences'] = test_data['summary_cleaned'].apply(sent_tokenize)\n",
        "\n",
        "validation_data['article_sentences'] = validation_data['article_cleaned'].apply(sent_tokenize)\n",
        "validation_data['summary_sentences'] = validation_data['summary_cleaned'].apply(sent_tokenize)\n",
        "\n",
        "# عرض عينة من الجمل\n",
        "print(train_data[['article_sentences', 'summary_sentences']].sample(5))\n",
        "print(test_data[['article_sentences', 'summary_sentences']].sample(5))\n",
        "print(validation_data[['article_sentences', 'summary_sentences']].sample(5))\n"
      ]
    },
    {
      "cell_type": "code",
      "execution_count": null,
      "metadata": {
        "colab": {
          "background_save": true
        },
        "collapsed": true,
        "id": "i71hfTtoseof",
        "outputId": "865d13e5-7c29-4eab-e429-7bdc5514e82d"
      },
      "outputs": [
        {
          "name": "stdout",
          "output_type": "stream",
          "text": [
            "       article_sentence_count  summary_sentence_count\n",
            "count           287113.000000           287113.000000\n",
            "mean                37.627631                3.662955\n",
            "std                 22.545460                1.334332\n",
            "min                  1.000000                1.000000\n",
            "25%                 22.000000                3.000000\n",
            "50%                 32.000000                4.000000\n",
            "75%                 47.000000                4.000000\n",
            "max                328.000000              107.000000\n"
          ]
        }
      ],
      "source": [
        "# حساب عدد الجمل في المقالات والملخصات\n",
        "train_data['article_sentence_count'] = train_data['article_sentences'].apply(len)\n",
        "train_data['summary_sentence_count'] = train_data['summary_sentences'].apply(len)\n",
        "\n",
        "test_data['article_sentence_count'] = test_data['article_sentences'].apply(len)\n",
        "test_data['summary_sentence_count'] = test_data['summary_sentences'].apply(len)\n",
        "\n",
        "validation_data['article_sentence_count'] = validation_data['article_sentences'].apply(len)\n",
        "validation_data['summary_sentence_count'] = validation_data['summary_sentences'].apply(len)\n",
        "\n",
        "# عرض إحصائيات عدد الجمل\n",
        "print(train_data[['article_sentence_count', 'summary_sentence_count']].describe())"
      ]
    },
    {
      "cell_type": "code",
      "execution_count": null,
      "metadata": {
        "colab": {
          "base_uri": "https://localhost:8080/"
        },
        "collapsed": true,
        "id": "10hmqlzxsiLE",
        "outputId": "4135a54c-15db-4570-d3f7-436df37a683a"
      },
      "outputs": [
        {
          "name": "stdout",
          "output_type": "stream",
          "text": [
            "       article_length  summary_length\n",
            "count   287113.000000   287113.000000\n",
            "mean      2883.717390      227.025934\n",
            "std       1394.829766       89.448057\n",
            "min         47.000000       11.000000\n",
            "25%       1854.000000      170.000000\n",
            "50%       2628.000000      216.000000\n",
            "75%       3643.000000      265.000000\n",
            "max      14569.000000     5837.000000\n"
          ]
        }
      ],
      "source": [
        "# حساب الأطوال\n",
        "train_data['article_length'] = train_data['article_cleaned'].apply(len)\n",
        "train_data['summary_length'] = train_data['summary_cleaned'].apply(len)\n",
        "\n",
        "# عرض إحصائيات الأطوال\n",
        "print(train_data[['article_length', 'summary_length']].describe())"
      ]
    },
    {
      "cell_type": "code",
      "execution_count": null,
      "metadata": {
        "colab": {
          "base_uri": "https://localhost:8080/"
        },
        "collapsed": true,
        "id": "i9Sm-e8wskoX",
        "outputId": "1335dabf-65ba-4c6c-bc22-35c24aae6b91"
      },
      "outputs": [
        {
          "name": "stdout",
          "output_type": "stream",
          "text": [
            "                                        article_sentences  \\\n",
            "165028  [senior cancer specialist today condemned cont...   \n",
            "144840  [xu caihou, retired pla general former vicecha...   \n",
            "168945  [cnn matter years away miles separate her, cry...   \n",
            "164676  [., becky evans ap reporter ., published ., 07...   \n",
            "65533   [philadelphia, mississippi cnn james young sti...   \n",
            "\n",
            "                                        summary_sentences  \n",
            "165028  [wouldnt treated hospital here, says professor...  \n",
            "144840  [chinese president xi jinping intensifying her...  \n",
            "168945  [mine disaster shines spotlight community stee...  \n",
            "164676  [donovan surrounded family died baltimore hosp...  \n",
            "65533   [philadelphia, mississippi, elects first black...  \n"
          ]
        }
      ],
      "source": [
        "# عرض عينة من الجمل للتأكد من الجودة\n",
        "print(train_data[['article_sentences', 'summary_sentences']].sample(5))"
      ]
    },
    {
      "cell_type": "markdown",
      "metadata": {
        "id": "lpdmXiaOKWCZ"
      },
      "source": [
        "\n",
        "#  استخراج المعلومات (Information Extraction)"
      ]
    },
    {
      "cell_type": "code",
      "execution_count": null,
      "metadata": {
        "colab": {
          "base_uri": "https://localhost:8080/"
        },
        "id": "sR9eSZmXKejZ",
        "outputId": "4eab041f-5590-483e-ebc5-8a8f47086d33"
      },
      "outputs": [
        {
          "name": "stdout",
          "output_type": "stream",
          "text": [
            "Requirement already satisfied: scikit-learn in /usr/local/lib/python3.10/dist-packages (1.6.0)\n",
            "Requirement already satisfied: nltk in /usr/local/lib/python3.10/dist-packages (3.9.1)\n",
            "Requirement already satisfied: spacy in /usr/local/lib/python3.10/dist-packages (3.7.5)\n",
            "Requirement already satisfied: numpy>=1.19.5 in /usr/local/lib/python3.10/dist-packages (from scikit-learn) (1.26.4)\n",
            "Requirement already satisfied: scipy>=1.6.0 in /usr/local/lib/python3.10/dist-packages (from scikit-learn) (1.13.1)\n",
            "Requirement already satisfied: joblib>=1.2.0 in /usr/local/lib/python3.10/dist-packages (from scikit-learn) (1.4.2)\n",
            "Requirement already satisfied: threadpoolctl>=3.1.0 in /usr/local/lib/python3.10/dist-packages (from scikit-learn) (3.5.0)\n",
            "Requirement already satisfied: click in /usr/local/lib/python3.10/dist-packages (from nltk) (8.1.8)\n",
            "Requirement already satisfied: regex>=2021.8.3 in /usr/local/lib/python3.10/dist-packages (from nltk) (2024.11.6)\n",
            "Requirement already satisfied: tqdm in /usr/local/lib/python3.10/dist-packages (from nltk) (4.67.1)\n",
            "Requirement already satisfied: spacy-legacy<3.1.0,>=3.0.11 in /usr/local/lib/python3.10/dist-packages (from spacy) (3.0.12)\n",
            "Requirement already satisfied: spacy-loggers<2.0.0,>=1.0.0 in /usr/local/lib/python3.10/dist-packages (from spacy) (1.0.5)\n",
            "Requirement already satisfied: murmurhash<1.1.0,>=0.28.0 in /usr/local/lib/python3.10/dist-packages (from spacy) (1.0.11)\n",
            "Requirement already satisfied: cymem<2.1.0,>=2.0.2 in /usr/local/lib/python3.10/dist-packages (from spacy) (2.0.10)\n",
            "Requirement already satisfied: preshed<3.1.0,>=3.0.2 in /usr/local/lib/python3.10/dist-packages (from spacy) (3.0.9)\n",
            "Requirement already satisfied: thinc<8.3.0,>=8.2.2 in /usr/local/lib/python3.10/dist-packages (from spacy) (8.2.5)\n",
            "Requirement already satisfied: wasabi<1.2.0,>=0.9.1 in /usr/local/lib/python3.10/dist-packages (from spacy) (1.1.3)\n",
            "Requirement already satisfied: srsly<3.0.0,>=2.4.3 in /usr/local/lib/python3.10/dist-packages (from spacy) (2.5.0)\n",
            "Requirement already satisfied: catalogue<2.1.0,>=2.0.6 in /usr/local/lib/python3.10/dist-packages (from spacy) (2.0.10)\n",
            "Requirement already satisfied: weasel<0.5.0,>=0.1.0 in /usr/local/lib/python3.10/dist-packages (from spacy) (0.4.1)\n",
            "Requirement already satisfied: typer<1.0.0,>=0.3.0 in /usr/local/lib/python3.10/dist-packages (from spacy) (0.15.1)\n",
            "Requirement already satisfied: requests<3.0.0,>=2.13.0 in /usr/local/lib/python3.10/dist-packages (from spacy) (2.32.3)\n",
            "Requirement already satisfied: pydantic!=1.8,!=1.8.1,<3.0.0,>=1.7.4 in /usr/local/lib/python3.10/dist-packages (from spacy) (2.10.4)\n",
            "Requirement already satisfied: jinja2 in /usr/local/lib/python3.10/dist-packages (from spacy) (3.1.5)\n",
            "Requirement already satisfied: setuptools in /usr/local/lib/python3.10/dist-packages (from spacy) (75.1.0)\n",
            "Requirement already satisfied: packaging>=20.0 in /usr/local/lib/python3.10/dist-packages (from spacy) (24.2)\n",
            "Requirement already satisfied: langcodes<4.0.0,>=3.2.0 in /usr/local/lib/python3.10/dist-packages (from spacy) (3.5.0)\n",
            "Requirement already satisfied: language-data>=1.2 in /usr/local/lib/python3.10/dist-packages (from langcodes<4.0.0,>=3.2.0->spacy) (1.3.0)\n",
            "Requirement already satisfied: annotated-types>=0.6.0 in /usr/local/lib/python3.10/dist-packages (from pydantic!=1.8,!=1.8.1,<3.0.0,>=1.7.4->spacy) (0.7.0)\n",
            "Requirement already satisfied: pydantic-core==2.27.2 in /usr/local/lib/python3.10/dist-packages (from pydantic!=1.8,!=1.8.1,<3.0.0,>=1.7.4->spacy) (2.27.2)\n",
            "Requirement already satisfied: typing-extensions>=4.12.2 in /usr/local/lib/python3.10/dist-packages (from pydantic!=1.8,!=1.8.1,<3.0.0,>=1.7.4->spacy) (4.12.2)\n",
            "Requirement already satisfied: charset-normalizer<4,>=2 in /usr/local/lib/python3.10/dist-packages (from requests<3.0.0,>=2.13.0->spacy) (3.4.1)\n",
            "Requirement already satisfied: idna<4,>=2.5 in /usr/local/lib/python3.10/dist-packages (from requests<3.0.0,>=2.13.0->spacy) (3.10)\n",
            "Requirement already satisfied: urllib3<3,>=1.21.1 in /usr/local/lib/python3.10/dist-packages (from requests<3.0.0,>=2.13.0->spacy) (2.3.0)\n",
            "Requirement already satisfied: certifi>=2017.4.17 in /usr/local/lib/python3.10/dist-packages (from requests<3.0.0,>=2.13.0->spacy) (2024.12.14)\n",
            "Requirement already satisfied: blis<0.8.0,>=0.7.8 in /usr/local/lib/python3.10/dist-packages (from thinc<8.3.0,>=8.2.2->spacy) (0.7.11)\n",
            "Requirement already satisfied: confection<1.0.0,>=0.0.1 in /usr/local/lib/python3.10/dist-packages (from thinc<8.3.0,>=8.2.2->spacy) (0.1.5)\n",
            "Requirement already satisfied: shellingham>=1.3.0 in /usr/local/lib/python3.10/dist-packages (from typer<1.0.0,>=0.3.0->spacy) (1.5.4)\n",
            "Requirement already satisfied: rich>=10.11.0 in /usr/local/lib/python3.10/dist-packages (from typer<1.0.0,>=0.3.0->spacy) (13.9.4)\n",
            "Requirement already satisfied: cloudpathlib<1.0.0,>=0.7.0 in /usr/local/lib/python3.10/dist-packages (from weasel<0.5.0,>=0.1.0->spacy) (0.20.0)\n",
            "Requirement already satisfied: smart-open<8.0.0,>=5.2.1 in /usr/local/lib/python3.10/dist-packages (from weasel<0.5.0,>=0.1.0->spacy) (7.1.0)\n",
            "Requirement already satisfied: MarkupSafe>=2.0 in /usr/local/lib/python3.10/dist-packages (from jinja2->spacy) (3.0.2)\n",
            "Requirement already satisfied: marisa-trie>=1.1.0 in /usr/local/lib/python3.10/dist-packages (from language-data>=1.2->langcodes<4.0.0,>=3.2.0->spacy) (1.2.1)\n",
            "Requirement already satisfied: markdown-it-py>=2.2.0 in /usr/local/lib/python3.10/dist-packages (from rich>=10.11.0->typer<1.0.0,>=0.3.0->spacy) (3.0.0)\n",
            "Requirement already satisfied: pygments<3.0.0,>=2.13.0 in /usr/local/lib/python3.10/dist-packages (from rich>=10.11.0->typer<1.0.0,>=0.3.0->spacy) (2.18.0)\n",
            "Requirement already satisfied: wrapt in /usr/local/lib/python3.10/dist-packages (from smart-open<8.0.0,>=5.2.1->weasel<0.5.0,>=0.1.0->spacy) (1.17.0)\n",
            "Requirement already satisfied: mdurl~=0.1 in /usr/local/lib/python3.10/dist-packages (from markdown-it-py>=2.2.0->rich>=10.11.0->typer<1.0.0,>=0.3.0->spacy) (0.1.2)\n"
          ]
        }
      ],
      "source": [
        "pip install scikit-learn nltk spacy"
      ]
    },
    {
      "cell_type": "code",
      "execution_count": null,
      "metadata": {
        "colab": {
          "base_uri": "https://localhost:8080/"
        },
        "id": "ymb72JyFKiei",
        "outputId": "c8012488-9001-4908-c8c8-732de90ac9c0"
      },
      "outputs": [
        {
          "name": "stdout",
          "output_type": "stream",
          "text": [
            "Text 1:\n",
            "fargo        0.328025\n",
            "diocese      0.328025\n",
            "hepatitis    0.262420\n",
            "bishop       0.262420\n",
            "north        0.196815\n",
            "dakota       0.196815\n",
            "catholic     0.196815\n",
            "october      0.158789\n",
            "grand        0.131210\n",
            "jamestown    0.131210\n",
            "Name: 0, dtype: float64\n",
            "\n",
            "\n",
            "Text 2:\n",
            "mata            0.513242\n",
            "complaint       0.299391\n",
            "organization    0.256621\n",
            "drug            0.213851\n",
            "police          0.172534\n",
            "miami           0.171081\n",
            "trafficking     0.128311\n",
            "according       0.128311\n",
            "working         0.128311\n",
            "including       0.103520\n",
            "Name: 1, dtype: float64\n",
            "\n",
            "\n",
            "Text 3:\n",
            "driving          0.383244\n",
            "ecclestontodd    0.294803\n",
            "phone            0.265323\n",
            "collision        0.206362\n",
            "miss             0.176882\n",
            "friends          0.176882\n",
            "mr               0.147402\n",
            "titley           0.147402\n",
            "pub              0.147402\n",
            "mobile           0.147402\n",
            "Name: 2, dtype: float64\n",
            "\n",
            "\n",
            "Text 4:\n",
            "money        0.201409\n",
            "russia       0.199713\n",
            "sides        0.199713\n",
            "europe       0.199713\n",
            "eu           0.199713\n",
            "trade        0.149785\n",
            "russian      0.149785\n",
            "europes      0.149785\n",
            "putin        0.149785\n",
            "community    0.099857\n",
            "Name: 3, dtype: float64\n",
            "\n",
            "\n",
            "Text 5:\n",
            "lead      0.213357\n",
            "goals     0.170686\n",
            "james     0.170686\n",
            "win       0.170686\n",
            "gave      0.170686\n",
            "draw      0.170686\n",
            "men       0.137708\n",
            "united    0.128014\n",
            "thanks    0.128014\n",
            "goal      0.128014\n",
            "Name: 4, dtype: float64\n",
            "\n",
            "\n"
          ]
        }
      ],
      "source": [
        "import pandas as pd\n",
        "from sklearn.feature_extraction.text import TfidfVectorizer\n",
        "\n",
        "# قراءة البيانات\n",
        "train_data = pd.read_csv('/content/data/cleaned_train_data.csv')  # تأكد من استخدام المسار الصحيح\n",
        "\n",
        "\n",
        "# استخدام النصوص من مجموعة البيانات\n",
        "texts = train_data['article_cleaned'].head(5)  # استخدام أول 5 نصوص\n",
        "\n",
        "# إنشاء نموذج TF-IDF\n",
        "vectorizer = TfidfVectorizer(stop_words='english')\n",
        "tfidf_matrix = vectorizer.fit_transform(texts)\n",
        "\n",
        "# الحصول على الكلمات الرئيسية\n",
        "feature_names = vectorizer.get_feature_names_out()\n",
        "dense = tfidf_matrix.todense()\n",
        "\n",
        "# تحويل المصفوفة الكثيفة إلى DataFrame\n",
        "df_tfidf = pd.DataFrame(dense, columns=feature_names)\n",
        "\n",
        "# عرض الكلمات الرئيسية لكل نص\n",
        "for i in range(len(texts)):\n",
        "    print(f\"Text {i + 1}:\")\n",
        "    df_text = df_tfidf.iloc[i].sort_values(ascending=False)\n",
        "    print(df_text.head(10))  # عرض أعلى 10 كلمات رئيسية\n",
        "    print(\"\\n\")"
      ]
    },
    {
      "cell_type": "code",
      "execution_count": null,
      "metadata": {
        "colab": {
          "base_uri": "https://localhost:8080/"
        },
        "id": "x5zMFtlHKztN",
        "outputId": "2d1d2fa0-0dac-4c33-9bc3-f11849241138"
      },
      "outputs": [
        {
          "name": "stdout",
          "output_type": "stream",
          "text": [
            "Text 1: . associated press . published . 1411 est, 25 october 2013 . . updated . 1536 est, 25 october 2013 . bishop fargo catholic diocese north dakota exposed potentially hundreds church members fargo, grand forks jamestown hepatitis virus late september early october. state health department issued advisory exposure anyone attended five churches took communion. bishop john folda pictured fargo catholic diocese north dakota exposed potentially hundreds church members fargo, grand forks jamestown hepatitis . state immunization program manager molly howell says risk low, officials feel important alert people possible exposure. diocese announced monday bishop john folda taking time diagnosed hepatitis a. diocese says contracted infection contaminated food attending conference newly ordained bishops italy last month. symptoms hepatitis include fever, tiredness, loss appetite, nausea abdominal discomfort. fargo catholic diocese north dakota pictured bishop located .\n",
            "Extracted Events:\n",
            "Subject: dakota, Verb: exposed\n",
            "Subject: department, Verb: issued\n",
            "Subject: anyone, Verb: attended\n",
            "Subject: folda, Verb: pictured\n",
            "Subject: dakota, Verb: exposed\n",
            "Subject: howell, Verb: says\n",
            "Subject: officials, Verb: feel\n",
            "Subject: diocese, Verb: announced\n",
            "Subject: folda, Verb: taking\n",
            "Subject: infection, Verb: contaminated\n",
            "Subject: symptoms, Verb: include\n",
            "Subject: diocese, Verb: pictured\n",
            "Subject: bishop, Verb: located\n",
            "\n",
            "\n",
            "Text 2: cnn ralph mata internal affairs lieutenant miamidade police department, working division investigates allegations wrongdoing cops. outside office, authorities allege 45yearold longtime officer worked drug trafficking organization help plan murder plot get guns. criminal complaint unsealed u.s. district court new jersey tuesday accuses mata, also known milk man, using role police officer help drug trafficking organization exchange money gifts, including rolex watch. one instance, complaint alleges, mata arranged pay two assassins kill rival drug dealers. killers would pose cops, pulling targets shooting them, according complaint. ultimately, organization decided move forward murder plot, mata still received payment setting meetings, federal prosecutors said statement. complaint also alleges mata used police badge purchase weapons drug traffickers. mata, according complaint, used contacts airport transport weapons carryon luggage trips miami dominican republic. court documents released investigators specify name drug trafficking organization mata allegedly conspired says organization importing narcotics places ecuador dominican republic hiding inside shipping containers containing pallets produce, including bananas. organization distributing narcotics new jersey elsewhere, complaint says. authorities arrested mata tuesday miami gardens, florida. immediately clear whether mata attorney, police officials could immediately reached comment. mata worked miamidade police department since 1992, including directing investigations miami gardens working lieutenant k9 unit miami international airport, according complaint. since march 2010, working internal affairs division. mata faces charges aiding abetting conspiracy distribute cocaine, conspiring distribute cocaine engaging monetary transactions property derived specified unlawful activity. scheduled appear federal court florida wednesday. convicted, mata could face life prison. cnns suzanne presto contributed report.\n",
            "Extracted Events:\n",
            "Subject: authorities, Verb: allege\n",
            "Subject: officer, Verb: worked\n",
            "Subject: organization, Verb: help\n",
            "Subject: help, Verb: get\n",
            "Subject: complaint, Verb: unsealed\n",
            "Subject: complaint, Verb: alleges\n",
            "Subject: mata, Verb: arranged\n",
            "Subject: instance, Verb: kill\n",
            "Subject: killers, Verb: pose\n",
            "Subject: organization, Verb: decided\n",
            "Subject: mata, Verb: received\n",
            "Subject: prosecutors, Verb: said\n",
            "Subject: complaint, Verb: alleges\n",
            "Subject: mata, Verb: used\n",
            "Subject: documents, Verb: released\n",
            "Subject: investigators, Verb: specify\n",
            "Subject: mata, Verb: conspired\n",
            "Subject: organization, Verb: says\n",
            "Subject: organization, Verb: says\n",
            "Subject: complaint, Verb: says\n",
            "Subject: authorities, Verb: arrested\n",
            "Subject: attorney, Verb: reached\n",
            "Subject: officials, Verb: reached\n",
            "Subject: mata, Verb: worked\n",
            "Subject: mata, Verb: faces\n",
            "Subject: property, Verb: specified\n",
            "Subject: mata, Verb: face\n",
            "Subject: presto, Verb: contributed\n",
            "\n",
            "\n",
            "Text 3: drunk driver killed young woman headon crash checking mobile phone jailed six years. craig ecclestontodd, 27, driving home night pub received text message. reading replying it, veered across road driving round bend smashed rachel titleys car coming way. craig ecclestontodd, 27 left using mobile phone crashed headon car driven rachel titley, 28 right. died later injuries . headon crash took place october 2013. mr ecclestontodds car barely recognisable pictured police said ecclestontodd drunk least three four pints beer getting behind wheel. found guilty causing death dangerous driving portsmouth crown court yesterday. miss titley, 28yearold solicitors clerk cowes, isle wight, also spent evening friends pub drunk alcohol, police said. driving responsibly nothing could done avoid collision, added. lindsay pennell, prosecuting, said craig ecclestontodds driving resulted tragic death young woman, rachel titley, death could avoided. mr ecclestontodd took decision pick mobile phone whilst driving and, either reading replying text message, distracted failed negotiate lefthand bend, crossing central white line path miss titleys oncoming car. miss titley pulled wreckage daihatsu cuore died later injuries hospital . miss titley bright future ahead her. also returning home spent enjoyable evening friends driving responsibly. arranged contact friends got home confirm arrived safely. friends sadly never heard parted company. miss titleys death circumstances reiterates danger using handheld mobile phone whilst driving. police unable take breath blood tests ecclestontodd immediately, tests several hours accident marginally drinkdrive limit. judge agreed police would limit time red citroen hit miss titleys blue daihatsu cuore road near yarmouth, isle wight, october 11, 2013. phone records showed also texting around time crash. pc mark furse, hampshire constabularys serious collision investigation unit, said thoughts rachels family time. friends pub shalfleet evening, alcohol. investigation showed nothing could done avoid collision sadly cost life. mr ecclestontodd left work yarmouth met friends pub drank least three four pints lager. hadnt long left pub return home collision occurred around 9.30pm. werent able take breath blood tests immediately although blood taken several hours collision showed marginally limit, maintain would limit time collision summing today, judge agreed. analysis phone records showed texting phone around time collision highly likely would also contributed dangerous driving loss control. ecclestontodd found guilty causing death dangerous driving following trial portsmouth crown court pictured added mr ecclestontodd spend six years behind bars, rachels family lost forever. hope make people think twice drinking alcohol getting behind wheel, using phone theyre road. dangers drink driving driving whilst using mobile phone obvious. continue risk spending substantial time prison. case highlights tragic consequences committing offences be. mr ecclestontodd spend six years behind bars, rachels family lost ever. ecclestontodd, newport, isle wight, also disqualified driving eight years complete extended retest.\n",
            "Extracted Events:\n",
            "Subject: driver, Verb: killed\n",
            "Subject: ecclestontodd, Verb: received\n",
            "Subject: pub, Verb: received\n",
            "Subject: car, Verb: coming\n",
            "Subject: 27, Verb: left\n",
            "Subject: ecclestontodd, Verb: crashed\n",
            "Subject: crash, Verb: took\n",
            "Subject: car, Verb: said\n",
            "Subject: police, Verb: said\n",
            "Subject: beer, Verb: getting\n",
            "Subject: titley, Verb: spent\n",
            "Subject: cowes, Verb: spent\n",
            "Subject: police, Verb: said\n",
            "Subject: nothing, Verb: done\n",
            "Subject: lindsay, Verb: said\n",
            "Subject: craig, Verb: ecclestontodds\n",
            "Subject: death, Verb: avoided\n",
            "Subject: ecclestontodd, Verb: took\n",
            "Subject: titley, Verb: pulled\n",
            "Subject: cuore, Verb: died\n",
            "Subject: friends, Verb: got\n",
            "Subject: confirm, Verb: arrived\n",
            "Subject: friends, Verb: heard\n",
            "Subject: circumstances, Verb: reiterates\n",
            "Subject: police, Verb: take\n",
            "Subject: judge, Verb: agreed\n",
            "Subject: police, Verb: limit\n",
            "Subject: citroen, Verb: hit\n",
            "Subject: records, Verb: showed\n",
            "Subject: hampshire, Verb: said\n",
            "Subject: thoughts, Verb: rachels\n",
            "Subject: investigation, Verb: showed\n",
            "Subject: nothing, Verb: done\n",
            "Subject: collision, Verb: cost\n",
            "Subject: yarmouth, Verb: met\n",
            "Subject: pub, Verb: drank\n",
            "Subject: collision, Verb: occurred\n",
            "Subject: blood, Verb: taken\n",
            "Subject: collision, Verb: showed\n",
            "Subject: judge, Verb: agreed\n",
            "Subject: records, Verb: showed\n",
            "Subject: ecclestontodd, Verb: found\n",
            "Subject: found, Verb: added\n",
            "Subject: family, Verb: lost\n",
            "Subject: hope, Verb: make\n",
            "Subject: people, Verb: think\n",
            "Subject: twice, Verb: drinking\n",
            "Subject: they, Verb: re\n",
            "Subject: dangers, Verb: drink\n",
            "Subject: case, Verb: highlights\n",
            "Subject: spend, Verb: rachels\n",
            "Subject: family, Verb: lost\n",
            "Subject: ecclestontodd, Verb: disqualified\n",
            "\n",
            "\n",
            "Text 4: cnn breezy sweep pen president vladimir putin wrote new chapter crimeas turbulent history, committing region future returned russian domain. sixty years prior, ukraines breakaway peninsula signed away swiftly soviet leader nikita khrushchev. dealing blatant land grab eastern flank wont anywhere near quick easy europes 28member union. because, unlike crimeas rushed referendum, everyone say. initially slapping visa restrictions asset freezes limited number little known politicians military men, europe facing urgent calls widen scope measures target russian business community particular. logic run russia essentially two sides coin. alexei navalny, onetime moscow mayoral contender house arrest opposing current regime, called europes leaders ban everyone vladimir putins personal banker chelsea football club owner roman abramovich keeping money loved ones abroad. asset freezes visa restrictions especially palatable options eu rolled discretionary basis, without requiring cumbersome legal procedures recourse. fact russia cancels visas people doesnt like time. look hermitage capital founder bill browder lost right entry moscowbased money 2005 dare go back. russia also banned adoption orphans americans retaliation uss implementation anticorruption law named sergei magnitsky, browders lawyer died year moscow detention center, apparently beaten death. yet playing money talks card, europe must ready consequences action. money also walks. eu leaders must ready accept sanctions twoway street hurt sides. targeting russias peripatetic business community would one way sapping tenuous support president putin. strategy might also turn silver lining awarding eu countries chance finally deal unpleasant sides patronage, including money laundering corruption, inflated prize assets like london property picasso paintings years. europe hold fire though trade. two decades postsoviet rapprochement almost 500 billion worth commerce lot put stake. true trade war would hurt russia far harder would eu least 15 formers gdp comes exports bloc. europe hefty reliance russian gas would hard time keeping factories going citizens warm without power east. putin flexes political muscle, open trade channels keep dialogue going giving sides chance change subject talk less tensely. one afford cut lifeline, especially europes economy rebound russias one wane.\n",
            "Extracted Events:\n",
            "Subject: putin, Verb: wrote\n",
            "Subject: chapter, Verb: crimeas\n",
            "Subject: future, Verb: returned\n",
            "Subject: peninsula, Verb: signed\n",
            "Subject: crimeas, Verb: rushed\n",
            "Subject: everyone, Verb: say\n",
            "Subject: asset, Verb: freezes\n",
            "Subject: europe, Verb: widen\n",
            "Subject: logic, Verb: run\n",
            "Subject: sides, Verb: coin\n",
            "Subject: navalny, Verb: onetime\n",
            "Subject: leaders, Verb: ban\n",
            "Subject: asset, Verb: freezes\n",
            "Subject: eu, Verb: rolled\n",
            "Subject: procedures, Verb: recourse\n",
            "Subject: russia, Verb: cancels\n",
            "Subject: people, Verb: like\n",
            "Subject: look, Verb: lost\n",
            "Subject: money, Verb: go\n",
            "Subject: russia, Verb: banned\n",
            "Subject: lawyer, Verb: died\n",
            "Subject: money, Verb: walks\n",
            "Subject: leaders, Verb: accept\n",
            "Subject: strategy, Verb: turn\n",
            "Subject: chance, Verb: deal\n",
            "Subject: europe, Verb: hold\n",
            "Subject: rapprochement, Verb: put\n",
            "Subject: war, Verb: hurt\n",
            "Subject: gdp, Verb: comes\n",
            "Subject: flexes, Verb: keep\n",
            "Subject: channels, Verb: keep\n",
            "Subject: dialogue, Verb: going\n",
            "\n",
            "\n",
            "Text 5: fleetwood team still 100 record sky bet league one 20 win scunthorpe sent graham alexanders men top table. cod army playing third tier first time history six promotions nine years remarkable ascent shows sign slowing jamie proctor gareth evans scoring goals glanford park. fleetwood one five teams two two four clubs peterborough, bristol city, chesterfield crawley hit first stumbling blocks. posh defeated 21 sheffield united, lost opening contests. jose baxters opener gave blades firsthalf lead, although later cancelled shaun brisleys goal, ben davies snatched winner six minutes time. lead jose baxter right celebrates opening scoring sheffield united . battle sheffield uniteds michael doyle left challenges peterboroughs kyle vassell keenlycontested clash . bristol city, beat nigel cloughs men opening day, held goalless draw last seasons playoff finalists leyton orient chesterfield, league two champions, beaten 10 mk dons, play manchester united capital one cup seven days time. arsenal loanee benik afobe scored goal game break. meanwhile, crawley lost unbeaten status, bradford maintained theirs, thanks 31 win bantams. james hanson became first player score crawley season 49 minutes joe walsh equalised five minutes later. heads bristol citys korey smith left leyton orients lloyd james go header . strikes billy knott mason bennett sealed impressive away win phil parkinsons men. bradford second behind fleetwood doncasters stoppagetime equaliser meant preston, joe garner signed new contract earlier tuesday, held 11 draw slipped table. chris humphrey looked secured points lilywhites nathan tyson struck lastgasp leveller. standin striker matt done scored hattrick rochdale evenings highscoring affair crewe hammered 52. marcus haber marked full railwaymen debut brace dones treble goals ian henderson peter vincenti helped keith hills men big away victory. plenty goals coventry barnsley 22 draw four goals coming first half. josh mcquoid jordan clarke twice gave sky blues lead, tykes earned point thanks strikes conor hourihane leroy lita. notts county recorded 21 home win colchester ronan murray liam noble target. freddie sears replied colchester. james wilsons second half equaliser earned oldham points port vale tom popes opener yeovil claimed 21 away victory walsall kevin dawson striking late winner. tom bradshaw equalised veteran james hayter gave glovers lead. finally, swindon held gillingham 22 draw thanks stephen bywaters lastminute goal. danny kedwell kortney hause twice gave gills lead andy williams pulled swindon level bywater dropped raphael brancos cross net.\n",
            "Extracted Events:\n",
            "Subject: team, Verb: sent\n",
            "Subject: army, Verb: shows\n",
            "Subject: teams, Verb: hit\n",
            "Subject: crawley, Verb: hit\n",
            "Subject: opener, Verb: gave\n",
            "Subject: davies, Verb: snatched\n",
            "Subject: right, Verb: celebrates\n",
            "Subject: sheffield, Verb: uniteds\n",
            "Subject: doyle, Verb: left\n",
            "Subject: city, Verb: beat\n",
            "Subject: playoff, Verb: finalists\n",
            "Subject: champions, Verb: play\n",
            "Subject: afobe, Verb: scored\n",
            "Subject: crawley, Verb: lost\n",
            "Subject: bradford, Verb: maintained\n",
            "Subject: hanson, Verb: became\n",
            "Subject: walsh, Verb: equalised\n",
            "Subject: smith, Verb: left\n",
            "Subject: james, Verb: go\n",
            "Subject: bennett, Verb: sealed\n",
            "Subject: bradford, Verb: meant\n",
            "Subject: equaliser, Verb: meant\n",
            "Subject: garner, Verb: signed\n",
            "Subject: draw, Verb: slipped\n",
            "Subject: humphrey, Verb: looked\n",
            "Subject: tyson, Verb: struck\n",
            "Subject: crewe, Verb: hammered\n",
            "Subject: haber, Verb: marked\n",
            "Subject: vincenti, Verb: helped\n",
            "Subject: barnsley, Verb: draw\n",
            "Subject: clarke, Verb: gave\n",
            "Subject: tykes, Verb: earned\n",
            "Subject: hourihane, Verb: leroy\n",
            "Subject: county, Verb: recorded\n",
            "Subject: sears, Verb: replied\n",
            "Subject: wilsons, Verb: earned\n",
            "Subject: yeovil, Verb: claimed\n",
            "Subject: dawson, Verb: striking\n",
            "Subject: hayter, Verb: gave\n",
            "Subject: kortney, Verb: hause\n",
            "Subject: williams, Verb: pulled\n",
            "Subject: bywater, Verb: dropped\n",
            "\n",
            "\n"
          ]
        }
      ],
      "source": [
        "import spacy\n",
        "\n",
        "# تحميل نموذج spaCy\n",
        "nlp = spacy.load('en_core_web_sm')\n",
        "\n",
        "# تحليل النصوص لتحديد الأحداث\n",
        "def extract_events(text):\n",
        "    doc = nlp(text)\n",
        "    events = []\n",
        "    for token in doc:\n",
        "        if token.pos_ == 'VERB':  # تحديد الأفعال\n",
        "            subjects = [w for w in token.children if w.dep_ == 'nsubj']\n",
        "            if subjects:\n",
        "                for subj in subjects:\n",
        "                    events.append((subj.text, token.text))  # ربط الفاعل بالحدث\n",
        "    return events\n",
        "\n",
        "# استخدام النصوص من مجموعة البيانات\n",
        "for index, row in train_data.head(5).iterrows():\n",
        "    text = row['article_cleaned']  # أو استخدم row['summary_cleaned']\n",
        "\n",
        "    # استخراج الأحداث\n",
        "    events = extract_events(text)\n",
        "\n",
        "    print(f\"Text {index + 1}: {text}\")\n",
        "    print(\"Extracted Events:\")\n",
        "    for subj, verb in events:\n",
        "        print(f\"Subject: {subj}, Verb: {verb}\")\n",
        "    print(\"\\n\")"
      ]
    },
    {
      "cell_type": "markdown",
      "metadata": {
        "id": "76C6IVsYLjk5"
      },
      "source": [
        "# unsupervised: توليد الجمل الملخصة (Summary Generation)"
      ]
    },
    {
      "cell_type": "code",
      "execution_count": null,
      "metadata": {
        "colab": {
          "base_uri": "https://localhost:8080/"
        },
        "id": "p-9Nwp_rLreF",
        "outputId": "ce7abcd3-8229-4902-891c-099bf29e3059"
      },
      "outputs": [
        {
          "name": "stdout",
          "output_type": "stream",
          "text": [
            "Collecting gensim==3.8.3\n",
            "  Downloading gensim-3.8.3.tar.gz (23.4 MB)\n",
            "\u001b[2K     \u001b[90m━━━━━━━━━━━━━━━━━━━━━━━━━━━━━━━━━━━━━━━━\u001b[0m \u001b[32m23.4/23.4 MB\u001b[0m \u001b[31m30.0 MB/s\u001b[0m eta \u001b[36m0:00:00\u001b[0m\n",
            "\u001b[?25h  Preparing metadata (setup.py) ... \u001b[?25l\u001b[?25hdone\n",
            "Requirement already satisfied: numpy>=1.11.3 in /usr/local/lib/python3.10/dist-packages (from gensim==3.8.3) (1.26.4)\n",
            "Requirement already satisfied: scipy>=0.18.1 in /usr/local/lib/python3.10/dist-packages (from gensim==3.8.3) (1.13.1)\n",
            "Requirement already satisfied: six>=1.5.0 in /usr/local/lib/python3.10/dist-packages (from gensim==3.8.3) (1.17.0)\n",
            "Requirement already satisfied: smart_open>=1.8.1 in /usr/local/lib/python3.10/dist-packages (from gensim==3.8.3) (7.1.0)\n",
            "Requirement already satisfied: wrapt in /usr/local/lib/python3.10/dist-packages (from smart_open>=1.8.1->gensim==3.8.3) (1.17.0)\n",
            "Building wheels for collected packages: gensim\n",
            "  \u001b[1;31merror\u001b[0m: \u001b[1msubprocess-exited-with-error\u001b[0m\n",
            "  \n",
            "  \u001b[31m×\u001b[0m \u001b[32mpython setup.py bdist_wheel\u001b[0m did not run successfully.\n",
            "  \u001b[31m│\u001b[0m exit code: \u001b[1;36m1\u001b[0m\n",
            "  \u001b[31m╰─>\u001b[0m See above for output.\n",
            "  \n",
            "  \u001b[1;35mnote\u001b[0m: This error originates from a subprocess, and is likely not a problem with pip.\n",
            "  Building wheel for gensim (setup.py) ... \u001b[?25lerror\n",
            "\u001b[31m  ERROR: Failed building wheel for gensim\u001b[0m\u001b[31m\n",
            "\u001b[0m\u001b[?25h  Running setup.py clean for gensim\n",
            "Failed to build gensim\n",
            "\u001b[31mERROR: ERROR: Failed to build installable wheels for some pyproject.toml based projects (gensim)\u001b[0m\u001b[31m\n",
            "\u001b[0m"
          ]
        }
      ],
      "source": [
        "!pip install gensim==3.8.3"
      ]
    },
    {
      "cell_type": "code",
      "execution_count": null,
      "metadata": {
        "colab": {
          "base_uri": "https://localhost:8080/"
        },
        "id": "o584nsP5MTES",
        "outputId": "85515ce6-7bca-4315-e7d5-127399995c3b"
      },
      "outputs": [
        {
          "name": "stdout",
          "output_type": "stream",
          "text": [
            "Requirement already satisfied: sumy in /usr/local/lib/python3.10/dist-packages (0.11.0)\n",
            "Requirement already satisfied: docopt<0.7,>=0.6.1 in /usr/local/lib/python3.10/dist-packages (from sumy) (0.6.2)\n",
            "Requirement already satisfied: breadability>=0.1.20 in /usr/local/lib/python3.10/dist-packages (from sumy) (0.1.20)\n",
            "Requirement already satisfied: requests>=2.7.0 in /usr/local/lib/python3.10/dist-packages (from sumy) (2.32.3)\n",
            "Requirement already satisfied: pycountry>=18.2.23 in /usr/local/lib/python3.10/dist-packages (from sumy) (24.6.1)\n",
            "Requirement already satisfied: nltk>=3.0.2 in /usr/local/lib/python3.10/dist-packages (from sumy) (3.9.1)\n",
            "Requirement already satisfied: chardet in /usr/local/lib/python3.10/dist-packages (from breadability>=0.1.20->sumy) (5.2.0)\n",
            "Requirement already satisfied: lxml>=2.0 in /usr/local/lib/python3.10/dist-packages (from breadability>=0.1.20->sumy) (5.3.0)\n",
            "Requirement already satisfied: click in /usr/local/lib/python3.10/dist-packages (from nltk>=3.0.2->sumy) (8.1.8)\n",
            "Requirement already satisfied: joblib in /usr/local/lib/python3.10/dist-packages (from nltk>=3.0.2->sumy) (1.4.2)\n",
            "Requirement already satisfied: regex>=2021.8.3 in /usr/local/lib/python3.10/dist-packages (from nltk>=3.0.2->sumy) (2024.11.6)\n",
            "Requirement already satisfied: tqdm in /usr/local/lib/python3.10/dist-packages (from nltk>=3.0.2->sumy) (4.67.1)\n",
            "Requirement already satisfied: charset-normalizer<4,>=2 in /usr/local/lib/python3.10/dist-packages (from requests>=2.7.0->sumy) (3.4.1)\n",
            "Requirement already satisfied: idna<4,>=2.5 in /usr/local/lib/python3.10/dist-packages (from requests>=2.7.0->sumy) (3.10)\n",
            "Requirement already satisfied: urllib3<3,>=1.21.1 in /usr/local/lib/python3.10/dist-packages (from requests>=2.7.0->sumy) (2.3.0)\n",
            "Requirement already satisfied: certifi>=2017.4.17 in /usr/local/lib/python3.10/dist-packages (from requests>=2.7.0->sumy) (2024.12.14)\n"
          ]
        }
      ],
      "source": [
        "pip install sumy"
      ]
    },
    {
      "cell_type": "markdown",
      "metadata": {
        "id": "0Att3ShBMa7Z"
      },
      "source": [
        "بطريقة sumy"
      ]
    },
    {
      "cell_type": "code",
      "execution_count": null,
      "metadata": {
        "colab": {
          "base_uri": "https://localhost:8080/"
        },
        "id": "KADuBFFMMVWI",
        "outputId": "b6a3abc1-cb66-4a5f-dfef-84894656a83e"
      },
      "outputs": [
        {
          "name": "stdout",
          "output_type": "stream",
          "text": [
            "Text 1 Summary:\n",
            "bishop fargo catholic diocese north dakota exposed potentially hundreds church members fargo, grand forks jamestown hepatitis virus late september early october.\n",
            "bishop john folda pictured fargo catholic diocese north dakota exposed potentially hundreds church members fargo, grand forks jamestown hepatitis .\n",
            "diocese announced monday bishop john folda taking time diagnosed hepatitis a. diocese says contracted infection contaminated food attending conference newly ordained bishops italy last month.\n",
            "\n",
            "\n",
            "Text 2 Summary:\n",
            "criminal complaint unsealed u.s. district court new jersey tuesday accuses mata, also known milk man, using role police officer help drug trafficking organization exchange money gifts, including rolex watch.\n",
            "court documents released investigators specify name drug trafficking organization mata allegedly conspired says organization importing narcotics places ecuador dominican republic hiding inside shipping containers containing pallets produce, including bananas.\n",
            "mata worked miamidade police department since 1992, including directing investigations miami gardens working lieutenant k9 unit miami international airport, according complaint.\n",
            "\n",
            "\n",
            "Text 3 Summary:\n",
            "mr ecclestontodd took decision pick mobile phone whilst driving and, either reading replying text message, distracted failed negotiate lefthand bend, crossing central white line path miss titleys oncoming car.\n",
            "judge agreed police would limit time red citroen hit miss titleys blue daihatsu cuore road near yarmouth, isle wight, october 11, 2013. phone records showed also texting around time crash.\n",
            "ecclestontodd found guilty causing death dangerous driving following trial portsmouth crown court pictured added mr ecclestontodd spend six years behind bars, rachels family lost forever.\n",
            "\n",
            "\n",
            "Text 4 Summary:\n",
            "alexei navalny, onetime moscow mayoral contender house arrest opposing current regime, called europes leaders ban everyone vladimir putins personal banker chelsea football club owner roman abramovich keeping money loved ones abroad.\n",
            "strategy might also turn silver lining awarding eu countries chance finally deal unpleasant sides patronage, including money laundering corruption, inflated prize assets like london property picasso paintings years.\n",
            "true trade war would hurt russia far harder would eu least 15 formers gdp comes exports bloc.\n",
            "\n",
            "\n",
            "Text 5 Summary:\n",
            "jose baxters opener gave blades firsthalf lead, although later cancelled shaun brisleys goal, ben davies snatched winner six minutes time.\n",
            "bristol city, beat nigel cloughs men opening day, held goalless draw last seasons playoff finalists leyton orient chesterfield, league two champions, beaten 10 mk dons, play manchester united capital one cup seven days time.\n",
            "james wilsons second half equaliser earned oldham points port vale tom popes opener yeovil claimed 21 away victory walsall kevin dawson striking late winner.\n",
            "\n",
            "\n"
          ]
        }
      ],
      "source": [
        "from sumy.parsers.plaintext import PlaintextParser\n",
        "from sumy.nlp.tokenizers import Tokenizer\n",
        "from sumy.summarizers.text_rank import TextRankSummarizer\n",
        "\n",
        "# تلخيص النصوص باستخدام sumy\n",
        "for index, row in train_data.head(5).iterrows():\n",
        "    text = row['article_cleaned']  # أو استخدم row['summary_cleaned']\n",
        "\n",
        "    parser = PlaintextParser.from_string(text, Tokenizer(\"english\"))\n",
        "    summarizer = TextRankSummarizer()\n",
        "\n",
        "    summary = summarizer(parser.document, 3)  # ملخص يتكون من 3 جمل\n",
        "    print(f\"Text {index + 1} Summary:\")\n",
        "    for sentence in summary:\n",
        "        print(sentence)\n",
        "    print(\"\\n\")"
      ]
    },
    {
      "cell_type": "markdown",
      "metadata": {
        "id": "boeYvpjDMdtn"
      },
      "source": [
        "بطريقة LSA"
      ]
    },
    {
      "cell_type": "code",
      "execution_count": null,
      "metadata": {
        "colab": {
          "base_uri": "https://localhost:8080/"
        },
        "id": "7MlPoGtYLxuX",
        "outputId": "79c03ac5-468f-45d3-fafb-89d4a1a1b5da"
      },
      "outputs": [
        {
          "name": "stdout",
          "output_type": "stream",
          "text": [
            "Text 1 LSA Summary:\n",
            "bishop fargo catholic diocese north dakota exposed potentially hundreds church members fargo, grand forks jamestown hepatitis virus late september early october bishop john folda pictured fargo catholic diocese north dakota exposed potentially hundreds church members fargo, grand forks jamestown hepatitis  fargo catholic diocese north dakota pictured bishop located .\n",
            "\n",
            "\n",
            "Text 2 LSA Summary:\n",
            "district court new jersey tuesday accuses mata, also known milk man, using role police officer help drug trafficking organization exchange money gifts, including rolex watch court documents released investigators specify name drug trafficking organization mata allegedly conspired says organization importing narcotics places ecuador dominican republic hiding inside shipping containers containing pallets produce, including bananas mata worked miamidade police department since 1992, including directing investigations miami gardens working lieutenant k9 unit miami international airport, according complaint\n",
            "\n",
            "\n",
            "Text 3 LSA Summary:\n",
            "mr ecclestontodd took decision pick mobile phone whilst driving and, either reading replying text message, distracted failed negotiate lefthand bend, crossing central white line path miss titleys oncoming car ecclestontodd found guilty causing death dangerous driving following trial portsmouth crown court pictured added mr ecclestontodd spend six years behind bars, rachels family lost forever craig ecclestontodd, 27 left using mobile phone crashed headon car driven rachel titley, 28 right\n",
            "\n",
            "\n",
            "Text 4 LSA Summary:\n",
            "alexei navalny, onetime moscow mayoral contender house arrest opposing current regime, called europes leaders ban everyone vladimir putins personal banker chelsea football club owner roman abramovich keeping money loved ones abroad strategy might also turn silver lining awarding eu countries chance finally deal unpleasant sides patronage, including money laundering corruption, inflated prize assets like london property picasso paintings years initially slapping visa restrictions asset freezes limited number little known politicians military men, europe facing urgent calls widen scope measures target russian business community particular\n",
            "\n",
            "\n",
            "Text 5 LSA Summary:\n",
            "bristol city, beat nigel cloughs men opening day, held goalless draw last seasons playoff finalists leyton orient chesterfield, league two champions, beaten 10 mk dons, play manchester united capital one cup seven days time james wilsons second half equaliser earned oldham points port vale tom popes opener yeovil claimed 21 away victory walsall kevin dawson striking late winner jose baxters opener gave blades firsthalf lead, although later cancelled shaun brisleys goal, ben davies snatched winner six minutes time\n",
            "\n",
            "\n"
          ]
        }
      ],
      "source": [
        "from sklearn.decomposition import TruncatedSVD\n",
        "from sklearn.feature_extraction.text import TfidfVectorizer\n",
        "\n",
        "# تلخيص النصوص باستخدام LSA\n",
        "def summarize_lsa(texts, num_sentences=3):\n",
        "    vectorizer = TfidfVectorizer(stop_words='english')\n",
        "    X = vectorizer.fit_transform(texts)\n",
        "\n",
        "    # تطبيق LSA\n",
        "    svd = TruncatedSVD(n_components=5)  # يمكن تعديل العدد حسب الحاجة\n",
        "    svd.fit(X)\n",
        "\n",
        "    # الحصول على الكلمات الأكثر أهمية\n",
        "    terms = vectorizer.get_feature_names_out()\n",
        "    sentences = texts[0].split('. ')\n",
        "\n",
        "    # ترتيب الجمل حسب الوزن\n",
        "    sentence_weights = []\n",
        "    for i, sentence in enumerate(sentences):\n",
        "        weight = sum(svd.components_[0][vectorizer.transform([sentence]).nonzero()[1]])\n",
        "        sentence_weights.append((weight, sentence))\n",
        "\n",
        "    # اختيار الجمل الأكثر أهمية\n",
        "    top_sentences = sorted(sentence_weights, reverse=True)[:num_sentences]\n",
        "    return ' '.join(sentence for _, sentence in top_sentences)\n",
        "\n",
        "# تلخيص النصوص\n",
        "for index, row in train_data.head(5).iterrows():\n",
        "    text = row['article_cleaned']  # أو استخدم row['summary_cleaned']\n",
        "\n",
        "    # استخدام LSA للتلخيص\n",
        "    lsa_summary = summarize_lsa([text])\n",
        "    print(f\"Text {index + 1} LSA Summary:\")\n",
        "    print(lsa_summary)\n",
        "    print(\"\\n\")"
      ]
    },
    {
      "cell_type": "code",
      "execution_count": null,
      "metadata": {
        "colab": {
          "base_uri": "https://localhost:8080/"
        },
        "id": "ZVIwyc3PiwZX",
        "outputId": "a259709d-7818-4111-ad3c-5d8893641af7"
      },
      "outputs": [
        {
          "name": "stderr",
          "output_type": "stream",
          "text": [
            "/usr/local/lib/python3.10/dist-packages/sklearn/decomposition/_truncated_svd.py:273: RuntimeWarning: invalid value encountered in divide\n",
            "  self.explained_variance_ratio_ = exp_var / full_var\n"
          ]
        },
        {
          "name": "stdout",
          "output_type": "stream",
          "text": [
            "Text 1 LSA Summary:\n",
            "bishop fargo catholic diocese north dakota exposed potentially hundreds church members fargo, grand forks jamestown hepatitis virus late september early october bishop john folda pictured fargo catholic diocese north dakota exposed potentially hundreds church members fargo, grand forks jamestown hepatitis \n",
            "\n",
            "\n",
            "Text 2 LSA Summary:\n",
            "district court new jersey tuesday accuses mata, also known milk man, using role police officer help drug trafficking organization exchange money gifts, including rolex watch court documents released investigators specify name drug trafficking organization mata allegedly conspired says organization importing narcotics places ecuador dominican republic hiding inside shipping containers containing pallets produce, including bananas\n",
            "\n",
            "\n",
            "Text 3 LSA Summary:\n",
            "mr ecclestontodd took decision pick mobile phone whilst driving and, either reading replying text message, distracted failed negotiate lefthand bend, crossing central white line path miss titleys oncoming car ecclestontodd found guilty causing death dangerous driving following trial portsmouth crown court pictured added mr ecclestontodd spend six years behind bars, rachels family lost forever\n",
            "\n",
            "\n",
            "Text 4 LSA Summary:\n",
            "alexei navalny, onetime moscow mayoral contender house arrest opposing current regime, called europes leaders ban everyone vladimir putins personal banker chelsea football club owner roman abramovich keeping money loved ones abroad strategy might also turn silver lining awarding eu countries chance finally deal unpleasant sides patronage, including money laundering corruption, inflated prize assets like london property picasso paintings years\n",
            "\n",
            "\n",
            "Text 5 LSA Summary:\n",
            "bristol city, beat nigel cloughs men opening day, held goalless draw last seasons playoff finalists leyton orient chesterfield, league two champions, beaten 10 mk dons, play manchester united capital one cup seven days time james wilsons second half equaliser earned oldham points port vale tom popes opener yeovil claimed 21 away victory walsall kevin dawson striking late winner\n",
            "\n",
            "\n"
          ]
        }
      ],
      "source": [
        "from sklearn.decomposition import TruncatedSVD\n",
        "from sklearn.feature_extraction.text import TfidfVectorizer\n",
        "import pandas as pd\n",
        "#lsa 2\n",
        "# دالة تلخيص النصوص باستخدام LSA\n",
        "def summarize_lsa(texts, num_sentences=3):\n",
        "    \"\"\"\n",
        "    تلخيص النصوص باستخدام تحليل LSA.\n",
        "\n",
        "    Args:\n",
        "        texts (list): قائمة بالنصوص (نص واحد أو أكثر).\n",
        "        num_sentences (int): عدد الجمل المطلوبة في الملخص.\n",
        "\n",
        "    Returns:\n",
        "        str: النص الملخص.\n",
        "    \"\"\"\n",
        "    # إنشاء TF-IDF\n",
        "    vectorizer = TfidfVectorizer(stop_words='english')\n",
        "    X = vectorizer.fit_transform(texts)\n",
        "\n",
        "    # تطبيق LSA باستخدام TruncatedSVD\n",
        "    svd = TruncatedSVD(n_components=5)  # عدد المكونات يمكن تعديله حسب النصوص\n",
        "    svd.fit(X)\n",
        "\n",
        "    # استخراج الجمل من النص\n",
        "    sentences = texts[0].split('. ')\n",
        "\n",
        "    # حساب الوزن لكل جملة\n",
        "    sentence_weights = []\n",
        "    for sentence in sentences:\n",
        "        sentence_vector = vectorizer.transform([sentence])\n",
        "        weight = svd.components_[0][sentence_vector.nonzero()[1]].sum()\n",
        "        sentence_weights.append((weight, sentence))\n",
        "\n",
        "    # ترتيب الجمل حسب الوزن واختيار الأكثر أهمية\n",
        "    top_sentences = sorted(sentence_weights, key=lambda x: x[0], reverse=True)[:num_sentences]\n",
        "    top_sentences = sorted(top_sentences, key=lambda x: sentences.index(x[1]))  # للحفاظ على ترتيب النص الأصلي\n",
        "\n",
        "    # إعادة الجمل الأكثر أهمية كنص ملخص\n",
        "    return ' '.join(sentence for _, sentence in top_sentences)\n",
        "\n",
        "\n",
        "# تلخيص النصوص من ملف\n",
        "if __name__ == \"__main__\":\n",
        "    # قراءة الملف\n",
        "    file_path = \"/content/data/cleaned_train_data.csv\"  # استبدل هذا بمسار ملفك\n",
        "    column_name = \"article_cleaned\"  # اسم العمود الذي يحتوي على النصوص\n",
        "\n",
        "    # تحميل البيانات\n",
        "    try:\n",
        "        train_data = pd.read_csv(file_path)\n",
        "\n",
        "        # التحقق من وجود العمود المطلوب\n",
        "        if column_name not in train_data.columns:\n",
        "            raise ValueError(f\"Column '{column_name}' not found in the file.\")\n",
        "\n",
        "        # تلخيص أول 5 نصوص\n",
        "        for index, row in train_data.head(5).iterrows():\n",
        "            text = row[column_name]\n",
        "            lsa_summary = summarize_lsa([text])\n",
        "            print(f\"Text {index + 1} LSA Summary:\")\n",
        "            print(lsa_summary)\n",
        "            print(\"\\n\")\n",
        "\n",
        "    except FileNotFoundError:\n",
        "        print(f\"Error: The file '{file_path}' was not found.\")\n",
        "    except Exception as e:\n",
        "        print(f\"An error occurred: {e}\")\n"
      ]
    },
    {
      "cell_type": "markdown",
      "metadata": {
        "id": "AZS3txBukEbg"
      },
      "source": [
        "#  unsupervised: تقييم الملخصات (Evaluation)"
      ]
    },
    {
      "cell_type": "code",
      "execution_count": null,
      "metadata": {
        "colab": {
          "base_uri": "https://localhost:8080/"
        },
        "collapsed": true,
        "id": "wmjA6Vn6kLjt",
        "outputId": "37d7c6eb-6ca7-4b57-a41d-82db58477d21"
      },
      "outputs": [
        {
          "name": "stdout",
          "output_type": "stream",
          "text": [
            "Requirement already satisfied: rouge-score in /usr/local/lib/python3.10/dist-packages (0.1.2)\n",
            "Requirement already satisfied: absl-py in /usr/local/lib/python3.10/dist-packages (from rouge-score) (1.4.0)\n",
            "Requirement already satisfied: nltk in /usr/local/lib/python3.10/dist-packages (from rouge-score) (3.9.1)\n",
            "Requirement already satisfied: numpy in /usr/local/lib/python3.10/dist-packages (from rouge-score) (1.26.4)\n",
            "Requirement already satisfied: six>=1.14.0 in /usr/local/lib/python3.10/dist-packages (from rouge-score) (1.17.0)\n",
            "Requirement already satisfied: click in /usr/local/lib/python3.10/dist-packages (from nltk->rouge-score) (8.1.8)\n",
            "Requirement already satisfied: joblib in /usr/local/lib/python3.10/dist-packages (from nltk->rouge-score) (1.4.2)\n",
            "Requirement already satisfied: regex>=2021.8.3 in /usr/local/lib/python3.10/dist-packages (from nltk->rouge-score) (2024.11.6)\n",
            "Requirement already satisfied: tqdm in /usr/local/lib/python3.10/dist-packages (from nltk->rouge-score) (4.67.1)\n"
          ]
        }
      ],
      "source": [
        "pip install rouge-score\n"
      ]
    },
    {
      "cell_type": "code",
      "execution_count": null,
      "metadata": {
        "colab": {
          "base_uri": "https://localhost:8080/"
        },
        "collapsed": true,
        "id": "_1cwy--OBeJ9",
        "outputId": "49994638-008c-4eec-f13f-377dcfca4c4c"
      },
      "outputs": [
        {
          "name": "stdout",
          "output_type": "stream",
          "text": [
            "Requirement already satisfied: rouge in /usr/local/lib/python3.10/dist-packages (1.0.1)\n",
            "Requirement already satisfied: six in /usr/local/lib/python3.10/dist-packages (from rouge) (1.17.0)\n"
          ]
        }
      ],
      "source": [
        "pip install rouge\n"
      ]
    },
    {
      "cell_type": "markdown",
      "metadata": {
        "id": "15AczuAaASUx"
      },
      "source": [
        "LSA Evaluation"
      ]
    },
    {
      "cell_type": "code",
      "execution_count": null,
      "metadata": {
        "colab": {
          "base_uri": "https://localhost:8080/"
        },
        "id": "RJTrrHsL_TZM",
        "outputId": "318167ab-1017-4fa4-f6fd-2c82e194c003"
      },
      "outputs": [
        {
          "name": "stderr",
          "output_type": "stream",
          "text": [
            "/usr/local/lib/python3.10/dist-packages/sklearn/decomposition/_truncated_svd.py:273: RuntimeWarning: invalid value encountered in divide\n",
            "  self.explained_variance_ratio_ = exp_var / full_var\n"
          ]
        },
        {
          "name": "stdout",
          "output_type": "stream",
          "text": [
            "Text 1 LSA Summary:\n",
            "bishop fargo catholic diocese north dakota exposed potentially hundreds church members fargo, grand forks jamestown hepatitis virus late september early october bishop john folda pictured fargo catholic diocese north dakota exposed potentially hundreds church members fargo, grand forks jamestown hepatitis  fargo catholic diocese north dakota pictured bishop located .\n",
            "ROUGE Scores: {'rouge1': Score(precision=0.25, recall=0.5714285714285714, fmeasure=0.34782608695652173), 'rouge2': Score(precision=0.1702127659574468, recall=0.4, fmeasure=0.23880597014925373), 'rougeL': Score(precision=0.22916666666666666, recall=0.5238095238095238, fmeasure=0.31884057971014496)}\n",
            "\n",
            "\n",
            "Text 2 LSA Summary:\n",
            "district court new jersey tuesday accuses mata, also known milk man, using role police officer help drug trafficking organization exchange money gifts, including rolex watch court documents released investigators specify name drug trafficking organization mata allegedly conspired says organization importing narcotics places ecuador dominican republic hiding inside shipping containers containing pallets produce, including bananas mata worked miamidade police department since 1992, including directing investigations miami gardens working lieutenant k9 unit miami international airport, according complaint\n",
            "ROUGE Scores: {'rouge1': Score(precision=0.13333333333333333, recall=0.37037037037037035, fmeasure=0.19607843137254902), 'rouge2': Score(precision=0.013513513513513514, recall=0.038461538461538464, fmeasure=0.02), 'rougeL': Score(precision=0.09333333333333334, recall=0.25925925925925924, fmeasure=0.13725490196078433)}\n",
            "\n",
            "\n",
            "Text 3 LSA Summary:\n",
            "mr ecclestontodd took decision pick mobile phone whilst driving and, either reading replying text message, distracted failed negotiate lefthand bend, crossing central white line path miss titleys oncoming car ecclestontodd found guilty causing death dangerous driving following trial portsmouth crown court pictured added mr ecclestontodd spend six years behind bars, rachels family lost forever craig ecclestontodd, 27 left using mobile phone crashed headon car driven rachel titley, 28 right\n",
            "ROUGE Scores: {'rouge1': Score(precision=0.30434782608695654, recall=0.5, fmeasure=0.3783783783783784), 'rouge2': Score(precision=0.14705882352941177, recall=0.24390243902439024, fmeasure=0.18348623853211007), 'rougeL': Score(precision=0.14492753623188406, recall=0.23809523809523808, fmeasure=0.18018018018018017)}\n",
            "\n",
            "\n",
            "Text 4 LSA Summary:\n",
            "alexei navalny, onetime moscow mayoral contender house arrest opposing current regime, called europes leaders ban everyone vladimir putins personal banker chelsea football club owner roman abramovich keeping money loved ones abroad strategy might also turn silver lining awarding eu countries chance finally deal unpleasant sides patronage, including money laundering corruption, inflated prize assets like london property picasso paintings years initially slapping visa restrictions asset freezes limited number little known politicians military men, europe facing urgent calls widen scope measures target russian business community particular\n",
            "ROUGE Scores: {'rouge1': Score(precision=0.10714285714285714, recall=0.2647058823529412, fmeasure=0.15254237288135591), 'rouge2': Score(precision=0.012048192771084338, recall=0.030303030303030304, fmeasure=0.017241379310344827), 'rougeL': Score(precision=0.05952380952380952, recall=0.14705882352941177, fmeasure=0.08474576271186442)}\n",
            "\n",
            "\n",
            "Text 5 LSA Summary:\n",
            "bristol city, beat nigel cloughs men opening day, held goalless draw last seasons playoff finalists leyton orient chesterfield, league two champions, beaten 10 mk dons, play manchester united capital one cup seven days time james wilsons second half equaliser earned oldham points port vale tom popes opener yeovil claimed 21 away victory walsall kevin dawson striking late winner jose baxters opener gave blades firsthalf lead, although later cancelled shaun brisleys goal, ben davies snatched winner six minutes time\n",
            "ROUGE Scores: {'rouge1': Score(precision=0.15384615384615385, recall=0.2727272727272727, fmeasure=0.19672131147540986), 'rouge2': Score(precision=0.012987012987012988, recall=0.023255813953488372, fmeasure=0.016666666666666663), 'rougeL': Score(precision=0.08974358974358974, recall=0.1590909090909091, fmeasure=0.11475409836065575)}\n",
            "\n",
            "\n",
            "Average ROUGE Scores:\n",
            "ROUGE-1: 0.2543\n",
            "ROUGE-2: 0.0952\n",
            "ROUGE-L: 0.1672\n"
          ]
        }
      ],
      "source": [
        "from sklearn.decomposition import TruncatedSVD\n",
        "from sklearn.feature_extraction.text import TfidfVectorizer\n",
        "from rouge_score import rouge_scorer\n",
        "import pandas as pd\n",
        "\n",
        "# تلخيص النصوص باستخدام LSA\n",
        "def summarize_lsa(texts, num_sentences=3):\n",
        "    vectorizer = TfidfVectorizer(stop_words='english')\n",
        "    X = vectorizer.fit_transform(texts)\n",
        "\n",
        "    # تطبيق LSA\n",
        "    svd = TruncatedSVD(n_components=5)  # يمكن تعديل العدد حسب الحاجة\n",
        "    svd.fit(X)\n",
        "\n",
        "    # الحصول على الكلمات الأكثر أهمية\n",
        "    terms = vectorizer.get_feature_names_out()\n",
        "    sentences = texts[0].split('. ')\n",
        "\n",
        "    # ترتيب الجمل حسب الوزن\n",
        "    sentence_weights = []\n",
        "    for i, sentence in enumerate(sentences):\n",
        "        weight = sum(svd.components_[0][vectorizer.transform([sentence]).nonzero()[1]])\n",
        "        sentence_weights.append((weight, sentence))\n",
        "\n",
        "    # اختيار الجمل الأكثر أهمية\n",
        "    top_sentences = sorted(sentence_weights, reverse=True)[:num_sentences]\n",
        "    return ' '.join(sentence for _, sentence in top_sentences)\n",
        "\n",
        "# حساب ROUGE\n",
        "def evaluate_with_rouge(predicted, reference):\n",
        "    scorer = rouge_scorer.RougeScorer(['rouge1', 'rouge2', 'rougeL'], use_stemmer=True)\n",
        "    scores = scorer.score(reference, predicted)\n",
        "    return scores\n",
        "\n",
        "# تحميل البيانات\n",
        "file_path = '/content/data/cleaned_train_data.csv'  # استبدل بمسار ملفك\n",
        "train_data = pd.read_csv(file_path)\n",
        "\n",
        "# تخزين التقييم\n",
        "rouge_results = []\n",
        "\n",
        "# التقييم على أول 5 نصوص\n",
        "for index, row in train_data.head(5).iterrows():\n",
        "    text = row['article_cleaned']  # النصوص الأصلية\n",
        "    reference_summary = row['summary_cleaned']  # النصوص المرجعية\n",
        "\n",
        "    # تلخيص باستخدام LSA\n",
        "    lsa_summary = summarize_lsa([text])\n",
        "\n",
        "    # تقييم باستخدام ROUGE\n",
        "    rouge_score = evaluate_with_rouge(lsa_summary, reference_summary)\n",
        "    rouge_results.append(rouge_score)\n",
        "\n",
        "    # عرض النتائج\n",
        "    print(f\"Text {index + 1} LSA Summary:\")\n",
        "    print(lsa_summary)\n",
        "    print(\"ROUGE Scores:\", rouge_score)\n",
        "    print(\"\\n\")\n",
        "\n",
        "\n",
        "# عرض المتوسطات النهائية\n",
        "avg_rouge1 = sum(r['rouge1'].fmeasure for r in rouge_results) / len(rouge_results)\n",
        "avg_rouge2 = sum(r['rouge2'].fmeasure for r in rouge_results) / len(rouge_results)\n",
        "avg_rougeL = sum(r['rougeL'].fmeasure for r in rouge_results) / len(rouge_results)\n",
        "\n",
        "print(\"Average ROUGE Scores:\")\n",
        "print(f\"ROUGE-1: {avg_rouge1:.4f}\")\n",
        "print(f\"ROUGE-2: {avg_rouge2:.4f}\")\n",
        "print(f\"ROUGE-L: {avg_rougeL:.4f}\")\n"
      ]
    },
    {
      "cell_type": "markdown",
      "metadata": {
        "id": "nMS_BGURBpT9"
      },
      "source": [
        "sumy Evaluate"
      ]
    },
    {
      "cell_type": "code",
      "execution_count": null,
      "metadata": {
        "colab": {
          "base_uri": "https://localhost:8080/"
        },
        "id": "yBWT3soPBi7P",
        "outputId": "0b3c1180-ddcb-4de3-9fe9-c685d50ca9d4"
      },
      "outputs": [
        {
          "name": "stdout",
          "output_type": "stream",
          "text": [
            "   Text Index   ROUGE-1   ROUGE-2   ROUGE-L\n",
            "0           1  0.562500  0.323529  0.531250\n",
            "1           2  0.147368  0.019417  0.147368\n",
            "2           3  0.341880  0.147541  0.290598\n",
            "3           4  0.077670  0.000000  0.077670\n",
            "4           5  0.135593  0.016667  0.118644\n",
            "\n",
            "Average ROUGE Scores:\n",
            "ROUGE-1: 0.2530\n",
            "ROUGE-2: 0.1014\n",
            "ROUGE-L: 0.2331\n"
          ]
        }
      ],
      "source": [
        "from sumy.parsers.plaintext import PlaintextParser\n",
        "from sumy.nlp.tokenizers import Tokenizer\n",
        "from sumy.summarizers.text_rank import TextRankSummarizer\n",
        "from rouge import Rouge\n",
        "import pandas as pd\n",
        "\n",
        "# تحميل البيانات\n",
        "train_data = pd.read_csv('/content/data/cleaned_train_data.csv')\n",
        "\n",
        "# إنشاء كائن ROUGE\n",
        "rouge = Rouge()\n",
        "\n",
        "# قائمة لتخزين النتائج\n",
        "results = []\n",
        "\n",
        "# تلخيص النصوص وتقييمها\n",
        "for index, row in train_data.head(5).iterrows():\n",
        "    # النص الأصلي والملخص المرجعي\n",
        "    text = row['article_cleaned']\n",
        "    reference_summary = row['summary_cleaned']\n",
        "\n",
        "    # تلخيص باستخدام sumy\n",
        "    parser = PlaintextParser.from_string(text, Tokenizer(\"english\"))\n",
        "    summarizer = TextRankSummarizer()\n",
        "    summary_sentences = summarizer(parser.document, 3)  # تلخيص من 3 جمل\n",
        "    generated_summary = \" \".join(str(sentence) for sentence in summary_sentences)  # تحويل الجمل إلى نص واحد\n",
        "\n",
        "    # حساب ROUGE\n",
        "    scores = rouge.get_scores(generated_summary, reference_summary, avg=True)\n",
        "\n",
        "    # تخزين النتائج\n",
        "    results.append({\n",
        "        \"Text Index\": index + 1,\n",
        "        \"ROUGE-1\": scores['rouge-1']['f'],\n",
        "        \"ROUGE-2\": scores['rouge-2']['f'],\n",
        "        \"ROUGE-L\": scores['rouge-l']['f']\n",
        "    })\n",
        "\n",
        "# تحويل النتائج إلى DataFrame\n",
        "results_df = pd.DataFrame(results)\n",
        "\n",
        "# عرض النتائج\n",
        "print(results_df)\n",
        "\n",
        "# حساب المتوسطات\n",
        "average_scores = results_df.mean()\n",
        "print(\"\\nAverage ROUGE Scores:\")\n",
        "print(f\"ROUGE-1: {average_scores['ROUGE-1']:.4f}\")\n",
        "print(f\"ROUGE-2: {average_scores['ROUGE-2']:.4f}\")\n",
        "print(f\"ROUGE-L: {average_scores['ROUGE-L']:.4f}\")\n"
      ]
    },
    {
      "cell_type": "markdown",
      "metadata": {
        "id": "08-xLJPxlja_"
      },
      "source": [
        "**cosain similarety Evaluation**"
      ]
    },
    {
      "cell_type": "markdown",
      "metadata": {
        "id": "d2Wp8XjNz31T"
      },
      "source": [
        "LSA"
      ]
    },
    {
      "cell_type": "code",
      "execution_count": null,
      "metadata": {
        "colab": {
          "base_uri": "https://localhost:8080/"
        },
        "id": "uHuAPk_flm00",
        "outputId": "84b1bf33-7268-4b7f-f5f2-b55e690d94f1"
      },
      "outputs": [
        {
          "name": "stdout",
          "output_type": "stream",
          "text": [
            "Content-Based Evaluation (Cosine Similarity): 0.6390\n",
            "Original Text 1: . associated press . published . 1411 est, 25 october 2013 . . updated . 1536 est, 25 october 2013 . bishop fargo catholic diocese north dakota exposed potentially hundreds church members fargo, grand forks jamestown hepatitis virus late september early october. state health department issued advisory exposure anyone attended five churches took communion. bishop john folda pictured fargo catholic diocese north dakota exposed potentially hundreds church members fargo, grand forks jamestown hepatitis . state immunization program manager molly howell says risk low, officials feel important alert people possible exposure. diocese announced monday bishop john folda taking time diagnosed hepatitis a. diocese says contracted infection contaminated food attending conference newly ordained bishops italy last month. symptoms hepatitis include fever, tiredness, loss appetite, nausea abdominal discomfort. fargo catholic diocese north dakota pictured bishop located .\n",
            "Reference Summary 1: bishop john folda, north dakota, taking time diagnosed . contracted infection contaminated food italy . church members fargo, grand forks jamestown could exposed .\n",
            "Generated Summary 1: bishop fargo catholic diocese north dakota exposed potentially hundreds church members fargo, grand forks jamestown hepatitis virus late september early october bishop john folda pictured fargo catholic diocese north dakota exposed potentially hundreds church members fargo, grand forks jamestown hepatitis  fargo catholic diocese north dakota pictured bishop located .\n",
            "\n",
            "\n",
            "Original Text 2: cnn ralph mata internal affairs lieutenant miamidade police department, working division investigates allegations wrongdoing cops. outside office, authorities allege 45yearold longtime officer worked drug trafficking organization help plan murder plot get guns. criminal complaint unsealed u.s. district court new jersey tuesday accuses mata, also known milk man, using role police officer help drug trafficking organization exchange money gifts, including rolex watch. one instance, complaint alleges, mata arranged pay two assassins kill rival drug dealers. killers would pose cops, pulling targets shooting them, according complaint. ultimately, organization decided move forward murder plot, mata still received payment setting meetings, federal prosecutors said statement. complaint also alleges mata used police badge purchase weapons drug traffickers. mata, according complaint, used contacts airport transport weapons carryon luggage trips miami dominican republic. court documents released investigators specify name drug trafficking organization mata allegedly conspired says organization importing narcotics places ecuador dominican republic hiding inside shipping containers containing pallets produce, including bananas. organization distributing narcotics new jersey elsewhere, complaint says. authorities arrested mata tuesday miami gardens, florida. immediately clear whether mata attorney, police officials could immediately reached comment. mata worked miamidade police department since 1992, including directing investigations miami gardens working lieutenant k9 unit miami international airport, according complaint. since march 2010, working internal affairs division. mata faces charges aiding abetting conspiracy distribute cocaine, conspiring distribute cocaine engaging monetary transactions property derived specified unlawful activity. scheduled appear federal court florida wednesday. convicted, mata could face life prison. cnns suzanne presto contributed report.\n",
            "Reference Summary 2: criminal complaint cop used role help cocaine traffickers . ralph mata, internal affairs lieutenant, allegedly helped group get guns . also arranged pay two assassins murder plot, complaint alleges .\n",
            "Generated Summary 2: district court new jersey tuesday accuses mata, also known milk man, using role police officer help drug trafficking organization exchange money gifts, including rolex watch court documents released investigators specify name drug trafficking organization mata allegedly conspired says organization importing narcotics places ecuador dominican republic hiding inside shipping containers containing pallets produce, including bananas mata worked miamidade police department since 1992, including directing investigations miami gardens working lieutenant k9 unit miami international airport, according complaint\n",
            "\n",
            "\n",
            "Original Text 3: drunk driver killed young woman headon crash checking mobile phone jailed six years. craig ecclestontodd, 27, driving home night pub received text message. reading replying it, veered across road driving round bend smashed rachel titleys car coming way. craig ecclestontodd, 27 left using mobile phone crashed headon car driven rachel titley, 28 right. died later injuries . headon crash took place october 2013. mr ecclestontodds car barely recognisable pictured police said ecclestontodd drunk least three four pints beer getting behind wheel. found guilty causing death dangerous driving portsmouth crown court yesterday. miss titley, 28yearold solicitors clerk cowes, isle wight, also spent evening friends pub drunk alcohol, police said. driving responsibly nothing could done avoid collision, added. lindsay pennell, prosecuting, said craig ecclestontodds driving resulted tragic death young woman, rachel titley, death could avoided. mr ecclestontodd took decision pick mobile phone whilst driving and, either reading replying text message, distracted failed negotiate lefthand bend, crossing central white line path miss titleys oncoming car. miss titley pulled wreckage daihatsu cuore died later injuries hospital . miss titley bright future ahead her. also returning home spent enjoyable evening friends driving responsibly. arranged contact friends got home confirm arrived safely. friends sadly never heard parted company. miss titleys death circumstances reiterates danger using handheld mobile phone whilst driving. police unable take breath blood tests ecclestontodd immediately, tests several hours accident marginally drinkdrive limit. judge agreed police would limit time red citroen hit miss titleys blue daihatsu cuore road near yarmouth, isle wight, october 11, 2013. phone records showed also texting around time crash. pc mark furse, hampshire constabularys serious collision investigation unit, said thoughts rachels family time. friends pub shalfleet evening, alcohol. investigation showed nothing could done avoid collision sadly cost life. mr ecclestontodd left work yarmouth met friends pub drank least three four pints lager. hadnt long left pub return home collision occurred around 9.30pm. werent able take breath blood tests immediately although blood taken several hours collision showed marginally limit, maintain would limit time collision summing today, judge agreed. analysis phone records showed texting phone around time collision highly likely would also contributed dangerous driving loss control. ecclestontodd found guilty causing death dangerous driving following trial portsmouth crown court pictured added mr ecclestontodd spend six years behind bars, rachels family lost forever. hope make people think twice drinking alcohol getting behind wheel, using phone theyre road. dangers drink driving driving whilst using mobile phone obvious. continue risk spending substantial time prison. case highlights tragic consequences committing offences be. mr ecclestontodd spend six years behind bars, rachels family lost ever. ecclestontodd, newport, isle wight, also disqualified driving eight years complete extended retest.\n",
            "Reference Summary 3: craig ecclestontodd, 27, drunk least three pints driving car . using phone veered across road yarmouth, isle wight . crashed headon 28yearold rachel titleys car, died hospital . police say would legal drinkdrive limit time crash . found guilty portsmouth crown court causing death dangerous driving .\n",
            "Generated Summary 3: mr ecclestontodd took decision pick mobile phone whilst driving and, either reading replying text message, distracted failed negotiate lefthand bend, crossing central white line path miss titleys oncoming car ecclestontodd found guilty causing death dangerous driving following trial portsmouth crown court pictured added mr ecclestontodd spend six years behind bars, rachels family lost forever craig ecclestontodd, 27 left using mobile phone crashed headon car driven rachel titley, 28 right\n",
            "\n",
            "\n",
            "Original Text 4: cnn breezy sweep pen president vladimir putin wrote new chapter crimeas turbulent history, committing region future returned russian domain. sixty years prior, ukraines breakaway peninsula signed away swiftly soviet leader nikita khrushchev. dealing blatant land grab eastern flank wont anywhere near quick easy europes 28member union. because, unlike crimeas rushed referendum, everyone say. initially slapping visa restrictions asset freezes limited number little known politicians military men, europe facing urgent calls widen scope measures target russian business community particular. logic run russia essentially two sides coin. alexei navalny, onetime moscow mayoral contender house arrest opposing current regime, called europes leaders ban everyone vladimir putins personal banker chelsea football club owner roman abramovich keeping money loved ones abroad. asset freezes visa restrictions especially palatable options eu rolled discretionary basis, without requiring cumbersome legal procedures recourse. fact russia cancels visas people doesnt like time. look hermitage capital founder bill browder lost right entry moscowbased money 2005 dare go back. russia also banned adoption orphans americans retaliation uss implementation anticorruption law named sergei magnitsky, browders lawyer died year moscow detention center, apparently beaten death. yet playing money talks card, europe must ready consequences action. money also walks. eu leaders must ready accept sanctions twoway street hurt sides. targeting russias peripatetic business community would one way sapping tenuous support president putin. strategy might also turn silver lining awarding eu countries chance finally deal unpleasant sides patronage, including money laundering corruption, inflated prize assets like london property picasso paintings years. europe hold fire though trade. two decades postsoviet rapprochement almost 500 billion worth commerce lot put stake. true trade war would hurt russia far harder would eu least 15 formers gdp comes exports bloc. europe hefty reliance russian gas would hard time keeping factories going citizens warm without power east. putin flexes political muscle, open trade channels keep dialogue going giving sides chance change subject talk less tensely. one afford cut lifeline, especially europes economy rebound russias one wane.\n",
            "Reference Summary 4: nina dos santos says europe must ready accept sanctions hurt sides . targeting russias business community would one way sapping support president putin, says . says europe would hard time keeping factories going without power east .\n",
            "Generated Summary 4: alexei navalny, onetime moscow mayoral contender house arrest opposing current regime, called europes leaders ban everyone vladimir putins personal banker chelsea football club owner roman abramovich keeping money loved ones abroad strategy might also turn silver lining awarding eu countries chance finally deal unpleasant sides patronage, including money laundering corruption, inflated prize assets like london property picasso paintings years initially slapping visa restrictions asset freezes limited number little known politicians military men, europe facing urgent calls widen scope measures target russian business community particular\n",
            "\n",
            "\n",
            "Original Text 5: fleetwood team still 100 record sky bet league one 20 win scunthorpe sent graham alexanders men top table. cod army playing third tier first time history six promotions nine years remarkable ascent shows sign slowing jamie proctor gareth evans scoring goals glanford park. fleetwood one five teams two two four clubs peterborough, bristol city, chesterfield crawley hit first stumbling blocks. posh defeated 21 sheffield united, lost opening contests. jose baxters opener gave blades firsthalf lead, although later cancelled shaun brisleys goal, ben davies snatched winner six minutes time. lead jose baxter right celebrates opening scoring sheffield united . battle sheffield uniteds michael doyle left challenges peterboroughs kyle vassell keenlycontested clash . bristol city, beat nigel cloughs men opening day, held goalless draw last seasons playoff finalists leyton orient chesterfield, league two champions, beaten 10 mk dons, play manchester united capital one cup seven days time. arsenal loanee benik afobe scored goal game break. meanwhile, crawley lost unbeaten status, bradford maintained theirs, thanks 31 win bantams. james hanson became first player score crawley season 49 minutes joe walsh equalised five minutes later. heads bristol citys korey smith left leyton orients lloyd james go header . strikes billy knott mason bennett sealed impressive away win phil parkinsons men. bradford second behind fleetwood doncasters stoppagetime equaliser meant preston, joe garner signed new contract earlier tuesday, held 11 draw slipped table. chris humphrey looked secured points lilywhites nathan tyson struck lastgasp leveller. standin striker matt done scored hattrick rochdale evenings highscoring affair crewe hammered 52. marcus haber marked full railwaymen debut brace dones treble goals ian henderson peter vincenti helped keith hills men big away victory. plenty goals coventry barnsley 22 draw four goals coming first half. josh mcquoid jordan clarke twice gave sky blues lead, tykes earned point thanks strikes conor hourihane leroy lita. notts county recorded 21 home win colchester ronan murray liam noble target. freddie sears replied colchester. james wilsons second half equaliser earned oldham points port vale tom popes opener yeovil claimed 21 away victory walsall kevin dawson striking late winner. tom bradshaw equalised veteran james hayter gave glovers lead. finally, swindon held gillingham 22 draw thanks stephen bywaters lastminute goal. danny kedwell kortney hause twice gave gills lead andy williams pulled swindon level bywater dropped raphael brancos cross net.\n",
            "Reference Summary 5: fleetwood top league one 20 win scunthorpe . peterborough, bristol city, chesterfield crawley drop first points season . standin striker matt done scores hattrick rochdale thrash crewe 52 . wins notts county yeovil . coventrybradford oldhamport vale end draws . late stephen bywater goal denies gillingham three points millwall .\n",
            "Generated Summary 5: bristol city, beat nigel cloughs men opening day, held goalless draw last seasons playoff finalists leyton orient chesterfield, league two champions, beaten 10 mk dons, play manchester united capital one cup seven days time james wilsons second half equaliser earned oldham points port vale tom popes opener yeovil claimed 21 away victory walsall kevin dawson striking late winner jose baxters opener gave blades firsthalf lead, although later cancelled shaun brisleys goal, ben davies snatched winner six minutes time\n",
            "\n",
            "\n"
          ]
        },
        {
          "name": "stderr",
          "output_type": "stream",
          "text": [
            "/usr/local/lib/python3.10/dist-packages/sklearn/decomposition/_truncated_svd.py:273: RuntimeWarning: invalid value encountered in divide\n",
            "  self.explained_variance_ratio_ = exp_var / full_var\n"
          ]
        }
      ],
      "source": [
        "import pandas as pd\n",
        "from sklearn.feature_extraction.text import TfidfVectorizer\n",
        "from sklearn.metrics.pairwise import cosine_similarity\n",
        "from sklearn.decomposition import TruncatedSVD\n",
        "\n",
        "# دالة تلخيص النصوص باستخدام LSA\n",
        "def summarize_lsa(texts, num_sentences=3):\n",
        "    vectorizer = TfidfVectorizer(stop_words='english')\n",
        "    X = vectorizer.fit_transform(texts)\n",
        "\n",
        "    # تطبيق LSA\n",
        "    svd = TruncatedSVD(n_components=5)\n",
        "    svd.fit(X)\n",
        "\n",
        "    # تقسيم النص إلى جمل\n",
        "    sentences = texts[0].split('. ')\n",
        "\n",
        "    # حساب الوزن لكل جملة\n",
        "    sentence_weights = []\n",
        "    for sentence in sentences:\n",
        "        weight = sum(svd.components_[0][vectorizer.transform([sentence]).nonzero()[1]])\n",
        "        sentence_weights.append((weight, sentence))\n",
        "\n",
        "    # اختيار الجمل الأكثر أهمية\n",
        "    top_sentences = sorted(sentence_weights, key=lambda x: x[0], reverse=True)[:num_sentences]\n",
        "    return ' '.join(sentence for _, sentence in top_sentences)\n",
        "\n",
        "# دالة حساب التشابه باستخدام Cosine Similarity\n",
        "def content_based_evaluation(original_texts, generated_summaries):\n",
        "    vectorizer = TfidfVectorizer(stop_words='english')\n",
        "    all_texts = original_texts + generated_summaries\n",
        "    tfidf_matrix = vectorizer.fit_transform(all_texts)\n",
        "\n",
        "    # فصل متجهات النصوص الأصلية والملخصات\n",
        "    original_vectors = tfidf_matrix[:len(original_texts)]\n",
        "    generated_vectors = tfidf_matrix[len(original_texts):]\n",
        "\n",
        "    # حساب التشابه الكوني\n",
        "    similarities = cosine_similarity(original_vectors, generated_vectors)\n",
        "    avg_similarity = similarities.diagonal().mean()  # متوسط التشابه بين النصوص الأصلية والملخصات\n",
        "    return avg_similarity\n",
        "\n",
        "# قراءة البيانات من ملف\n",
        "file_path = \"/content/data/cleaned_train_data.csv\"  # استبدل بمسار ملفك\n",
        "data = pd.read_csv(file_path)\n",
        "\n",
        "# التأكد من وجود الأعمدة المطلوبة\n",
        "assert 'article_cleaned' in data.columns, \"Column 'article_cleaned' not found in the dataset\"\n",
        "assert 'summary_cleaned' in data.columns, \"Column 'summary_cleaned' not found in the dataset\"\n",
        "\n",
        "# استخدام أول 5 نصوص فقط\n",
        "data_subset = data.head(5)\n",
        "original_texts = data_subset['article_cleaned'].tolist()\n",
        "reference_summaries = data_subset['summary_cleaned'].tolist()\n",
        "\n",
        "# توليد الملخصات باستخدام LSA\n",
        "generated_summaries = []\n",
        "for text in original_texts:\n",
        "    lsa_summary = summarize_lsa([text])\n",
        "    generated_summaries.append(lsa_summary)\n",
        "\n",
        "# تقييم Content-Based\n",
        "similarity_score = content_based_evaluation(original_texts, generated_summaries)\n",
        "print(f\"Content-Based Evaluation (Cosine Similarity): {similarity_score:.4f}\")\n",
        "\n",
        "# طباعة أمثلة للمقارنة\n",
        "for i in range(len(data_subset)):  # طباعة النصوص والملخصات لأول 5 فقط\n",
        "    print(f\"Original Text {i + 1}: {original_texts[i]}\")\n",
        "    print(f\"Reference Summary {i + 1}: {reference_summaries[i]}\")\n",
        "    print(f\"Generated Summary {i + 1}: {generated_summaries[i]}\")\n",
        "    print(\"\\n\")\n"
      ]
    },
    {
      "cell_type": "markdown",
      "metadata": {
        "id": "9N5ngF-Bz9J8"
      },
      "source": [
        "sumy"
      ]
    },
    {
      "cell_type": "code",
      "execution_count": null,
      "metadata": {
        "colab": {
          "base_uri": "https://localhost:8080/"
        },
        "id": "ozpUpZouzbc0",
        "outputId": "5c548944-6507-454f-8f5a-0873867990a1"
      },
      "outputs": [
        {
          "name": "stdout",
          "output_type": "stream",
          "text": [
            "Text 1 Summary (Generated):\n",
            "bishop fargo catholic diocese north dakota exposed potentially hundreds church members fargo, grand forks jamestown hepatitis virus late september early october. bishop john folda pictured fargo catholic diocese north dakota exposed potentially hundreds church members fargo, grand forks jamestown hepatitis . diocese announced monday bishop john folda taking time diagnosed hepatitis a. diocese says contracted infection contaminated food attending conference newly ordained bishops italy last month.\n",
            "True Summary: bishop john folda, north dakota, taking time diagnosed . contracted infection contaminated food italy . church members fargo, grand forks jamestown could exposed .\n",
            "Cosine Similarity between Generated and True Summary: 0.5904\n",
            "\n",
            "\n",
            "Text 2 Summary (Generated):\n",
            "criminal complaint unsealed u.s. district court new jersey tuesday accuses mata, also known milk man, using role police officer help drug trafficking organization exchange money gifts, including rolex watch. court documents released investigators specify name drug trafficking organization mata allegedly conspired says organization importing narcotics places ecuador dominican republic hiding inside shipping containers containing pallets produce, including bananas. mata worked miamidade police department since 1992, including directing investigations miami gardens working lieutenant k9 unit miami international airport, according complaint.\n",
            "True Summary: criminal complaint cop used role help cocaine traffickers . ralph mata, internal affairs lieutenant, allegedly helped group get guns . also arranged pay two assassins murder plot, complaint alleges .\n",
            "Cosine Similarity between Generated and True Summary: 0.1350\n",
            "\n",
            "\n",
            "Text 3 Summary (Generated):\n",
            "mr ecclestontodd took decision pick mobile phone whilst driving and, either reading replying text message, distracted failed negotiate lefthand bend, crossing central white line path miss titleys oncoming car. judge agreed police would limit time red citroen hit miss titleys blue daihatsu cuore road near yarmouth, isle wight, october 11, 2013. phone records showed also texting around time crash. ecclestontodd found guilty causing death dangerous driving following trial portsmouth crown court pictured added mr ecclestontodd spend six years behind bars, rachels family lost forever.\n",
            "True Summary: craig ecclestontodd, 27, drunk least three pints driving car . using phone veered across road yarmouth, isle wight . crashed headon 28yearold rachel titleys car, died hospital . police say would legal drinkdrive limit time crash . found guilty portsmouth crown court causing death dangerous driving .\n",
            "Cosine Similarity between Generated and True Summary: 0.3211\n",
            "\n",
            "\n",
            "Text 4 Summary (Generated):\n",
            "alexei navalny, onetime moscow mayoral contender house arrest opposing current regime, called europes leaders ban everyone vladimir putins personal banker chelsea football club owner roman abramovich keeping money loved ones abroad. strategy might also turn silver lining awarding eu countries chance finally deal unpleasant sides patronage, including money laundering corruption, inflated prize assets like london property picasso paintings years. true trade war would hurt russia far harder would eu least 15 formers gdp comes exports bloc.\n",
            "True Summary: nina dos santos says europe must ready accept sanctions hurt sides . targeting russias business community would one way sapping support president putin, says . says europe would hard time keeping factories going without power east .\n",
            "Cosine Similarity between Generated and True Summary: 0.0299\n",
            "\n",
            "\n",
            "Text 5 Summary (Generated):\n",
            "jose baxters opener gave blades firsthalf lead, although later cancelled shaun brisleys goal, ben davies snatched winner six minutes time. bristol city, beat nigel cloughs men opening day, held goalless draw last seasons playoff finalists leyton orient chesterfield, league two champions, beaten 10 mk dons, play manchester united capital one cup seven days time. james wilsons second half equaliser earned oldham points port vale tom popes opener yeovil claimed 21 away victory walsall kevin dawson striking late winner.\n",
            "True Summary: fleetwood top league one 20 win scunthorpe . peterborough, bristol city, chesterfield crawley drop first points season . standin striker matt done scores hattrick rochdale thrash crewe 52 . wins notts county yeovil . coventrybradford oldhamport vale end draws . late stephen bywater goal denies gillingham three points millwall .\n",
            "Cosine Similarity between Generated and True Summary: 0.0990\n",
            "\n",
            "\n"
          ]
        }
      ],
      "source": [
        "from sklearn.feature_extraction.text import TfidfVectorizer\n",
        "from sklearn.metrics.pairwise import cosine_similarity\n",
        "from sumy.parsers.plaintext import PlaintextParser\n",
        "from sumy.nlp.tokenizers import Tokenizer\n",
        "from sumy.summarizers.text_rank import TextRankSummarizer\n",
        "import pandas as pd\n",
        "\n",
        "# دالة لحساب Cosine Similarity بين النصين\n",
        "def calculate_cosine_similarity(text1, text2):\n",
        "    vectorizer = TfidfVectorizer(stop_words='english')\n",
        "    # دمج النصين للحصول على تمثيل مشترك\n",
        "    tfidf_matrix = vectorizer.fit_transform([text1, text2])\n",
        "    return cosine_similarity(tfidf_matrix[0:1], tfidf_matrix[1:2])[0][0]\n",
        "\n",
        "# تلخيص النصوص باستخدام TextRank وتقييمها باستخدام Cosine Similarity\n",
        "for index, row in train_data.head(5).iterrows():\n",
        "    text = row['article_cleaned']  # النص الأصلي\n",
        "    true_summary = row['summary_cleaned']  # الملخص الموجود في البيانات\n",
        "\n",
        "    # تطبيق TextRank على النص\n",
        "    parser = PlaintextParser.from_string(text, Tokenizer(\"english\"))\n",
        "    summarizer = TextRankSummarizer()\n",
        "    summary = summarizer(parser.document, 3)  # ملخص يتكون من 3 جمل\n",
        "\n",
        "    # جمع الجمل في الملخص الذي تولده الخوارزمية\n",
        "    generated_summary = ' '.join([str(sentence) for sentence in summary])\n",
        "\n",
        "    # حساب الـ Cosine Similarity بين الملخص الناتج والملخص الموجود في البيانات\n",
        "    cosine_sim = calculate_cosine_similarity(generated_summary, true_summary)\n",
        "\n",
        "    # طباعة النتيجة\n",
        "    print(f\"Text {index + 1} Summary (Generated):\")\n",
        "    print(generated_summary)\n",
        "    print(f\"True Summary: {true_summary}\")\n",
        "    print(f\"Cosine Similarity between Generated and True Summary: {cosine_sim:.4f}\")\n",
        "    print(\"\\n\")\n"
      ]
    },
    {
      "cell_type": "markdown",
      "metadata": {
        "id": "kZY4zXFIgyHL"
      },
      "source": [
        "# Supervised"
      ]
    },
    {
      "cell_type": "markdown",
      "metadata": {
        "id": "oV2VyvW3gmqK"
      },
      "source": [
        "# **استخراج الميزات**"
      ]
    },
    {
      "cell_type": "code",
      "execution_count": null,
      "metadata": {
        "colab": {
          "base_uri": "https://localhost:8080/"
        },
        "collapsed": true,
        "id": "sk8rfHH6g3WW",
        "outputId": "2e4234e6-22dc-43d5-f772-2a6897a1e088"
      },
      "outputs": [
        {
          "name": "stderr",
          "output_type": "stream",
          "text": [
            "[nltk_data] Downloading package punkt to /root/nltk_data...\n",
            "[nltk_data]   Package punkt is already up-to-date!\n"
          ]
        },
        {
          "name": "stdout",
          "output_type": "stream",
          "text": [
            "                      sentence  length\n",
            "0                            .       1\n",
            "1           associated press .       3\n",
            "2                  published .       2\n",
            "3  1411 est, 25 october 2013 .       7\n",
            "4                            .       1\n"
          ]
        }
      ],
      "source": [
        "import pandas as pd\n",
        "import nltk\n",
        "from nltk.tokenize import sent_tokenize, word_tokenize\n",
        "\n",
        "# تحميل مكتبة nltk\n",
        "nltk.download('punkt')\n",
        "\n",
        "# قراءة ملف CSV\n",
        "file_path = '/content/data/cleaned_train_data.csv'  # استبدل بمسار ملفك\n",
        "df = pd.read_csv(file_path)\n",
        "\n",
        "# التحقق من وجود العمود الذي يحتوي النصوص\n",
        "text_column = 'article_cleaned'  # استبدل باسم العمود الذي يحتوي النصوص\n",
        "if text_column not in df.columns:\n",
        "    raise ValueError(f\"العمود '{text_column}' غير موجود في الملف\")\n",
        "\n",
        "# التوكنة على مستوى الجملة وحساب الأطوال\n",
        "sentence_lengths = []\n",
        "\n",
        "for text in df[text_column]:\n",
        "    sentences = sent_tokenize(text)  # تقسيم النص إلى جمل\n",
        "    for sentence in sentences:\n",
        "        tokenized_words = word_tokenize(sentence)  # تقسيم الجملة إلى كلمات\n",
        "        sentence_lengths.append({'sentence': sentence, 'length': len(tokenized_words)})\n",
        "\n",
        "# تحويل النتائج إلى DataFrame\n",
        "lengths_df = pd.DataFrame(sentence_lengths)\n",
        "\n",
        "# حفظ النتائج إلى ملف جديد\n",
        "lengths_df.to_csv('sentence_lengths.csv', index=False)\n",
        "\n",
        "print(lengths_df.head(5))\n"
      ]
    },
    {
      "cell_type": "code",
      "execution_count": null,
      "metadata": {
        "colab": {
          "base_uri": "https://localhost:8080/"
        },
        "collapsed": true,
        "id": "5-vx0IqfXlmO",
        "outputId": "c894c44f-e868-49a7-c110-b3c614af6eca"
      },
      "outputs": [
        {
          "name": "stdout",
          "output_type": "stream",
          "text": [
            "أطول 10 جمل مع أطوالها:\n",
            "1. الجملة: michael j. milia, 34, garden city, new york ruben m. gomez, 45, wesbury, new york robert kittelberger, 46, wantagh, new york judd lesser, 50, lawrence, new york jaspreet singh, 20, bellerose, new york louis dimaria, 38, manhasset, new york christian flizzola, 23, mineola, new york mario lucio, 47, mineola, new york arnold j. sean, 19, uniondale, new york jeremy j. moore, 38, freeport, new york leon reginald tarver iii, 35, uniondale, new york mark r. hader, 53, glen head, new york john j. leon, 53, new hyde park, new york gary h. friedenberg, 72, melville, new york david m. knott jr., 28, mill neck, new york harjot singh, 28, hicksville, new york ronald h. haeseker, 51, north merrick, new york herbert j. mccooey, 31, garden city south, new york jonathon s. vega, 29, long beach, new york david bennett, 28, merrick, new york hildago canales, 23, westbury, new york william smith, 36, wantagh, new york scott w. manning, 44, oceanside, new york adrian lamar irving, 36, uplend, pennsylvania craig leiber, 39, west hepstead, new york michael j. felici, 42, wantagh, new york val a. catrini, 42, rockville centre, new york avi polischuk, 35, massapequa, new york scott frankel, 47, oceanside, new york david newman, 27, flushing, queens, new york jason dacova, 26, westbury, new york zaul a. buruca, 22, hicksville, new york hassen t. butt, 36, east meadow, new york khemraj gangaparsad, 27, lynbrook, new york craig t. pio, 47, oceanside, new york tamir dardashtian, 39, great neck, new york vadim crunchinin, 39, queens village, new york michael e. charles, 29, westbury, new york john cammisuli, 44, flushing, queens, new york walter a. delaney, 54, garden city, new york jared b. scholl, stanfordville, new york rajiv ravi, 31, queens village, new york pedro caetano, 28, mineola, new york richard cioffi, 55, hicksville, new york eric r. caglayan, 31, baldwin, new york abraham emanuel, 31, uniondale, new york shravan kothary, 43, merrick, new york justin cocchi, 39, massapequa, new york john graff, 44, tabernacle, new jersey kelvin flores, 51, baldwin, new york frank caliendo, 46, carle place, new york karthikeyan visvanathan, 39, east meadow, new york ryan diaz, 17, jericho, new york william cruz, 40, uniondale, new york ricky somekh, 59, great neck, new york david hershkowitz, 57, merrick, new york xavier smithubbard, 25, wyndanch, new york jarrow ruando, 32, hempstead, new york tim murphy, 44, merrick, new york paul bruckner, 21, alpharetta, georgia jonathon peterkin, 39, medford, new york guiseppe colletti, 52, douglaston, new york, izhak surizon, 55, brookeville, new york marvin baptiste, 31, brooklyn, new york russell johnson, 52, freeport, new york geoffroy roget, 28, hollis, new york kehhow min, 42, garden city, new york ivan dochter, 79, north hills, new york steven lara, 35, levittown, new york vincent viceconte 40, south hempstead, new york peter mondella, 22, levittown, new york, paul lee, 23, plainview, new york shahid khan, 30, east meadow, new york oscar remedios, 48, wellesley, massachusetts robert d. finarick, 54, seaford, new york nicholas j. sisti, 50, mineaola, new york brad renegoben, 51, wantagh, new york jonathan wade, 53, hempstead, new york, salvatore j. rizza, 54, cedarhurst, new york walter d. haluchia, 45, westbury, new york peter f. malet, 62, garden city, new york kenneth finkelstein, 49, island park, new york michael a. adler, 54, west hempstead, new york gerardo orozco, 43, mineola, new york rosario gambino, 53, bethpage, new york douglas r. sherman, 48, roslyn, new york andre white, 46, rosedale, new york richard obedian, 45, muttontown, new york jian hua xu, 32, flushing, queens, new york lloyd vernon, 38, copiague, new york mark depperman, 45, levittown, new york edward henry, 63, franklin square, new york william cantwell, 54, levittown, new york, sheikh iqbal, 33, floral park, new york arnick singh, 46, glen head, new york jeremy leroux, 38, new hyde park, new york franck fonrose, 26, westbury, new york richard capace, 52, east meadow, new york anijah ajah, 22, manhasset hills, new york reginald pierepaul, 40, rosedale, new york william caputo, 57, west islip, new york thomas fricker, 46, port jefferson, new york alexander ishmael, 22, franklin square, new york eddie digsby, 52, uniondale, new york .\n",
            "   الطول: 1010\n",
            "2. الجملة: centre court 1pm25 alize cornet fra v 13 eugenie bouchard can3 andy murray gbr v 20 kevin anderson rsa1 novak djokovic ser v 14 jowilfried tsonga fracourt one 1pm11 ana ivanovic ser v 19 sabine lisicki ger finish 64 1111grigor dimitrov bul v leonardo mayer arg9 angelique kerber ger v 5 maria sharapova rus8 serena williams usa venus williams usa v kristina barrois ger stefanie voegele swicourt two 11.30am5 stanislas wawrinka swi v denis istomin uzb6 petra kvitova cze v shuai peng chnlyudmyla kichenok ukr nadiya kichenok ukr v 2 sara errani ita roberta vinci itadominic inglot gbr johanna konta gbr v 2 bob bryan usa kveta peschke czecourt three 11.30am19 feliciano lopez spa v 9 john isner usa22 ekaterina makarova rus v 4 agnieszka radwanska polfeliciano lopez spa jurgen melzer aut v 11 jeanjulien rojer ned horia tecau rom7 rohan bopanna ind andrea hlavackova cze v colin fleming gbr jocelyn rae gbrmate pavic cro bojana jovanovski ser v 6 horia tecau rom sania mirza indcourt 4 11.30am12 marketa vondrousova cze v freya christie gbrjamie malik gbr v noah rubin usaseone mendez aus v holly hutchinson gbrtami grende ina v 15 anna bondar hungabriella taylor gbr v katherine sebov canjulian cash gbr v taylor harry fritz usacourt 5 11.30ammatteo berrettini ita v akira santillan ausjuan jose rosas per v harry bourchier aus5 jil belen teichmann sui v fanny stollar hunmartin blasko svk v 7 francis tiafoe usaelena gabriela ruse rou v 4 aliona bolsova zadoinov spa6 stefan kozlov usa v rafael matos bracourt 6 11.30ammartin klizan svk dominic thiem aut v 2 alexander peya aut bruno soares bra8 rohan bopanna ind aisamulhaq qureshi pak v jaroslav pospisil cze jack sock usacourt 7 11.30ampaula badosa gibert spa v luisa stefani bra1 ivana jorovic ser v kaitlyn mccarthy usa16 naiktha bains aus v greetje minnen beljoel cannell gbr v jan zielinski pol, pedro martinez portero spa v seong chan hong kor, 8 anna karolina schmiedlova svk v usue maitane arconada usacourt 8 11.30amsimone bolelli ita v 10 kei nishikori jpn12 michael llodra fra nicolas mahut fra v johan brunstrom swe frederik nielsen dentomasz bednarek pol vania king usa v 14 max mirnyi blr haoching chan tpejan choinski ger v 11 michael mmoh usakatie swan gbr v 11 ioana loredana rosca romcourt 9 11amkatrine steffensen usa v viktoria kuzmova svktim van rijthoven ned v 15 jumpei yamasaki jpnjaqueline adina cristian rou v 7 francoise abanda canbogdan ionut apostol rou v yunseong chung kormarie bouzkova cze v rebecca sramkova svk, helen ploskina ukr v kimberly birrell auscourt 10 11.30am9 julian knowle aut marcelo melo bra v aleksandr nedovyesov kaz dmitry tursunov rusandrea petkovic ger magdalena rybarikova svk v jarmila gajdosova aus arina rodionova auslukas dlouhy cze liezel huber usa v 5 daniel nestor kristina mladenovic frasofia kenin usa v leticia garcia vidal branicolas alvarez per v alex molcan svkcourt 11 11ammargot yerolymos fra v yolimar ogando purkatie boutler gbr v 13 priscilla hon ausfrancisco bahamonde arg v bogdan bobrov rus4 jaume munar usa v ku keon kang kor8 johan sebastien tatlot fra v omar jasika ausrenata zarazua mex v justina mikulskyte litcourt 12 11.30ammadison keys usa v yaroslava shvedova kaz16 caroline wozniacki den v barbora zahlavova strycova cze10 julia goerges ger annalena groenefeld ger v eva hrdinova cze bojana jovanovski ser6 ashleigh barty aus casey dellacqua aus v kimiko date krumm jpn barbora zahlavova strycova cze1 suwei hsieh tpe shuai peng chn v yulia beygelzimer ukr klaudia jansignacik pol10 jamie murray gbr casey dellacqua aus v jesse huta galung ned andreja klepac slocourt 16 11.30amvera dushevina rus chanelle scheepers rsa v 9 andrea hlavackova cze jie zheng chnchris guccione aus lleyton hewitt aus v 7 lukasz kubot pol robert lindstedt sweneal skupski gbr naomi broady gbr v 9 david marrero spa arantxa parra santonja spaalize cornet fra caroline garcia fra v 7 raquel kopsjones usa abigail spears usa15 nenad zimonjic ser samantha stosur aus v martin emmrich ger michaella krajicek nedcourt 17 11.30ambelinda bencic swi tsvetana pironkova bul v 14 timea babos hun kristina mladenovic fra, 1 bob bryan usa mike bryan usa v roberto bautistaagut spa igor sijsling ned, eric butorac usa timea babos hun v 4 leander paes ind cara black zim, daniela hantuchova svk mirjana lucicbaroni cro v 5 ekaterina makarova rus elena vesnina rus, 1 mike bryan usa katarina srebotnik slo v chris guccione aus oksana kalashnikova geocourt 18 11.30amtereza smitkova cze v 23 lucie safarova czejeremy chardy fra v 26 marin cilic croflavia pennetta ita samantha stosur aus v anastasia pavlyuchenkova rus lucie safarova cze16 aisamulhaq qureshi pak vera dushevina rus v oliver marach aut karolina pliskova cze8 jeanjulien rojer ned annalena groenefeld ger v florin mergea rom elina svitolina ukrcourt 19 11am1 andrey rublev rus v henrik wiersholm usa12 kamil majchrzak pol v joao menezes braevgeniya levashova rus v bianca turati itajodie anna burrage gbr v ipek soylu tur3 tornado alicia black usa v anna brogan gbrnino serdarusic cro v 14 marcelo zormann bramatches arranged 5pm3 alexander peya autabigail spears usa vs martin klizan svkbelinda bencic sui13 matias zukas arg vs chanyeong oh kordaniel appelgren swe vs 9 naoki nakagawa jpnnicholas monroe usashuai zhang chn vs 13 bruno soares bramartina hingis suipedro iamachkine per vs dennis uspensky usaanastasia mikheeva gbr vs jelena ostapenko latmikhail elgin rusanastasia rodionova aus vs 11 juansebastian cabal colraquel kopsjones usahubert hurkacz pol vs lucas miedler autnatalia vikhlyantseva rus vs 6 iryna shymanovich blr\n",
            "   الطول: 907\n",
            "3. الجملة: freshleys honey bunsmurrys french toast bites, cinnamon blasenew york bread sticks real garlic handtied garlic knots real garlic texas toast, 5 cheese texas toast, garlicnew york deli kaiser rolls, plainkaiser rolls, sesameold style cottage potato breadone republic skinny bunsoroweat raisin cinnamon breadpalagonia 100 whole wheat sandwich rolls french bread italian bread mini heros panino italiano rolls sliced italina breadpatriotic honey bunspelmen blueberry perogies peroguis aux bleuets mushrooms champigons perogies, cherryperogies, potato cheddar cheese perogies, potato cottage cheese perogies, potato spinach feta perogies, sauerkraut perogies, sauerkraut mushrooms perogies, sweet cottage cheesepillsbury artisan dinner rolls artisan pizza crust whole grain breadsticks, originalcrusty french loaf italian bread pizza crust, thin crust toaster scrambles, cheese sauce, egg bacon toaster scrambles, cheese sauce, egg sausage toaster strudel pastries, appletoaster strudel pastries, apple cream danish toaster strudel pastries, blueberry toaster strudel pastries, boston cream pie toaster strudel pastries, cinnamon brown sugar toaster strudel pastries, cream cheese strawberry toaster strudel pastries, danish style cream cheesetoaster strudel pastries, strawberrypotmanns select seasoned croutonsrainbo thin sliced white breadrayberns new york deli style rayberns new york deli style philly cheesesteakroast beef cheddar meltrhodes cinnamon rolls, cream cheese frostingroman meal 100 whole wheat breadrosa bianca garlic breadrosens sweet hawaiian rollsroundys 100 whole wheat bread blueberry bagels bratwurst enriched buns, sliced cinnamon raisin swirl bagel croissant sandwiches croutons, cheese garlic croutons, seasoned deli rye bread, seedless enriched hot dog buns everything bagels french bread garlic bread, original garlic bread, parmesan hamburger enriched bunsitalian sausage tortelloni meat fine herbs ravioli muffin sandwiches, ham egg cheesemuffin sandwiches, sausage, egg cheese plain bagels presliced everything bagelsquarter pound chicken sandwich select 9 grain bread texas toast, garlic texas toast, three cheese wheat bread, split top wheat muffin sandwiches, turkey sausage, egg white cheesewhite enriched bread white enriched sandwich breads.rosens black bavarian rye bread bohemian style rye bread brat sausage rollsenriched hot dog buns french rolls, italian beef rolls hawaiian bread, pineapple kaiser bunsmarble rye swirled multi grain bread rye bread rye bread, caraway seeds rye bread, unseeded wheat oat bran bunssafeway cornbread stuffing mix five cheese garlic toastsara lee blueberry crumble breakfast bread brown sugar cinnamon breakfast bread center split deli rolls, white cinnamon breakfast bread raisins cinnamon raisin bagelscinnamon rolls classic dinner rolls deluxe bagels, blueberry deluxe bagels, cinnamon raisindeluxe bagels, plain hearty delicious 100 whole wheat deli rolls hearty delicious center split deli rolls, white honey wheat bread soft smooth 100 whole wheat bread soft smooth 100 whole wheat hot dog buns soft smooth hamburger buns, white soft smooth hot dog buns, white soft smooth wheat hamburger buns white breadschmidt enriched bread enriched hamburger rolls, sliced rye bread wheat rolls whole grain white breadselect signatures spicy chicken slidersshoprite bangles whole wheat cinnamon bread country white bread enriched cinnamon swirl bread enriched honey wheat bread enriched light hot dog rolls enriched light wheat breadenriched round top white bread garlic bread sticks garlic dinner rolls hot dog rolls italian bread onion bagels poppy bagels potato hamburger rolls premium bread premium bread 100 stone ground wheat sandwich white bread sesame bagels sliced hearth baked plain bagels split top white bread swirl rye bread texas toast garlic wheat breadsimplyaddwater premium challah bread mixsmuckers uncrustables peanut butter grape jelly sandwich uncrustables peanut butter grape spread sandwich, reduced sugar uncrustables peanut butter rasperry spread sandwich uncrustables peanut butter strawberry jam sandwich uncrustables peanut butter strawberry spread sandwich, reduced sugarsnacks iced honey bunsstorehmann split top wheat bread white breadsunmaid raisin bread, cinnamon swirlsunbeam enriched buns grilln griddle bread hot dog buns large, enriched breadtexas toast enriched bread, thick slicedsuper bread giant white enriched bread hamburger enriched buns honey wheat bread hot dog enriched buns raisin breadtastykake glazed honey buns honey bun iced honey bunsthe bakery walmart glazed yeast donuts jumbo croissanttoufayan bakeries bagels blueberry cinnamon raisin everything bagels mini bagels, cinnamon raisin mini bagels, plain presliced bagels, whole wheat presliced mini bagels, whole wheatturano brat sausage rolls extra long french bread french rolls gourmet sandwich rollsitalian bread kaiser rolls old fashioned italian bread soft sub rolls wheat french rollswheat rollstuscan garden caesar gourmet restaurant style croutonstyson mini chicken sandwiches mini chicken sandwiches cheddar cheese mini grilled chicken sandwichesungers puff pastry shellsvachon carrot cakesvalu time wheat bread white enriched breadvan de kamps enriched hot dog buns slicedvillage hearth 100 whole wheat bread cottage bread, wheat honey wheat bread light 12 grain bread light italian bread light wheat breadwhite brat bunsweight watchers smart ones english muffin sandwich, canadian style bacon english muffin sandwich, egg whites cheese homestyle turkey breast stuffingwhite castle cheeseburgers microwavable hamburgerswhite rose stuffing mixwonder light wheat bread potato hot dog buns texas toast bread .\n",
            "   الطول: 829\n",
            "4. الجملة: 1 rafael nadal esp v bernard tomic austhanasi kokkinakis aus v igor sijsling nedtobias kamke ger v jack sock usaryan harrison usa v 25 gael monfils fra24 andreas seppi ita v lleyton hewitt ausrobin haase ned v donald young usaqualifier v lucas pouille framarinko matosevic aus v 16 kei nishikori jpn 11 milos raonic v daniel gimenotraver espqualifier v victor hanescu rouqualifier v yenhsun lu tpebradley klhan usa v 22 grigor dimitrov bul27 benoit paire fra v qualifiernick kyrgios aus v benjamin becker gerroberto bautista agut esp v tim smyczek usaqualifier v 5 juan martin del potro arg4 andy murray gbr v go soeda jpnqualifier v qualifierqualifier v michael llodra frasomdev devvarman ind v 26 feliciano lopez esp21 philipp kohlschreiber ger v aljaz bedene slomichael przysiezny pol v horacio zeballos argqualifier v federico delbonis argqualifier v 13 john isner usa 10 jowilfried tsonga fra v filippo volandri itaqualifier v julian reister germarin cilic cro v marcel granollers espdaniel brands ger v 18 gilles simon fra31 fernando verdasco esp v qualifierteymuraz gabashvili rus v sergiy stakhovsky ukrradek stepanek cze v blaz kavcic slojames duckworth aus v 6 roger federer sui7 tomas berdych cze v aleksandr nedovyesov kazdi wu chn v kenny de schepper frajan hajek cze v qualifierivo karlovic cro v 32 ivan dodig cro19 kevin anderson rsa v jiri vesely czequalifier v joao sousa porcarlos berlocq arg v edouard rogervasselin fraguillermo garcialopez esp v 12 tommy haas ger 14 mikhail youzhny rus v janlennard struff gerflorian mayer ger v qualifieralbert ramos esp v pablo andujar espjordan thompson aus v 20 jerzy janowicz pol29 jeremy chardy fra v jesse huta galung nedqualifier v alexandr dolgopolov ukrsteve johnson usa v adrian mannarino fraalejandro gonzalez col v 3 david ferrer esp 8 stanislas wawrinka sui v andrey golubev kazalejandro falla col v mikhail kukushkin kaznicolas mahut fra v matthew ebden aussamuel groth aus v 28 vasek pospisil can17 tommy robredo esp v lukas rosol czepablo carrena busta esp v julien benneteau franikolay davydenko rus v lukasz kubot polqualifier v 9 richard gasquet fra 15 fabio fognini ita v alex bogomolov jr. rusdudi sela isr v jarkko nieminen finsantiago giraldo col v sam querrey usajuan monaco arg v 23 ernests gulbis lat30 dmitry tursunov rus v michael russell usamarcos baghdatis cyp v denis istomin uzbleonardo mayer arg v albert montanes esplukas lacko svk v 2 novak djokovic srb 1 serena williams usa v ashleigh barty ausvesna dolonc srb v lara arruabarrena esppauline parmentier fra v karolina pliskova czequalifier v 31 daniela hantuchova svk17 samantha stosur aus v klara zakopalova czetsvetana pironkova bul v silvia solerespinosa espannika beck ger v petra martic crokiki bertens ned v 14 ana ivanovic srb12 roberta vinci ita v jie zheng chnpatricia mayrachleitner aut v madison keys usacasey dellacqua aus v vera zvonareva ruslaura robson gbr v 18 kirsten flipkens bel30 eugenie bouchard v hao chen tang chnalison van uytvanck bel v virginie razzano frasachia vickey usa v lauren davis usajulia goerges ger v 7 sara errani ita4 na li chn v qualifierqualifier v kimiko datekrumm jpndonna vekic cro v qualifierjulia glushko isr v 26 lucie safarova cze22 ekaterina makarova rus v venus williams usaanabel medina garrigues esp v qualifiershahar peer isr v monica niculescu roumirjana lucicbaronic cro v 15 sabine lisicki ger9 angelique kerber ger v jarmila gajdosova auscaroline garcia fra v qualifierdinah pfizenmaier ger v yanina wickmayer belalison riske usa v 23 elena vesnina rus28 flavia pennetta ita v alexandra cadantu roumonica puig pur v qualifiershuai zhang chn v mona barthel gerluksika kumkhum tha v 6 petra kvitova cze8 jelena jankovic srb v misaki doi jpnnadiya kichenok ukr v ayumi morita jpnkurumi nara jpn v shuai peng chnandrea petkovic ger v 32 magdalena rybarikova svk21 sorana cirstea rou v marina erakovic nzlqualifier v bojana jovanovski srblesia tsurenko ukr v varvara lepchenko usaqualifier v 11 simona halep rou16 carla suarez navarro esp v vania king usagalina voskoboeva kaz v qualifierkristina mladenovic fra v stefanie voegele suifrancesca schiavone ita v 20 dominika cibulkova svk25 alize cornet fra v polona hercog slocamila giorgi ita v storm sanders auspaula ormaechea arg v karin knapp itabethanie matteksands usa v 3 maria sharapova rus5 agnieszka radwanska pol v yulia putintseva kazolga govortsova blr v qualifierqualifier v mandy minella luxteliana pereira bra v 29 anastasia pavlyuchenkova rus24 kaia kanepi est v garbine muguruza esptimea babos hun v anna schmiedlova svkchristine mchale usa v yungjan chan tpelourdes dominguez lino esp v 10 caroline wozniacki den13 sloane stephens usa v yaroslava shvedova kaztadeja majeric slo v alja tomljanovic croolivia rogowska aus v mariana duquemarino colelina svitolina ukr v 19 svetlana kuznetsova rus27 jamie hampton usa v jana cepelova svkchanelle scheepers rsa v yvonne meusburger autsuwei hsieh tpe v barbora zahlavova strycova czejohanna larsson swe v 2 victoria azarenka blr\n",
            "   الطول: 792\n",
            "5. الجملة: arsenal 18 sanchez, giroud, welbeck, cazorla, ramsey, podolski, koscielny, oxladechamberlain, rosicky, ozil, arteta, chambers, debuchy, gibbs, mertesacker, sanogo, walcott, wilshere liverpool 17 steven gerrard, raheem sterling, adam lallana , rickie lambert ,jordan henderson, alberto moreno, philippe coutinho, lazar markovic, mario balotelli, martin skrtel, glen johnstone , emre can, fabio borini, daniel sturridge , dejan lovren, suso, jordan rossiter chelsea 16 diego costa, eden hazard,oscar, didier drogba, andre schurrle, john terry, cesc fabregas, loic remy, willian, ramires, nemanja matic, gary cahill, kurt zouma , branislav ivanovic, john obi mikel, filipe luis manchester city 15 sergio aguero, yaya toure , frank lampard, david silva, stephen jovetic, edin dzeko ,james milner, pablo zabaleta , fernandinho, jose pozo, fernando, martin demichellis, gael clichy, samir nasri tottenham 15 harry kane, christian eriksen, andros townsend , roberto soldado, erik lamela, emmanuel adebayor, danny rose, eric dier , paulinho , etienne capoue, ryan mason, benjamin stambouli, nabil bentaleb newcastle 14 papiss demba cisse, ayoze perez, moussa sissoko, jack colback, aarons rolando, emmanuel rivi re, yoan gouffran, gabriel overtan, paul dummet, sammy ameobi, daryl janmaat , fabrico coloccini, steven taylor crystal palace 14 dwight gayle, mile jedinak , jason puncheon, fraizer campbell, marouane chamakh, scott dann, brede hangeland, yaya sanogo, joe ledley , sullay kaikai, yannick bolasie, james mcarthur, wilfried zaha, kevin doyle west ham 14 diafra sakho, stewart downing, andy carroll, enner valencia, carlton cole, morgan amalfitano, mauro zarate, winston reid, kevin nolan, james collins, james tompkins, mark noble, aaron cresswell, cheikhou kouyate southampton 12 graziano pelle, sadio man , shane long, dusan tadic , morgan schneiderlin, victor wanyama, jack cork, nathaniel clyne, ryan bertrand, eljero elia, maya yoshida, toby alderweireld west bromwich albion 12 saido berahino, victor anchibe, craig dawson, james morrison, ideye brown, silvestre varela, craig gardner, joleon lescott, graham dorrans , gareth mcauley, st phane sessegnon, chris brunt everton 11 romelu lukaku, kevin mirallas, steven naismith, samuel etoo, phil jagielka, leighton baines, seamus coleman, leon osman, arouna kon , ross barkley, aiden mcgeady stoke 11 jon walters, mame biram diouf , peter crouch, bojan, stephen ireland, marc muniesa, victor moses, ryan shawcross, charlie adam, steven nzonzi , marko arnautovic, adam johnson manchester united 10 robin van persie, wayne rooney , juan mata, angel di maria, marouane fellaini , radamel falcao, ander herrera , daley blind, james wilson, chris smalling hull city 10 nikica jelavic, mohamed diame, robbie brady, abel hernandez, james chester, ahmed elmohamady, sone aluko , tom ince, jake livermore, gaston ramirez swansea 10 wilfried bony, gylfi sigurdsson, nathan dyer, wayne routledge ,bafetimbi gomis, ki sungyueng, marvin emnes , jonjo shelvey, modou barrow, tom carroll burnley 9 danny ings, ashley barnes, george boyd, scott arfield, ross wallace, ben mee, sam vokes, marvin sordell, michael kightly sunderland 9 adam johnson, steven fletcher, jordi gomez, seb larsson, connor wickham, jack rodwell, jozy altidore, lee cattermole, patrick van aanholt leicester 8 leonardo ulloa, jeffrey schlupp, ryyad mahrez, david nugent , esteban cambiasso, paul konchesky, jamie vardy, chris wood aston villa 7 andreas weimann, christian benteke, gabriel agbonlahor, alan hutton, joe cole, ciaran clark, carles gil qpr 6 charlie austin, leroy fer, eduardo vargas , steven caulker, bobby zamora, niko kranjcar\n",
            "   الطول: 715\n",
            "6. الجملة: area, number repossessions last year, rate possessions per 1,000 homes1.corby, east midlands, 155, 7.562 barking dagenham, london, 325 6.623 thurrock, ua east england, 325, 6.164 knowsley, north west, 255, 5.685 newham ,london, 400, 5.576 doncaster, yorkshire humber, 560, 5.447 halton ua, north west, 215, 5.438 tamworth, west midlands, 135, 5.399 kingston upon hull, city ua yorkshire humber, 415, 5.2810 rochdale, north west, 355, 5.2411 tameside, north west, 390, 5.1112 luton ua ,east england 325 5.0713 fenland, east england, 185, 5.0414 salford, north west, 380, 5.0415 harlow, east england, 115, 4.8516 nottingham, ua east midlands, 440, 4.8417 stocktonontees ua north east, 320, 4.8218 sunderland, north east, 425, 4.8119 oldham, north west, 350, 4.7920 bradford, yorkshire humber, 800, 4.7921 blackburn darwen ua, north west, 220, 4.7722 wigan, north west, 520, 4.7123 sandwell, west midlands, 415, 4.6824 county durham, ua north east, 850, 4.6725 middlesbrough, ua north east, 205, 4.6526 manchester, north west, 645, 4.6327 peterborough ua, east england ,280, 4.5728 lewisham, london ,355 4.5729 north east lincolnshire ua, yorkshire humber, 280, 4.5530 nuneaton bedworth, west midlands, 205, 4.5431 stokeontrent, ua west midlands, 390, 4.5232 pendle, north west, 160, 4.5233 blackpool, ua north west, 280, 4.4834 bolton, north west, 420 4.4835 rotherham, yorkshire humber, 380, 4.4336 hartlepool, ua north east, 140, 4.3937 liverpool, north west ,655, 4.3938 wellingborough, east midlands, 120, 4.3839 gateshead, north east, 285, 4.3640 burnley, north west, 150, 4.3641 wakefield, yorkshire humber, 485 4.3542 south holland, east midlands, 145, 4.3443 croydon, london, 540, 4.3344 slough ua, south east, 170, 4.2945 darlington ua north east 170 4.2746 leicester ua, east midlands, 385, 4.2547 north lincolnshire ua yorkshire humber, 255, 4.2348 south tyneside north east, 195, 4.1749 walsall west midlands, 340, 4.1750 northampton east midlands, 315, 4.1551 greenwich london, 295, 4.1252 cannock chase, west midlands, 140, 4.1253 rossendale, north west, 105, 4.1254 medway ua, south east, 415 4.1155 bury, north west, 280, 4.1156 milton keyne,s ua south east, 335, 4.1157 kirklees, yorkshire humber, 605, 4.0958 swale, south east, 200, 4.0959 st. helens, north west, 255, 4.0660 southwark, london, 250, 4.0061 hyndburn, north west, 125, 4.0062 erewash east midlands 175 4.0063 ashfield, east midlands, 175, 3.9964 birmingham, west midlands, 1,255, 3.9965 telford wrekin ua, west midlands, 215, 3.99 .\n",
            "   الطول: 542\n",
            "7. الجملة: 265 lampert ger 69 66 65 65, 266 b kor 67 69 64 66, 267 f bergamaschi ita 69 66 65 67, 268 c bouniol fra 69 67 63 69, j roos rsa 67 69 66 66, f fritsch ger 65 69 66 68, 269 w booth sco 69 68 68 64, hutsby eng 72 64 68 65, p maddy eng 65 68 67 69, r mcgee irl 68 65 69 67, 270 tiley eng 72 65 64 69, 271 j huldahl den 73 60 66 72, n quintarelli ita 71 67 67 66, bernadet fra 65 70 71 65, vancsik arg 67 66 68 70, johnston eng 67 65 68 71, 272 g main usa 69 69 68 66, orrin eng 64 74 67 67, c lloyd eng 68 67 71 66, murray eng 64 70 68 70, b hebert fra 70 68 66 68, 273 b virto esp 68 66 66 73, l goddard eng 71 66 65 71, frittelli rsa 70 65 70 68, j lando casanova fra 65 67 68 73, 274 j barnes eng 67 67 70 70, b evans eng 71 67 63 73, arnold aus 66 67 70 71, floren swe 70 68 71 65, e espana fra 67 67 75 65, l gagli ita 69 66 68 71, coupland eng 67 66 73 68, 275 h bacher aut 66 67 72 70, wilson eng 69 68 68 70, tullo chi 71 67 66 71, l jensen den 71 65 72 67, engell 69 67 72 67, j garcia del moral esp 69 65 70 71, r enoch wal 71 63 68 73, j winther den 67 71 70 67, 276 g lockerbie eng 67 69 67 73, law sco 66 71 76 63, geminiani ita 69 68 66 73, b kesson swe 73 65 66 72, stewart sco 67 70 70 69, glauert ger 71 64 68 73, stark swe 70 67 68 71, 277 gaunt eng 68 70 67 72, r steiner aut 67 71 67 72, g shaw nir 68 66 72 71, c russo fra 69 67 71 70, g woolgar eng 66 70 67 74, 278 henry sco 70 67 69 72, w besseling ned 71 64 69 74, j robinson eng 66 71 68 73, j fahrbring swe 67 69 72 70, 279 lorenzovera fra 68 70 70 71, garcia rodriguez esp 67 67 70 75, novy cze 72 66 74 67, l nemecz aut 67 71 68 73, 280 l corfield eng 66 72 72 70, 281 trappel aut 69 68 69 75, j lara esp 68 69 70 74, 284 haastrup den 71 67 76 70, 286 c mivis bel 69 69 72 76, .\n",
            "   الطول: 515\n",
            "8. الجملة: circumstances united states sell taiwan new, advanced f16 aircraft assist stealthier defenses indigenous submarine production cyberwarfare 4. best strategy checking north korean ambitions build longrange missiles nuclear weapons united states maintain deterrence avoid miscalculation missile defenses strengthened united states allow south korea extend range missiles 300 800 kilometers united states south korea continue move toward returning wartime operational control seoul end 2015 united states ask china respect limiting north korean provocations united states establish higherlevel direct talks north koreas inner circle additional pressures, targeted financial measures, might brought bear north korean decisionmakers 5. united states encourage japan take responsibility regional security example, far japan selfdefense forces go toward shifting focus southwestern islands potential checks growing chinese military capabilities japan united states actively pursue combined operational concepts air sea battle, would seek deploy maritime air possibly ground forces tandem counter capabilities potential adversaries bases japan, especially stationing marines okinawa, sustainable role united states defending japan event conflict china senkakudiaoyu islands east china sea 6. united states play active role ensuring peace south china sea potential costs benefits building coastal defenses nations philippines vietnam united states reinforce alliance philippines without provoking china region united states insist binding code naval conduct region would ratifying united nations convention law sea help united states work association southeast asian nations, well larger forums inclusive regional discussions east asia summit asean defense ministers meetingplus 7. united states best balance support current reforms way burmamyanmar lingering concerns role military ethnic conflicts united states suspend sanctions british prime minister david cameron recommended european union united states make current reforms irreversible united states continue maintain pressure government follow with, example, democratic national elections 2015 8. united states generally encourage allies partners region shoulder greater responsibility expand security cooperation example, united states work others energy resource security countries region else might done shore existing u.s. alliances, including south korea, japan, australia, philippines thailand security partnerships, including singapore, india, indonesia, malaysia vietnam, deserve greater attention united states encourage india play active role east asia far united states encourage allies partners improve multilateral security ties one 9. united states best protect open global commons maritime, air, cyber outer space arteries commerce security rest cyber space threats far removed public eye, u.s. government do, tandem private sector allies partners, ensure security domains 10. finally, united states best engage asiapacific region respect trade finance, united states economy remains fragile, debt increasing unemployment remains high transpacific partnership realistic framework inclusive, goldstandard regional trading regime is, one would lower tariffs border also deal crucial issues protecting intellectual property rights protecting private sector stateowned enterprises policies would best ensure u.s. leadership, presence engagement region rest strong economic foundation obama romney administration policies asiapacific would apt overlap would differ.\n",
            "   الطول: 482\n",
            "9. الجملة: impressive new a20 bomber brought test hop flight line long beach, california alfred palmer, october 1942 flying fortress female riveting machine operator douglas aircraft company plant joins sections wing ribs reinforce inner wing assemblies b17f bombers alfred palmer, october 1942 bombardment squadron one americas forces strength air, mighty yb17 bomber, pulled hangar langley field, virginia, set taxi runway take alfred palmer, may 1942 air north americans p51 mustang fighter service alfred palmer, october 1942 milwaukee work gist inspector mary betchner looks one 25 cutters burrs inserting inside 105mm howitzer wisconsin plant chain belt co howard r. hollem, february 1943 big effort woman works aeroplane motor north american aviation incs plant california alfred palmer, june 1942 flag bearers guard engineers believed fort belvoir virginia 1941 1945 round private practice shooting 30calibre browning machine gun fort knox alfred palmer, june 1942 reflection sailor girl stand tomb unknown soldier arlington national cemetery washington d.c. area john collier, may 1943 scale model b25 plane put together wind tunnel tests inglewood, california, maker holding miniature version type bomb plane carry alfred palmer, october 1942 working pride irma lee mcelroy, former office worker, paints american insignia aeroplane wings naval air base corpus christi, texas howard r. hollem, august 1942 aim young soldier holds sights garand rifle fort knox kentucky alfred palmer, june 1942 peeping unidentified tank driver looks fort knox kentucky alfred palmer, june 1942 maintenance men servicing a20 bomber langley field virginia alfred palmer, july 1942 long walk marines finishing training parris island south carolina alfred palmer, june 1942 discussions female inspector confers male worker makes careful check centre wings c47 transport planes long beach, california alfred palmer, june 1942 fire electric phosphate smelting furnace used making elemental phosphorus alabama alfred palmer, june 1942 world war rural school children pictured san augustine county, texas john vachon, april 1943 learning camouflage class new york university, men women preparing jobs army industry alfred palmer, march 1943 edge m4 tank pictured fort knox kentucky alfred palmer, june 1942 manufacturing lathe operator seen machining parts transport planes fort worth, texas howard r. hollem, october 1942 read headlines posted street corner window newspaper office brockton, massachusetts jack delano, december 1940 smoking welder seen making boilers ship combustion engineering co. chattanooga, tennessee alfred palmer, june 1942 girl blue lorena craig, corpus christi, texas, department store worker came naval air base howard r. hollem, august 1942 teamwork men women douglas aircraft plant long beach, california, aircraft made including b17f flying fortress a20 havoc bombers alfred palmer, october 1942 setting sight men operate azimuth instrument, measure angle splash seatarget practice fort story virginia alfred palmer, march 1942\n",
            "   الطول: 481\n",
            "10. الجملة: 1serena williams usa v urszula radwanska pol petra kvitova cze v jill craybas usa qualifier v andrea petkovic ger ayumi morita jpn v 32carla suareznavarro spa 21sabine lisicki ger v petra martic cro varvara lepchenko usa v alberta brianti ita kristina barrois ger v akgul amanmuradova uzb qualifier v samantha stosur aus 13 9vera zvonareva rus v kristina kucova svk kai chen chang tpe v iveta benesova cze qualifier v gisela dulko arg qualifier v 20ana ivanovic ser 28elena vesnina rus v tathiana garbin ita kimiko date krumm jpn v yaroslava shvedova kaz stefanie voegele swi v melinda czink hun stephanie cohen aloro fra v 7victoria azarenka blr 4caroline wozniacki den v aleksandra wozniak tamira paszek aut v julia goerges ger galina voskoboeva kaz v tsvetana pironkova bul lucie hradecka cze v 29shahar peer isr 22daniela hantuchova svk v viktoriya kutuzova ukr jarmila groth svk v qualifier stephanie dubois v agnes szavay hun marina erakovic nzl v 16na li chn 10agnieszka radwanska pol v tatjana malek ger melanie oudin usa v alla kudryavtseva rus julie coin fra v alicia molik aus alize cornet fra v 17francesca schiavone ita 25anabel medina garrigues spa v karolina sprem cro anastasiya yakimova blr v casey dellacqua aus arantxa parra santonja spa v sybille bammer aut lucie safarova cze v 6venus williams usa 5elena dementieva rus v vera dushevina rus kirsten flipkens bel v justine henin bel soranamihaela cirstea rom v olivia rogowska aus jelena dokic aus v 27alisa kleybanova rus 18virginie razzano fra v ekaterina makarova rus klara zakopalova cze v sara errani ita qualifier v alexandra dulgheru rom anna chakvetadze rus v 12flavia pennetta ita 15kim clijsters bel v qualifier sesil karatantcheva kaz v tamarine tanasugarn tha yungjan chan tpe v kaia kanepi est edina gallovits rom v 19nadia petrova rus 26aravane rezai fra v sania mirza ind olga govortsova blr v qualifier anastasia pavlyuchenkova rus v anastasija sevastova lat anastasia rodionova rus v 3svetlana kuznetsova rus 8jelena jankovic ser v monica niculescu rom patricia mayr aut v katie obrien gb qualifier v polona hercog slo qualifier v 31alona bondarenko ukr 24maria jose martinez sanchez spa v evgeniya rodina rus jie zheng chn v shuai peng chn coco vandeweghe usa v sandra zahlavova cze rossana de los rios par v 11marion bartoli fra 14maria sharapova rus v maria kirilenko rus qualifier v timea bacsinszky swi annalena groenefeld ger v roberta vinci ita vania king usa v 23dominika cibulkova svk 30kateryna bondarenko ukr v ioana raluca olaru rom pauline parmentier fra v elena baltacha gb barbora zahlavovastrycova cze v qualifier magdalena rybarikova svk v dinara safina rus 2\n",
            "   الطول: 434\n"
          ]
        }
      ],
      "source": [
        "# العثور على أطول 10 جمل\n",
        "top_10_sentences = sorted(sentence_lengths, key=lambda x: x['length'], reverse=True)[:10]\n",
        "\n",
        "# عرض النتائج\n",
        "print(\"أطول 10 جمل مع أطوالها:\")\n",
        "for i, sentence_data in enumerate(top_10_sentences, 1):\n",
        "    print(f\"{i}. الجملة: {sentence_data['sentence']}\")\n",
        "    print(f\"   الطول: {sentence_data['length']}\")\n"
      ]
    },
    {
      "cell_type": "markdown",
      "metadata": {
        "id": "Gf8XnvBGUOSR"
      },
      "source": [
        "سحابة كلمات"
      ]
    },
    {
      "cell_type": "code",
      "execution_count": null,
      "metadata": {
        "colab": {
          "base_uri": "https://localhost:8080/",
          "height": 449
        },
        "collapsed": true,
        "id": "n0yTML2pYxAu",
        "outputId": "1e8f56aa-5ca2-4054-d634-b54173a2d416"
      },
      "outputs": [
        {
          "data": {
            "image/png": "[encoded data removed]",
            "text/plain": [
              "<Figure size 1000x600 with 1 Axes>"
            ]
          },
          "metadata": {},
          "output_type": "display_data"
        }
      ],
      "source": [
        "import pandas as pd\n",
        "from wordcloud import WordCloud\n",
        "import matplotlib.pyplot as plt\n",
        "\n",
        "# قراءة ملف CSV\n",
        "file_path = '/content/data/cleaned_train_data.csv'\n",
        "df = pd.read_csv(file_path)\n",
        "\n",
        "# التأكد من وجود العمود الذي يحتوي النصوص\n",
        "text_column = 'article_cleaned'  # استبدل باسم العمود الذي يحتوي النصوص\n",
        "if text_column not in df.columns:\n",
        "    raise ValueError(f\"العمود '{text_column}' غير موجود في الملف\")\n",
        "\n",
        "# أخذ عينة 10% من النصوص\n",
        "sampled_text = df[text_column].sample(frac=0.1, random_state=42)  # عينة 10% من النصوص\n",
        "\n",
        "# دمج النصوص في السلسلة واحدة\n",
        "all_text = ' '.join(sampled_text.dropna().astype(str))\n",
        "\n",
        "# إنشاء مخطط Word Cloud مع تحديد 200 كلمة كحد أقصى\n",
        "wordcloud = WordCloud(width=800, height=400, background_color='white', max_words=200).generate(all_text)\n",
        "\n",
        "# عرض الرسم\n",
        "plt.figure(figsize=(10, 6))\n",
        "plt.imshow(wordcloud, interpolation='bilinear')\n",
        "plt.axis('off')  # إخفاء المحاور\n",
        "plt.title(\"Word Cloud للنصوص (عينة 10%)\", fontsize=16)\n",
        "plt.show()\n"
      ]
    },
    {
      "cell_type": "markdown",
      "metadata": {
        "id": "9VfyDmWuhrVT"
      },
      "source": [
        "تقسيم الى فقرات والحصول على الجملة الاولى والاخيرة على مستوى نص واحد"
      ]
    },
    {
      "cell_type": "code",
      "execution_count": null,
      "metadata": {
        "colab": {
          "base_uri": "https://localhost:8080/"
        },
        "collapsed": true,
        "id": "UWGAYewrjqxv",
        "outputId": "9f43da8a-19e5-490c-9728-950e5910f376"
      },
      "outputs": [
        {
          "name": "stdout",
          "output_type": "stream",
          "text": [
            "فقرة 1:\n",
            "british woman travelled syria young son escaping isis stronghold begged father take home describing life jihadists hard. tareena shakil, 25, ran away wartorn country last october telling relatives going holiday spain 17monthold son zaheem. however, towie fan said life isisheld city raqqa hard escaped back across turkish border after, claims, militants tried force marrying onelegged fighter. shakil, burtonontrent, staffordshire, asked father forgiveness begged please take home, told could potentially sent back syria clutches terrorist group. scroll video . tareena shakil, 25, left fled syria join isis toddler son zaheem together right changing mind escaping turkey, begged father free detention centre . shakil fled back across turkish border 17monthold son zaheem isis tried force marriage, claims. fled syria secret november telling family going holiday . mother son currently held turkish detention centre, pair met shakils father emotional twohour reunion yesterday. according sun, psychology graduate wept father said take home, dad please take home. get here. mohammed, 42yearold father, previously told daughter onetime spice girls fan, school prefect girl guide fascinated itv reality show way essex travelled 150 miles buy clothes shop run one stars. apparently promised daughter reunion would leave without her. shakil fled syria, join isis militants, secret telling family going holiday spain. however, changed mind staying stronghold days desperately tried flee. told sun hated it. tried escape within days getting there. wasnt thought would be. life hard there. theres hot water, electricity hours end, none comforts used britain. escaped death many times. bombs coming street lived every night. house would shake. didnt know going live die. fleeing staffordshire home november, shakil entered syria turkish border. since returned turkey describing life isisheld city raqqa hard claiming hated shakil, fan way essex, said didnt know going live die time syria. pictured residential street lived burtonontrent, staffordshire, fled isis . brother tareem, 22, previously told family hadnt suspected anything escape syria, found contacted home say border. said sent us messages saying shed gone new life, radicalised. said wanted live way allah. promised good life good husband. wanted live sharia law. wasnt like that. texting saying might make back. messaging, please help me, made stupid mistake. please dad, come get planning go there, made escape herself. escape saw dash nomans land near turkishsyrian border, snipers turkish side fire her. scrambled barbed wire fence, injuring feet somehow keeping young zaheem unharmed. foreign office source previously said shakil questioned possible terror offences sent course deradicalised sent back britain. one 500 britons believed travelled join extremist group iraq syria. europol revealed week could 5,000 people european countries total fled join militants. fears terrorist attack britains streets heightened response threat returning fighters wake shootings paris, including offices satirical magazine charlie hebdo.\n",
            "\n",
            "أول جملة: british woman travelled syria young son escaping isis stronghold begged father take home describing life jihadists hard.\n",
            "آخر جملة: fears terrorist attack britains streets heightened response threat returning fighters wake shootings paris, including offices satirical magazine charlie hebdo.\n",
            "\n"
          ]
        }
      ],
      "source": [
        "import pandas as pd\n",
        "from nltk.tokenize import sent_tokenize\n",
        "\n",
        "# قراءة ملف CSV\n",
        "file_path = '/content/data/cleaned_train_data.csv'\n",
        "df = pd.read_csv(file_path)\n",
        "\n",
        "# دالة لتقسيم النص إلى فقرات\n",
        "def split_into_paragraphs(text):\n",
        "    paragraphs = text.split(\"\\n\\n\")  # تقسيم النص إلى فقرات باستخدام الفاصل \\n\\n\n",
        "    return [p.strip() for p in paragraphs if p.strip()]  # إزالة المسافات الزائدة\n",
        "\n",
        "# دالة لاستخراج أول وآخر جملة من النص\n",
        "def get_first_and_last_sentence(paragraph):\n",
        "    sentences = sent_tokenize(paragraph)  # تقسيم الفقرة إلى جمل\n",
        "    if len(sentences) > 0:\n",
        "        first_sentence = sentences[0]  # الجملة الأولى\n",
        "        last_sentence = sentences[-1]  # الجملة الأخيرة\n",
        "        return first_sentence, last_sentence\n",
        "    return \"\", \"\"  # إذا كانت الفقرة فارغة\n",
        "\n",
        "# أخذ عينة عشوائية من النص\n",
        "sample_text = df['article_cleaned'].sample(n=1).iloc[0]\n",
        "\n",
        "# تقسيم المقالة إلى فقرات\n",
        "paragraphs = split_into_paragraphs(sample_text)\n",
        "\n",
        "# طباعة الفقرات مع أول وآخر جملة\n",
        "for idx, paragraph in enumerate(paragraphs, 1):\n",
        "    first_sentence, last_sentence = get_first_and_last_sentence(paragraph)\n",
        "    print(f\"فقرة {idx}:\\n{paragraph}\\n\")\n",
        "    print(f\"أول جملة: {first_sentence}\")\n",
        "    print(f\"آخر جملة: {last_sentence}\\n\")\n"
      ]
    },
    {
      "cell_type": "markdown",
      "metadata": {
        "id": "3ZAm_trpnCoU"
      },
      "source": [
        "الحصول على اول جملة واخر جملة مطبقة على كل الداتا\n",
        "\n",
        "> Add blockquote\n",
        "\n",
        "\n"
      ]
    },
    {
      "cell_type": "code",
      "execution_count": null,
      "metadata": {
        "colab": {
          "base_uri": "https://localhost:8080/"
        },
        "collapsed": true,
        "id": "8zudZpENnA_C",
        "outputId": "93b4ac3a-3e46-4bec-b702-20e45041dd14"
      },
      "outputs": [
        {
          "name": "stdout",
          "output_type": "stream",
          "text": [
            "                                                فقرة  \\\n",
            "0  . associated press . published . 1411 est, 25 ...   \n",
            "1  cnn ralph mata internal affairs lieutenant mia...   \n",
            "2  drunk driver killed young woman headon crash c...   \n",
            "3  cnn breezy sweep pen president vladimir putin ...   \n",
            "4  fleetwood team still 100 record sky bet league...   \n",
            "\n",
            "                                            أول جملة  \\\n",
            "0                                                  .   \n",
            "1  cnn ralph mata internal affairs lieutenant mia...   \n",
            "2  drunk driver killed young woman headon crash c...   \n",
            "3  cnn breezy sweep pen president vladimir putin ...   \n",
            "4  fleetwood team still 100 record sky bet league...   \n",
            "\n",
            "                                            آخر جملة  \n",
            "0  fargo catholic diocese north dakota pictured b...  \n",
            "1            cnns suzanne presto contributed report.  \n",
            "2  ecclestontodd, newport, isle wight, also disqu...  \n",
            "3  one afford cut lifeline, especially europes ec...  \n",
            "4  danny kedwell kortney hause twice gave gills l...  \n"
          ]
        }
      ],
      "source": [
        "import pandas as pd\n",
        "from nltk.tokenize import sent_tokenize\n",
        "\n",
        "# قراءة ملف CSV\n",
        "file_path = '/content/data/cleaned_train_data.csv'\n",
        "df = pd.read_csv(file_path)\n",
        "\n",
        "# دالة لتقسيم النص إلى فقرات\n",
        "def split_into_paragraphs(text):\n",
        "    paragraphs = text.split(\"\\n\\n\")  # تقسيم النص إلى فقرات باستخدام الفاصل \\n\\n\n",
        "    return [p.strip() for p in paragraphs if p.strip()]  # إزالة المسافات الزائدة\n",
        "\n",
        "# دالة لاستخراج أول وآخر جملة من النص\n",
        "def get_first_and_last_sentence(paragraph):\n",
        "    sentences = sent_tokenize(paragraph)  # تقسيم الفقرة إلى جمل\n",
        "    if len(sentences) > 0:\n",
        "        first_sentence = sentences[0]  # الجملة الأولى\n",
        "        last_sentence = sentences[-1]  # الجملة الأخيرة\n",
        "        return first_sentence, last_sentence\n",
        "    return \"\", \"\"  # إذا كانت الفقرة فارغة\n",
        "\n",
        "# قائمة لتخزين النتائج\n",
        "results = []\n",
        "\n",
        "# تطبيق الكود على جميع النصوص في ملف CSV\n",
        "for idx, row in df.iterrows():\n",
        "    sample_text = row['article_cleaned']  # المقالة من العمود article_cleaned\n",
        "    paragraphs = split_into_paragraphs(sample_text)  # تقسيم المقالة إلى فقرات\n",
        "\n",
        "    # استخراج أول وآخر جملة من كل فقرة\n",
        "    for paragraph in paragraphs:\n",
        "        first_sentence, last_sentence = get_first_and_last_sentence(paragraph)\n",
        "        results.append({\n",
        "            'فقرة': paragraph,\n",
        "            'أول جملة': first_sentence,\n",
        "            'آخر جملة': last_sentence\n",
        "        })\n",
        "\n",
        "# تحويل النتائج إلى DataFrame\n",
        "results_df = pd.DataFrame(results)\n",
        "\n",
        "# طباعة أول 5 عينات\n",
        "print(results_df.head(5))\n"
      ]
    },
    {
      "cell_type": "markdown",
      "metadata": {
        "id": "oCxTQP-2e2K6"
      },
      "source": [
        "حساب الجمل ذات الوزن الاعلى بناء على TF-IDF"
      ]
    },
    {
      "cell_type": "code",
      "execution_count": null,
      "metadata": {
        "colab": {
          "base_uri": "https://localhost:8080/",
          "height": 356
        },
        "collapsed": true,
        "id": "VyTAJD1dzWKD",
        "outputId": "38e92ba3-c2d0-42fa-cc11-244b37793755"
      },
      "outputs": [
        {
          "ename": "KeyboardInterrupt",
          "evalue": "",
          "output_type": "error",
          "traceback": [
            "\u001b[0;31m---------------------------------------------------------------------------\u001b[0m",
            "\u001b[0;31mKeyboardInterrupt\u001b[0m                         Traceback (most recent call last)",
            "\u001b[0;32m<ipython-input-4-ef05cf08c9ce>\u001b[0m in \u001b[0;36m<cell line: 0>\u001b[0;34m()\u001b[0m\n\u001b[1;32m     34\u001b[0m \u001b[0;34m\u001b[0m\u001b[0m\n\u001b[1;32m     35\u001b[0m \u001b[0;32mfor\u001b[0m \u001b[0mtext\u001b[0m \u001b[0;32min\u001b[0m \u001b[0mtexts\u001b[0m\u001b[0;34m:\u001b[0m\u001b[0;34m\u001b[0m\u001b[0;34m\u001b[0m\u001b[0m\n\u001b[0;32m---> 36\u001b[0;31m     \u001b[0mtop_sentences\u001b[0m \u001b[0;34m=\u001b[0m \u001b[0mget_top_sentences\u001b[0m\u001b[0;34m(\u001b[0m\u001b[0mtext\u001b[0m\u001b[0;34m,\u001b[0m \u001b[0mtop_n\u001b[0m\u001b[0;34m=\u001b[0m\u001b[0;36m5\u001b[0m\u001b[0;34m)\u001b[0m\u001b[0;34m\u001b[0m\u001b[0;34m\u001b[0m\u001b[0m\n\u001b[0m\u001b[1;32m     37\u001b[0m     \u001b[0mtop_sentences_per_text\u001b[0m\u001b[0;34m.\u001b[0m\u001b[0mappend\u001b[0m\u001b[0;34m(\u001b[0m\u001b[0mtop_sentences\u001b[0m\u001b[0;34m)\u001b[0m\u001b[0;34m\u001b[0m\u001b[0;34m\u001b[0m\u001b[0m\n\u001b[1;32m     38\u001b[0m \u001b[0;34m\u001b[0m\u001b[0m\n",
            "\u001b[0;32m<ipython-input-4-ef05cf08c9ce>\u001b[0m in \u001b[0;36mget_top_sentences\u001b[0;34m(text, top_n)\u001b[0m\n\u001b[1;32m     14\u001b[0m \u001b[0;32mdef\u001b[0m \u001b[0mget_top_sentences\u001b[0m\u001b[0;34m(\u001b[0m\u001b[0mtext\u001b[0m\u001b[0;34m,\u001b[0m \u001b[0mtop_n\u001b[0m\u001b[0;34m=\u001b[0m\u001b[0;36m5\u001b[0m\u001b[0;34m)\u001b[0m\u001b[0;34m:\u001b[0m\u001b[0;34m\u001b[0m\u001b[0;34m\u001b[0m\u001b[0m\n\u001b[1;32m     15\u001b[0m     \u001b[0;31m# تقسيم النص إلى جمل\u001b[0m\u001b[0;34m\u001b[0m\u001b[0;34m\u001b[0m\u001b[0m\n\u001b[0;32m---> 16\u001b[0;31m     \u001b[0msentences\u001b[0m \u001b[0;34m=\u001b[0m \u001b[0msent_tokenize\u001b[0m\u001b[0;34m(\u001b[0m\u001b[0mtext\u001b[0m\u001b[0;34m)\u001b[0m\u001b[0;34m\u001b[0m\u001b[0;34m\u001b[0m\u001b[0m\n\u001b[0m\u001b[1;32m     17\u001b[0m \u001b[0;34m\u001b[0m\u001b[0m\n\u001b[1;32m     18\u001b[0m     \u001b[0;31m# إذا كان النص يحتوي على أقل من عدد الجمل المطلوبة\u001b[0m\u001b[0;34m\u001b[0m\u001b[0;34m\u001b[0m\u001b[0m\n",
            "\u001b[0;32m/usr/local/lib/python3.11/dist-packages/nltk/tokenize/__init__.py\u001b[0m in \u001b[0;36msent_tokenize\u001b[0;34m(text, language)\u001b[0m\n\u001b[1;32m    118\u001b[0m     \"\"\"\n\u001b[1;32m    119\u001b[0m     \u001b[0mtokenizer\u001b[0m \u001b[0;34m=\u001b[0m \u001b[0m_get_punkt_tokenizer\u001b[0m\u001b[0;34m(\u001b[0m\u001b[0mlanguage\u001b[0m\u001b[0;34m)\u001b[0m\u001b[0;34m\u001b[0m\u001b[0;34m\u001b[0m\u001b[0m\n\u001b[0;32m--> 120\u001b[0;31m     \u001b[0;32mreturn\u001b[0m \u001b[0mtokenizer\u001b[0m\u001b[0;34m.\u001b[0m\u001b[0mtokenize\u001b[0m\u001b[0;34m(\u001b[0m\u001b[0mtext\u001b[0m\u001b[0;34m)\u001b[0m\u001b[0;34m\u001b[0m\u001b[0;34m\u001b[0m\u001b[0m\n\u001b[0m\u001b[1;32m    121\u001b[0m \u001b[0;34m\u001b[0m\u001b[0m\n\u001b[1;32m    122\u001b[0m \u001b[0;34m\u001b[0m\u001b[0m\n",
            "\u001b[0;32m/usr/local/lib/python3.11/dist-packages/nltk/tokenize/punkt.py\u001b[0m in \u001b[0;36mtokenize\u001b[0;34m(self, text, realign_boundaries)\u001b[0m\n\u001b[1;32m   1278\u001b[0m         \u001b[0mGiven\u001b[0m \u001b[0ma\u001b[0m \u001b[0mtext\u001b[0m\u001b[0;34m,\u001b[0m \u001b[0mreturns\u001b[0m \u001b[0ma\u001b[0m \u001b[0mlist\u001b[0m \u001b[0mof\u001b[0m \u001b[0mthe\u001b[0m \u001b[0msentences\u001b[0m \u001b[0;32min\u001b[0m \u001b[0mthat\u001b[0m \u001b[0mtext\u001b[0m\u001b[0;34m.\u001b[0m\u001b[0;34m\u001b[0m\u001b[0;34m\u001b[0m\u001b[0m\n\u001b[1;32m   1279\u001b[0m         \"\"\"\n\u001b[0;32m-> 1280\u001b[0;31m         \u001b[0;32mreturn\u001b[0m \u001b[0mlist\u001b[0m\u001b[0;34m(\u001b[0m\u001b[0mself\u001b[0m\u001b[0;34m.\u001b[0m\u001b[0msentences_from_text\u001b[0m\u001b[0;34m(\u001b[0m\u001b[0mtext\u001b[0m\u001b[0;34m,\u001b[0m \u001b[0mrealign_boundaries\u001b[0m\u001b[0;34m)\u001b[0m\u001b[0;34m)\u001b[0m\u001b[0;34m\u001b[0m\u001b[0;34m\u001b[0m\u001b[0m\n\u001b[0m\u001b[1;32m   1281\u001b[0m \u001b[0;34m\u001b[0m\u001b[0m\n\u001b[1;32m   1282\u001b[0m     \u001b[0;32mdef\u001b[0m \u001b[0mdebug_decisions\u001b[0m\u001b[0;34m(\u001b[0m\u001b[0mself\u001b[0m\u001b[0;34m,\u001b[0m \u001b[0mtext\u001b[0m\u001b[0;34m:\u001b[0m \u001b[0mstr\u001b[0m\u001b[0;34m)\u001b[0m \u001b[0;34m->\u001b[0m \u001b[0mIterator\u001b[0m\u001b[0;34m[\u001b[0m\u001b[0mDict\u001b[0m\u001b[0;34m[\u001b[0m\u001b[0mstr\u001b[0m\u001b[0;34m,\u001b[0m \u001b[0mAny\u001b[0m\u001b[0;34m]\u001b[0m\u001b[0;34m]\u001b[0m\u001b[0;34m:\u001b[0m\u001b[0;34m\u001b[0m\u001b[0;34m\u001b[0m\u001b[0m\n",
            "\u001b[0;32m/usr/local/lib/python3.11/dist-packages/nltk/tokenize/punkt.py\u001b[0m in \u001b[0;36msentences_from_text\u001b[0;34m(self, text, realign_boundaries)\u001b[0m\n\u001b[1;32m   1338\u001b[0m         \u001b[0mfollows\u001b[0m \u001b[0mthe\u001b[0m \u001b[0mperiod\u001b[0m\u001b[0;34m.\u001b[0m\u001b[0;34m\u001b[0m\u001b[0;34m\u001b[0m\u001b[0m\n\u001b[1;32m   1339\u001b[0m         \"\"\"\n\u001b[0;32m-> 1340\u001b[0;31m         \u001b[0;32mreturn\u001b[0m \u001b[0;34m[\u001b[0m\u001b[0mtext\u001b[0m\u001b[0;34m[\u001b[0m\u001b[0ms\u001b[0m\u001b[0;34m:\u001b[0m\u001b[0me\u001b[0m\u001b[0;34m]\u001b[0m \u001b[0;32mfor\u001b[0m \u001b[0ms\u001b[0m\u001b[0;34m,\u001b[0m \u001b[0me\u001b[0m \u001b[0;32min\u001b[0m \u001b[0mself\u001b[0m\u001b[0;34m.\u001b[0m\u001b[0mspan_tokenize\u001b[0m\u001b[0;34m(\u001b[0m\u001b[0mtext\u001b[0m\u001b[0;34m,\u001b[0m \u001b[0mrealign_boundaries\u001b[0m\u001b[0;34m)\u001b[0m\u001b[0;34m]\u001b[0m\u001b[0;34m\u001b[0m\u001b[0;34m\u001b[0m\u001b[0m\n\u001b[0m\u001b[1;32m   1341\u001b[0m \u001b[0;34m\u001b[0m\u001b[0m\n\u001b[1;32m   1342\u001b[0m     \u001b[0;32mdef\u001b[0m \u001b[0m_get_last_whitespace_index\u001b[0m\u001b[0;34m(\u001b[0m\u001b[0mself\u001b[0m\u001b[0;34m,\u001b[0m \u001b[0mtext\u001b[0m\u001b[0;34m:\u001b[0m \u001b[0mstr\u001b[0m\u001b[0;34m)\u001b[0m \u001b[0;34m->\u001b[0m \u001b[0mint\u001b[0m\u001b[0;34m:\u001b[0m\u001b[0;34m\u001b[0m\u001b[0;34m\u001b[0m\u001b[0m\n",
            "\u001b[0;32m/usr/local/lib/python3.11/dist-packages/nltk/tokenize/punkt.py\u001b[0m in \u001b[0;36m<listcomp>\u001b[0;34m(.0)\u001b[0m\n\u001b[1;32m   1338\u001b[0m         \u001b[0mfollows\u001b[0m \u001b[0mthe\u001b[0m \u001b[0mperiod\u001b[0m\u001b[0;34m.\u001b[0m\u001b[0;34m\u001b[0m\u001b[0;34m\u001b[0m\u001b[0m\n\u001b[1;32m   1339\u001b[0m         \"\"\"\n\u001b[0;32m-> 1340\u001b[0;31m         \u001b[0;32mreturn\u001b[0m \u001b[0;34m[\u001b[0m\u001b[0mtext\u001b[0m\u001b[0;34m[\u001b[0m\u001b[0ms\u001b[0m\u001b[0;34m:\u001b[0m\u001b[0me\u001b[0m\u001b[0;34m]\u001b[0m \u001b[0;32mfor\u001b[0m \u001b[0ms\u001b[0m\u001b[0;34m,\u001b[0m \u001b[0me\u001b[0m \u001b[0;32min\u001b[0m \u001b[0mself\u001b[0m\u001b[0;34m.\u001b[0m\u001b[0mspan_tokenize\u001b[0m\u001b[0;34m(\u001b[0m\u001b[0mtext\u001b[0m\u001b[0;34m,\u001b[0m \u001b[0mrealign_boundaries\u001b[0m\u001b[0;34m)\u001b[0m\u001b[0;34m]\u001b[0m\u001b[0;34m\u001b[0m\u001b[0;34m\u001b[0m\u001b[0m\n\u001b[0m\u001b[1;32m   1341\u001b[0m \u001b[0;34m\u001b[0m\u001b[0m\n\u001b[1;32m   1342\u001b[0m     \u001b[0;32mdef\u001b[0m \u001b[0m_get_last_whitespace_index\u001b[0m\u001b[0;34m(\u001b[0m\u001b[0mself\u001b[0m\u001b[0;34m,\u001b[0m \u001b[0mtext\u001b[0m\u001b[0;34m:\u001b[0m \u001b[0mstr\u001b[0m\u001b[0;34m)\u001b[0m \u001b[0;34m->\u001b[0m \u001b[0mint\u001b[0m\u001b[0;34m:\u001b[0m\u001b[0;34m\u001b[0m\u001b[0;34m\u001b[0m\u001b[0m\n",
            "\u001b[0;32m/usr/local/lib/python3.11/dist-packages/nltk/tokenize/punkt.py\u001b[0m in \u001b[0;36mspan_tokenize\u001b[0;34m(self, text, realign_boundaries)\u001b[0m\n\u001b[1;32m   1326\u001b[0m         \u001b[0;32mif\u001b[0m \u001b[0mrealign_boundaries\u001b[0m\u001b[0;34m:\u001b[0m\u001b[0;34m\u001b[0m\u001b[0;34m\u001b[0m\u001b[0m\n\u001b[1;32m   1327\u001b[0m             \u001b[0mslices\u001b[0m \u001b[0;34m=\u001b[0m \u001b[0mself\u001b[0m\u001b[0;34m.\u001b[0m\u001b[0m_realign_boundaries\u001b[0m\u001b[0;34m(\u001b[0m\u001b[0mtext\u001b[0m\u001b[0;34m,\u001b[0m \u001b[0mslices\u001b[0m\u001b[0;34m)\u001b[0m\u001b[0;34m\u001b[0m\u001b[0;34m\u001b[0m\u001b[0m\n\u001b[0;32m-> 1328\u001b[0;31m         \u001b[0;32mfor\u001b[0m \u001b[0msentence\u001b[0m \u001b[0;32min\u001b[0m \u001b[0mslices\u001b[0m\u001b[0;34m:\u001b[0m\u001b[0;34m\u001b[0m\u001b[0;34m\u001b[0m\u001b[0m\n\u001b[0m\u001b[1;32m   1329\u001b[0m             \u001b[0;32myield\u001b[0m \u001b[0;34m(\u001b[0m\u001b[0msentence\u001b[0m\u001b[0;34m.\u001b[0m\u001b[0mstart\u001b[0m\u001b[0;34m,\u001b[0m \u001b[0msentence\u001b[0m\u001b[0;34m.\u001b[0m\u001b[0mstop\u001b[0m\u001b[0;34m)\u001b[0m\u001b[0;34m\u001b[0m\u001b[0;34m\u001b[0m\u001b[0m\n\u001b[1;32m   1330\u001b[0m \u001b[0;34m\u001b[0m\u001b[0m\n",
            "\u001b[0;32m/usr/local/lib/python3.11/dist-packages/nltk/tokenize/punkt.py\u001b[0m in \u001b[0;36m_realign_boundaries\u001b[0;34m(self, text, slices)\u001b[0m\n\u001b[1;32m   1455\u001b[0m         \"\"\"\n\u001b[1;32m   1456\u001b[0m         \u001b[0mrealign\u001b[0m \u001b[0;34m=\u001b[0m \u001b[0;36m0\u001b[0m\u001b[0;34m\u001b[0m\u001b[0;34m\u001b[0m\u001b[0m\n\u001b[0;32m-> 1457\u001b[0;31m         \u001b[0;32mfor\u001b[0m \u001b[0msentence1\u001b[0m\u001b[0;34m,\u001b[0m \u001b[0msentence2\u001b[0m \u001b[0;32min\u001b[0m \u001b[0m_pair_iter\u001b[0m\u001b[0;34m(\u001b[0m\u001b[0mslices\u001b[0m\u001b[0;34m)\u001b[0m\u001b[0;34m:\u001b[0m\u001b[0;34m\u001b[0m\u001b[0;34m\u001b[0m\u001b[0m\n\u001b[0m\u001b[1;32m   1458\u001b[0m             \u001b[0msentence1\u001b[0m \u001b[0;34m=\u001b[0m \u001b[0mslice\u001b[0m\u001b[0;34m(\u001b[0m\u001b[0msentence1\u001b[0m\u001b[0;34m.\u001b[0m\u001b[0mstart\u001b[0m \u001b[0;34m+\u001b[0m \u001b[0mrealign\u001b[0m\u001b[0;34m,\u001b[0m \u001b[0msentence1\u001b[0m\u001b[0;34m.\u001b[0m\u001b[0mstop\u001b[0m\u001b[0;34m)\u001b[0m\u001b[0;34m\u001b[0m\u001b[0;34m\u001b[0m\u001b[0m\n\u001b[1;32m   1459\u001b[0m             \u001b[0;32mif\u001b[0m \u001b[0;32mnot\u001b[0m \u001b[0msentence2\u001b[0m\u001b[0;34m:\u001b[0m\u001b[0;34m\u001b[0m\u001b[0;34m\u001b[0m\u001b[0m\n",
            "\u001b[0;32m/usr/local/lib/python3.11/dist-packages/nltk/tokenize/punkt.py\u001b[0m in \u001b[0;36m_pair_iter\u001b[0;34m(iterator)\u001b[0m\n\u001b[1;32m    322\u001b[0m     \u001b[0;32mexcept\u001b[0m \u001b[0mStopIteration\u001b[0m\u001b[0;34m:\u001b[0m\u001b[0;34m\u001b[0m\u001b[0;34m\u001b[0m\u001b[0m\n\u001b[1;32m    323\u001b[0m         \u001b[0;32mreturn\u001b[0m\u001b[0;34m\u001b[0m\u001b[0;34m\u001b[0m\u001b[0m\n\u001b[0;32m--> 324\u001b[0;31m     \u001b[0;32mfor\u001b[0m \u001b[0mel\u001b[0m \u001b[0;32min\u001b[0m \u001b[0miterator\u001b[0m\u001b[0;34m:\u001b[0m\u001b[0;34m\u001b[0m\u001b[0;34m\u001b[0m\u001b[0m\n\u001b[0m\u001b[1;32m    325\u001b[0m         \u001b[0;32myield\u001b[0m \u001b[0;34m(\u001b[0m\u001b[0mprev\u001b[0m\u001b[0;34m,\u001b[0m \u001b[0mel\u001b[0m\u001b[0;34m)\u001b[0m\u001b[0;34m\u001b[0m\u001b[0;34m\u001b[0m\u001b[0m\n\u001b[1;32m    326\u001b[0m         \u001b[0mprev\u001b[0m \u001b[0;34m=\u001b[0m \u001b[0mel\u001b[0m\u001b[0;34m\u001b[0m\u001b[0;34m\u001b[0m\u001b[0m\n",
            "\u001b[0;32m/usr/local/lib/python3.11/dist-packages/nltk/tokenize/punkt.py\u001b[0m in \u001b[0;36m_slices_from_text\u001b[0;34m(self, text)\u001b[0m\n\u001b[1;32m   1428\u001b[0m         \u001b[0mlast_break\u001b[0m \u001b[0;34m=\u001b[0m \u001b[0;36m0\u001b[0m\u001b[0;34m\u001b[0m\u001b[0;34m\u001b[0m\u001b[0m\n\u001b[1;32m   1429\u001b[0m         \u001b[0;32mfor\u001b[0m \u001b[0mmatch\u001b[0m\u001b[0;34m,\u001b[0m \u001b[0mcontext\u001b[0m \u001b[0;32min\u001b[0m \u001b[0mself\u001b[0m\u001b[0;34m.\u001b[0m\u001b[0m_match_potential_end_contexts\u001b[0m\u001b[0;34m(\u001b[0m\u001b[0mtext\u001b[0m\u001b[0;34m)\u001b[0m\u001b[0;34m:\u001b[0m\u001b[0;34m\u001b[0m\u001b[0;34m\u001b[0m\u001b[0m\n\u001b[0;32m-> 1430\u001b[0;31m             \u001b[0;32mif\u001b[0m \u001b[0mself\u001b[0m\u001b[0;34m.\u001b[0m\u001b[0mtext_contains_sentbreak\u001b[0m\u001b[0;34m(\u001b[0m\u001b[0mcontext\u001b[0m\u001b[0;34m)\u001b[0m\u001b[0;34m:\u001b[0m\u001b[0;34m\u001b[0m\u001b[0;34m\u001b[0m\u001b[0m\n\u001b[0m\u001b[1;32m   1431\u001b[0m                 \u001b[0;32myield\u001b[0m \u001b[0mslice\u001b[0m\u001b[0;34m(\u001b[0m\u001b[0mlast_break\u001b[0m\u001b[0;34m,\u001b[0m \u001b[0mmatch\u001b[0m\u001b[0;34m.\u001b[0m\u001b[0mend\u001b[0m\u001b[0;34m(\u001b[0m\u001b[0;34m)\u001b[0m\u001b[0;34m)\u001b[0m\u001b[0;34m\u001b[0m\u001b[0;34m\u001b[0m\u001b[0m\n\u001b[1;32m   1432\u001b[0m                 \u001b[0;32mif\u001b[0m \u001b[0mmatch\u001b[0m\u001b[0;34m.\u001b[0m\u001b[0mgroup\u001b[0m\u001b[0;34m(\u001b[0m\u001b[0;34m\"next_tok\"\u001b[0m\u001b[0;34m)\u001b[0m\u001b[0;34m:\u001b[0m\u001b[0;34m\u001b[0m\u001b[0;34m\u001b[0m\u001b[0m\n",
            "\u001b[0;32m/usr/local/lib/python3.11/dist-packages/nltk/tokenize/punkt.py\u001b[0m in \u001b[0;36mtext_contains_sentbreak\u001b[0;34m(self, text)\u001b[0m\n\u001b[1;32m   1476\u001b[0m         \"\"\"\n\u001b[1;32m   1477\u001b[0m         \u001b[0mfound\u001b[0m \u001b[0;34m=\u001b[0m \u001b[0;32mFalse\u001b[0m  \u001b[0;31m# used to ignore last token\u001b[0m\u001b[0;34m\u001b[0m\u001b[0;34m\u001b[0m\u001b[0m\n\u001b[0;32m-> 1478\u001b[0;31m         \u001b[0;32mfor\u001b[0m \u001b[0mtok\u001b[0m \u001b[0;32min\u001b[0m \u001b[0mself\u001b[0m\u001b[0;34m.\u001b[0m\u001b[0m_annotate_tokens\u001b[0m\u001b[0;34m(\u001b[0m\u001b[0mself\u001b[0m\u001b[0;34m.\u001b[0m\u001b[0m_tokenize_words\u001b[0m\u001b[0;34m(\u001b[0m\u001b[0mtext\u001b[0m\u001b[0;34m)\u001b[0m\u001b[0;34m)\u001b[0m\u001b[0;34m:\u001b[0m\u001b[0;34m\u001b[0m\u001b[0;34m\u001b[0m\u001b[0m\n\u001b[0m\u001b[1;32m   1479\u001b[0m             \u001b[0;32mif\u001b[0m \u001b[0mfound\u001b[0m\u001b[0;34m:\u001b[0m\u001b[0;34m\u001b[0m\u001b[0;34m\u001b[0m\u001b[0m\n\u001b[1;32m   1480\u001b[0m                 \u001b[0;32mreturn\u001b[0m \u001b[0;32mTrue\u001b[0m\u001b[0;34m\u001b[0m\u001b[0;34m\u001b[0m\u001b[0m\n",
            "\u001b[0;32m/usr/local/lib/python3.11/dist-packages/nltk/tokenize/punkt.py\u001b[0m in \u001b[0;36m_annotate_second_pass\u001b[0;34m(self, tokens)\u001b[0m\n\u001b[1;32m   1618\u001b[0m         \u001b[0mheuristic\u001b[0m \u001b[0;34m(\u001b[0m\u001b[0;36m4.1\u001b[0m\u001b[0;36m.2\u001b[0m\u001b[0;34m)\u001b[0m \u001b[0;32mand\u001b[0m \u001b[0mfrequent\u001b[0m \u001b[0msentence\u001b[0m \u001b[0mstarter\u001b[0m \u001b[0mheuristic\u001b[0m \u001b[0;34m(\u001b[0m\u001b[0;36m4.1\u001b[0m\u001b[0;36m.3\u001b[0m\u001b[0;34m)\u001b[0m\u001b[0;34m.\u001b[0m\u001b[0;34m\u001b[0m\u001b[0;34m\u001b[0m\u001b[0m\n\u001b[1;32m   1619\u001b[0m         \"\"\"\n\u001b[0;32m-> 1620\u001b[0;31m         \u001b[0;32mfor\u001b[0m \u001b[0mtoken1\u001b[0m\u001b[0;34m,\u001b[0m \u001b[0mtoken2\u001b[0m \u001b[0;32min\u001b[0m \u001b[0m_pair_iter\u001b[0m\u001b[0;34m(\u001b[0m\u001b[0mtokens\u001b[0m\u001b[0;34m)\u001b[0m\u001b[0;34m:\u001b[0m\u001b[0;34m\u001b[0m\u001b[0;34m\u001b[0m\u001b[0m\n\u001b[0m\u001b[1;32m   1621\u001b[0m             \u001b[0mself\u001b[0m\u001b[0;34m.\u001b[0m\u001b[0m_second_pass_annotation\u001b[0m\u001b[0;34m(\u001b[0m\u001b[0mtoken1\u001b[0m\u001b[0;34m,\u001b[0m \u001b[0mtoken2\u001b[0m\u001b[0;34m)\u001b[0m\u001b[0;34m\u001b[0m\u001b[0;34m\u001b[0m\u001b[0m\n\u001b[1;32m   1622\u001b[0m             \u001b[0;32myield\u001b[0m \u001b[0mtoken1\u001b[0m\u001b[0;34m\u001b[0m\u001b[0;34m\u001b[0m\u001b[0m\n",
            "\u001b[0;32m/usr/local/lib/python3.11/dist-packages/nltk/tokenize/punkt.py\u001b[0m in \u001b[0;36m_pair_iter\u001b[0;34m(iterator)\u001b[0m\n\u001b[1;32m    319\u001b[0m     \u001b[0miterator\u001b[0m \u001b[0;34m=\u001b[0m \u001b[0miter\u001b[0m\u001b[0;34m(\u001b[0m\u001b[0miterator\u001b[0m\u001b[0;34m)\u001b[0m\u001b[0;34m\u001b[0m\u001b[0;34m\u001b[0m\u001b[0m\n\u001b[1;32m    320\u001b[0m     \u001b[0;32mtry\u001b[0m\u001b[0;34m:\u001b[0m\u001b[0;34m\u001b[0m\u001b[0;34m\u001b[0m\u001b[0m\n\u001b[0;32m--> 321\u001b[0;31m         \u001b[0mprev\u001b[0m \u001b[0;34m=\u001b[0m \u001b[0mnext\u001b[0m\u001b[0;34m(\u001b[0m\u001b[0miterator\u001b[0m\u001b[0;34m)\u001b[0m\u001b[0;34m\u001b[0m\u001b[0;34m\u001b[0m\u001b[0m\n\u001b[0m\u001b[1;32m    322\u001b[0m     \u001b[0;32mexcept\u001b[0m \u001b[0mStopIteration\u001b[0m\u001b[0;34m:\u001b[0m\u001b[0;34m\u001b[0m\u001b[0;34m\u001b[0m\u001b[0m\n\u001b[1;32m    323\u001b[0m         \u001b[0;32mreturn\u001b[0m\u001b[0;34m\u001b[0m\u001b[0;34m\u001b[0m\u001b[0m\n",
            "\u001b[0;32m/usr/local/lib/python3.11/dist-packages/nltk/tokenize/punkt.py\u001b[0m in \u001b[0;36m_annotate_first_pass\u001b[0;34m(self, tokens)\u001b[0m\n\u001b[1;32m    602\u001b[0m         \"\"\"\n\u001b[1;32m    603\u001b[0m         \u001b[0;32mfor\u001b[0m \u001b[0maug_tok\u001b[0m \u001b[0;32min\u001b[0m \u001b[0mtokens\u001b[0m\u001b[0;34m:\u001b[0m\u001b[0;34m\u001b[0m\u001b[0;34m\u001b[0m\u001b[0m\n\u001b[0;32m--> 604\u001b[0;31m             \u001b[0mself\u001b[0m\u001b[0;34m.\u001b[0m\u001b[0m_first_pass_annotation\u001b[0m\u001b[0;34m(\u001b[0m\u001b[0maug_tok\u001b[0m\u001b[0;34m)\u001b[0m\u001b[0;34m\u001b[0m\u001b[0;34m\u001b[0m\u001b[0m\n\u001b[0m\u001b[1;32m    605\u001b[0m             \u001b[0;32myield\u001b[0m \u001b[0maug_tok\u001b[0m\u001b[0;34m\u001b[0m\u001b[0;34m\u001b[0m\u001b[0m\n\u001b[1;32m    606\u001b[0m \u001b[0;34m\u001b[0m\u001b[0m\n",
            "\u001b[0;32m/usr/local/lib/python3.11/dist-packages/nltk/tokenize/punkt.py\u001b[0m in \u001b[0;36m_first_pass_annotation\u001b[0;34m(self, aug_tok)\u001b[0m\n\u001b[1;32m    614\u001b[0m         \u001b[0;32mif\u001b[0m \u001b[0mtok\u001b[0m \u001b[0;32min\u001b[0m \u001b[0mself\u001b[0m\u001b[0;34m.\u001b[0m\u001b[0m_lang_vars\u001b[0m\u001b[0;34m.\u001b[0m\u001b[0msent_end_chars\u001b[0m\u001b[0;34m:\u001b[0m\u001b[0;34m\u001b[0m\u001b[0;34m\u001b[0m\u001b[0m\n\u001b[1;32m    615\u001b[0m             \u001b[0maug_tok\u001b[0m\u001b[0;34m.\u001b[0m\u001b[0msentbreak\u001b[0m \u001b[0;34m=\u001b[0m \u001b[0;32mTrue\u001b[0m\u001b[0;34m\u001b[0m\u001b[0;34m\u001b[0m\u001b[0m\n\u001b[0;32m--> 616\u001b[0;31m         \u001b[0;32melif\u001b[0m \u001b[0maug_tok\u001b[0m\u001b[0;34m.\u001b[0m\u001b[0mis_ellipsis\u001b[0m\u001b[0;34m:\u001b[0m\u001b[0;34m\u001b[0m\u001b[0;34m\u001b[0m\u001b[0m\n\u001b[0m\u001b[1;32m    617\u001b[0m             \u001b[0maug_tok\u001b[0m\u001b[0;34m.\u001b[0m\u001b[0mellipsis\u001b[0m \u001b[0;34m=\u001b[0m \u001b[0;32mTrue\u001b[0m\u001b[0;34m\u001b[0m\u001b[0;34m\u001b[0m\u001b[0m\n\u001b[1;32m    618\u001b[0m         \u001b[0;32melif\u001b[0m \u001b[0maug_tok\u001b[0m\u001b[0;34m.\u001b[0m\u001b[0mperiod_final\u001b[0m \u001b[0;32mand\u001b[0m \u001b[0;32mnot\u001b[0m \u001b[0mtok\u001b[0m\u001b[0;34m.\u001b[0m\u001b[0mendswith\u001b[0m\u001b[0;34m(\u001b[0m\u001b[0;34m\"..\"\u001b[0m\u001b[0;34m)\u001b[0m\u001b[0;34m:\u001b[0m\u001b[0;34m\u001b[0m\u001b[0;34m\u001b[0m\u001b[0m\n",
            "\u001b[0;32m/usr/local/lib/python3.11/dist-packages/nltk/tokenize/punkt.py\u001b[0m in \u001b[0;36mis_ellipsis\u001b[0;34m(self)\u001b[0m\n\u001b[1;32m    463\u001b[0m         \u001b[0;32mreturn\u001b[0m \u001b[0;34m\"none\"\u001b[0m\u001b[0;34m\u001b[0m\u001b[0;34m\u001b[0m\u001b[0m\n\u001b[1;32m    464\u001b[0m \u001b[0;34m\u001b[0m\u001b[0m\n\u001b[0;32m--> 465\u001b[0;31m     \u001b[0;34m@\u001b[0m\u001b[0mproperty\u001b[0m\u001b[0;34m\u001b[0m\u001b[0;34m\u001b[0m\u001b[0m\n\u001b[0m\u001b[1;32m    466\u001b[0m     \u001b[0;32mdef\u001b[0m \u001b[0mis_ellipsis\u001b[0m\u001b[0;34m(\u001b[0m\u001b[0mself\u001b[0m\u001b[0;34m)\u001b[0m\u001b[0;34m:\u001b[0m\u001b[0;34m\u001b[0m\u001b[0;34m\u001b[0m\u001b[0m\n\u001b[1;32m    467\u001b[0m         \u001b[0;34m\"\"\"True if the token text is that of an ellipsis.\"\"\"\u001b[0m\u001b[0;34m\u001b[0m\u001b[0;34m\u001b[0m\u001b[0m\n",
            "\u001b[0;31mKeyboardInterrupt\u001b[0m: "
          ]
        }
      ],
      "source": [
        "import pandas as pd\n",
        "from sklearn.feature_extraction.text import TfidfVectorizer\n",
        "from nltk.tokenize import sent_tokenize\n",
        "\n",
        "# قراءة ملف CSV\n",
        "file_path = '/content/data/cleaned_train_data.csv'\n",
        "df = pd.read_csv(file_path)\n",
        "\n",
        "# استخراج النصوص من العمود المطلوب\n",
        "text_column = 'article_cleaned'  # استبدل باسم العمود الذي يحتوي النصوص\n",
        "texts = df[text_column].dropna().astype(str)  # إزالة النصوص الفارغة والتأكد من أن جميع النصوص هي نصوص\n",
        "\n",
        "# دالة لحساب الجمل ذات الوزن الأعلى باستخدام TF-IDF\n",
        "def get_top_sentences(text, top_n=5):\n",
        "    # تقسيم النص إلى جمل\n",
        "    sentences = sent_tokenize(text)\n",
        "\n",
        "    # إذا كان النص يحتوي على أقل من عدد الجمل المطلوبة\n",
        "    if len(sentences) < top_n:\n",
        "        return sentences\n",
        "\n",
        "    # حساب قيم TF-IDF\n",
        "    vectorizer = TfidfVectorizer()\n",
        "    tfidf_matrix = vectorizer.fit_transform(sentences)\n",
        "    tfidf_scores = tfidf_matrix.sum(axis=1).A1  # مجموع القيم لكل جملة\n",
        "\n",
        "    # ترتيب الجمل بناءً على الوزن\n",
        "    sorted_indices = tfidf_scores.argsort()[::-1]  # ترتيب تنازلي\n",
        "    top_sentences = [sentences[i] for i in sorted_indices[:top_n]]\n",
        "    return top_sentences\n",
        "\n",
        "# تطبيق الدالة على النصوص واستخراج النتائج\n",
        "top_sentences_per_text = []\n",
        "\n",
        "for text in texts:\n",
        "    top_sentences = get_top_sentences(text, top_n=5)\n",
        "    top_sentences_per_text.append(top_sentences)\n",
        "\n",
        "# عرض النتائج لأول 5 مقالات\n",
        "for idx, sentences in enumerate(top_sentences_per_text[:5], 1):\n",
        "    print(f\"النص {idx}:\\n\")\n",
        "    for i, sentence in enumerate(sentences, 1):\n",
        "        print(f\"الجملة {i}: {sentence}\")\n",
        "    print(\"\\n\" + \"=\"*50 + \"\\n\")\n"
      ]
    },
    {
      "cell_type": "markdown",
      "metadata": {
        "id": "EOY-_osce-6M"
      },
      "source": [
        "الجمل ذات الوزن الاعلى التي تحوى على اسماء اشارة"
      ]
    },
    {
      "cell_type": "code",
      "execution_count": null,
      "metadata": {
        "collapsed": true,
        "id": "tmXqomb6-kx9"
      },
      "outputs": [],
      "source": [
        "import pandas as pd\n",
        "from nltk.tokenize import sent_tokenize\n",
        "##تجربة اولى باستخدام مكتبة\n",
        "# قائمة عبارات الإشارة بالإنجليزية\n",
        "signal_phrases =  [\n",
        "    \"in conclusion\", \"to summarize\", \"in summary\", \"overall\", \"in short\", \"to sum up\", \"in brief\",\n",
        "    \"furthermore\", \"moreover\", \"additionally\", \"in addition\", \"also\", \"besides\", \"not only\",\n",
        "    \"however\", \"on the other hand\", \"nevertheless\", \"in contrast\", \"conversely\", \"although\", \"despite\",\n",
        "    \"therefore\", \"as a result\", \"consequently\", \"thus\", \"hence\", \"because of this\", \"due to\",\n",
        "    \"for example\", \"for instance\", \"such as\", \"to illustrate\", \"as an illustration\", \"namely\", \"in particular\",\n",
        "    \"indeed\", \"in fact\", \"certainly\", \"of course\", \"undoubtedly\", \"clearly\", \"obviously\",\n",
        "    \"first\", \"second\", \"finally\", \"next\", \"then\", \"after that\", \"subsequently\",\n",
        "    \"that is\", \"in other words\", \"to put it differently\", \"this means that\", \"which means\", \"namely\", \"specifically\",\n",
        "    \"as a result\", \"accordingly\", \"hence\", \"thus\", \"therefore\", \"so\", \"for this reason\",\n",
        "    \"similarly\", \"likewise\", \"in the same way\", \"just as\", \"compared to\", \"in comparison\", \"equally\"\n",
        "]\n",
        "\n",
        "# دالة لحساب وزن الجملة بناءً على عبارات الإشارة\n",
        "def calculate_sentence_weight(sentence, signal_phrases):\n",
        "    weight = 0\n",
        "    for phrase in signal_phrases:\n",
        "        if phrase.lower() in sentence.lower():  # البحث عن العبارات بغض النظر عن حالة الأحرف\n",
        "            weight += 1\n",
        "    return weight\n",
        "\n",
        "# دالة لاستخراج الجمل ذات الوزن الأعلى\n",
        "def get_top_signal_sentences(text, signal_phrases, top_n=5):\n",
        "    sentences = sent_tokenize(text)  # تقسيم النص إلى جمل\n",
        "    sentence_weights = [\n",
        "        (sentence, calculate_sentence_weight(sentence, signal_phrases))\n",
        "        for sentence in sentences\n",
        "    ]\n",
        "    # ترتيب الجمل حسب الوزن تنازليًا\n",
        "    sorted_sentences = sorted(sentence_weights, key=lambda x: x[1], reverse=True)\n",
        "    # استخراج الجمل ذات الوزن الأعلى\n",
        "    top_sentences = [s[0] for s in sorted_sentences[:top_n]]\n",
        "    return top_sentences\n",
        "\n",
        "# قراءة ملف CSV\n",
        "file_path = '/content/data/cleaned_train_data.csv'  # استبدل بمسار ملفك\n",
        "df = pd.read_csv(file_path)\n",
        "\n",
        "# استخراج النصوص من العمود المطلوب\n",
        "text_column = 'article_cleaned'  # استبدل باسم العمود الذي يحتوي النصوص\n",
        "texts = df[text_column].dropna().astype(str)  # إزالة النصوص الفارغة والتأكد من أن جميع النصوص هي نصوص\n",
        "\n",
        "# استخراج الجمل ذات الوزن الأعلى لكل نص\n",
        "top_sentences_per_text = []\n",
        "\n",
        "for text in texts:\n",
        "    top_sentences = get_top_signal_sentences(text, signal_phrases, top_n=5)\n",
        "    top_sentences_per_text.append(top_sentences)\n",
        "\n",
        "# عرض النتائج لأول 5 نصوص\n",
        "for idx, sentences in enumerate(top_sentences_per_text[:5], 1):\n",
        "    print(f\"Text {idx}:\\n\")\n",
        "    for i, sentence in enumerate(sentences, 1):\n",
        "        print(f\"Sentence {i}: {sentence}\")\n",
        "    print(\"\\n\" + \"=\"*50 + \"\\n\")\n"
      ]
    },
    {
      "cell_type": "markdown",
      "metadata": {
        "id": "DM-QWhuvflTX"
      },
      "source": [
        "النتيجة غير مرضية لأن النقطة تظهر لوحدها على انها جملة سيتم الاختبار بطريقة اخرى"
      ]
    },
    {
      "cell_type": "markdown",
      "metadata": {
        "id": "n4oMfDQFfu1D"
      },
      "source": [
        "تجربة 2\n",
        "اختيار الجمل الي طولها 4 واكثر"
      ]
    },
    {
      "cell_type": "code",
      "execution_count": null,
      "metadata": {
        "collapsed": true,
        "id": "EQiPwn5SJjBG"
      },
      "outputs": [],
      "source": [
        "import pandas as pd\n",
        "from nltk.tokenize import sent_tokenize, word_tokenize\n",
        "\n",
        "# قائمة عبارات الإشارة بالإنجليزية\n",
        "signal_phrases = [\n",
        "    \"in conclusion\", \"to summarize\", \"in summary\", \"overall\", \"in short\", \"to sum up\", \"in brief\",\n",
        "    \"furthermore\", \"moreover\", \"additionally\", \"in addition\", \"also\", \"besides\", \"not only\",\n",
        "    \"however\", \"on the other hand\", \"nevertheless\", \"in contrast\", \"conversely\", \"although\", \"despite\",\n",
        "    \"therefore\", \"as a result\", \"consequently\", \"thus\", \"hence\", \"because of this\", \"due to\",\n",
        "    \"for example\", \"for instance\", \"such as\", \"to illustrate\", \"as an illustration\", \"namely\", \"in particular\",\n",
        "    \"indeed\", \"in fact\", \"certainly\", \"of course\", \"undoubtedly\", \"clearly\", \"obviously\",\n",
        "    \"first\", \"second\", \"finally\", \"next\", \"then\", \"after that\", \"subsequently\",\n",
        "    \"that is\", \"in other words\", \"to put it differently\", \"this means that\", \"which means\", \"namely\", \"specifically\",\n",
        "    \"as a result\", \"accordingly\", \"hence\", \"thus\", \"therefore\", \"so\", \"for this reason\",\n",
        "    \"similarly\", \"likewise\", \"in the same way\", \"just as\", \"compared to\", \"in comparison\", \"equally\"\n",
        "]\n",
        "\n",
        "# دالة لحساب وزن الجملة بناءً على عبارات الإشارة\n",
        "def calculate_sentence_weight(sentence, signal_phrases):\n",
        "    words = word_tokenize(sentence)  # تقسيم الجملة إلى كلمات\n",
        "    if len(words) < 4:  # شرط أن تحتوي الجملة على أربع كلمات على الأقل\n",
        "        return 0\n",
        "    weight = 0\n",
        "    for phrase in signal_phrases:\n",
        "        if phrase.lower() in sentence.lower():  # البحث عن العبارات بغض النظر عن حالة الأحرف\n",
        "            weight += 1\n",
        "    return weight\n",
        "\n",
        "# دالة لاستخراج الجمل ذات الوزن الأعلى\n",
        "def get_top_signal_sentences(text, signal_phrases, top_n=5):\n",
        "    sentences = sent_tokenize(text)  # تقسيم النص إلى جمل\n",
        "    sentence_weights = [\n",
        "        (sentence, calculate_sentence_weight(sentence, signal_phrases))\n",
        "        for sentence in sentences\n",
        "    ]\n",
        "    # ترتيب الجمل حسب الوزن تنازليًا\n",
        "    sorted_sentences = sorted(sentence_weights, key=lambda x: x[1], reverse=True)\n",
        "    # استخراج الجمل ذات الوزن الأعلى\n",
        "    top_sentences = [s[0] for s in sorted_sentences[:top_n]]\n",
        "    return top_sentences\n",
        "\n",
        "# قراءة ملف CSV\n",
        "file_path = '/content/data/cleaned_train_data.csv'  # استبدل بمسار ملفك\n",
        "df = pd.read_csv(file_path)\n",
        "\n",
        "# استخراج النصوص من العمود المطلوب\n",
        "text_column = 'article_cleaned'  # استبدل باسم العمود الذي يحتوي النصوص\n",
        "texts = df[text_column].dropna().astype(str)  # إزالة النصوص الفارغة والتأكد من أن جميع النصوص هي نصوص\n",
        "\n",
        "# استخراج الجمل ذات الوزن الأعلى لكل نص\n",
        "top_sentences_per_text = []\n",
        "\n",
        "for text in texts:\n",
        "    top_sentences = get_top_signal_sentences(text, signal_phrases, top_n=5)\n",
        "    top_sentences_per_text.append(top_sentences)\n",
        "\n",
        "# عرض النتائج لأول 5 نصوص\n",
        "for idx, sentences in enumerate(top_sentences_per_text[:5], 1):\n",
        "    print(f\"Text {idx}:\\n\")\n",
        "    for i, sentence in enumerate(sentences, 1):\n",
        "        print(f\"Sentence {i}: {sentence}\")\n",
        "    print(\"\\n\" + \"=\"*50 + \"\\n\")\n"
      ]
    },
    {
      "cell_type": "markdown",
      "metadata": {
        "id": "khNkXki0gHNC"
      },
      "source": [
        "التجربة المعتمدة\n",
        "الجملة 4 كلمات واطول\n",
        "التقسيم باستخدام تعبير منتظم"
      ]
    },
    {
      "cell_type": "code",
      "execution_count": null,
      "metadata": {
        "collapsed": true,
        "id": "-nv-LhvlXedD"
      },
      "outputs": [],
      "source": [
        "import re\n",
        "import pandas as pd\n",
        "from nltk.tokenize import sent_tokenize\n",
        "\n",
        "# قائمة عبارات الإشارة بالإنجليزية\n",
        "signal_phrases = [\n",
        "    \"in conclusion\", \"to summarize\", \"in summary\", \"overall\", \"in short\", \"to sum up\", \"in brief\",\n",
        "    \"furthermore\", \"moreover\", \"additionally\", \"in addition\", \"also\", \"besides\", \"not only\",\n",
        "    \"however\", \"on the other hand\", \"nevertheless\", \"in contrast\", \"conversely\", \"although\", \"despite\",\n",
        "    \"therefore\", \"as a result\", \"consequently\", \"thus\", \"hence\", \"because of this\", \"due to\",\n",
        "    \"for example\", \"for instance\", \"such as\", \"to illustrate\", \"as an illustration\", \"namely\", \"in particular\",\n",
        "    \"indeed\", \"in fact\", \"certainly\", \"of course\", \"undoubtedly\", \"clearly\", \"obviously\",\n",
        "    \"first\", \"second\", \"finally\", \"next\", \"then\", \"after that\", \"subsequently\",\n",
        "    \"that is\", \"in other words\", \"to put it differently\", \"this means that\", \"which means\", \"namely\", \"specifically\",\n",
        "    \"as a result\", \"accordingly\", \"hence\", \"thus\", \"therefore\", \"so\", \"for this reason\",\n",
        "    \"similarly\", \"likewise\", \"in the same way\", \"just as\", \"compared to\", \"in comparison\", \"equally\"\n",
        "]\n",
        "\n",
        "# دالة لحساب وزن الجملة بناءً على عبارات الإشارة\n",
        "def calculate_sentence_weight(sentence, signal_phrases):\n",
        "    # استخدام التعبير المنتظم لتقسيم الجملة إلى كلمات\n",
        "    words = re.findall(r'\\w+', sentence)\n",
        "    if len(words) < 4:  # شرط أن تحتوي الجملة على أربع كلمات على الأقل\n",
        "        return 0\n",
        "    weight = 0\n",
        "    for phrase in signal_phrases:\n",
        "        if phrase.lower() in sentence.lower():  # البحث عن العبارات بغض النظر عن حالة الأحرف\n",
        "            weight += 1\n",
        "    return weight\n",
        "\n",
        "# دالة لاستخراج الجمل ذات الوزن الأعلى\n",
        "def get_top_signal_sentences(text, signal_phrases, top_n=5):\n",
        "    sentences = sent_tokenize(text)  # تقسيم النص إلى جمل\n",
        "    sentence_weights = [\n",
        "        (sentence, calculate_sentence_weight(sentence, signal_phrases))\n",
        "        for sentence in sentences\n",
        "        if re.search(r'\\w+', sentence)  # تجاهل الجمل التي لا تحتوي على كلمات (مثل \".\" فقط)\n",
        "    ]\n",
        "    # ترتيب الجمل حسب الوزن تنازليًا\n",
        "    sorted_sentences = sorted(sentence_weights, key=lambda x: x[1], reverse=True)\n",
        "    # استخراج الجمل ذات الوزن الأعلى\n",
        "    top_sentences = [s[0] for s in sorted_sentences[:top_n]]\n",
        "    return top_sentences\n",
        "\n",
        "# قراءة ملف CSV\n",
        "file_path = '/content/data/cleaned_train_data.csv'  # استبدل بمسار ملفك\n",
        "df = pd.read_csv(file_path)\n",
        "\n",
        "# استخراج النصوص من العمود المطلوب\n",
        "text_column = 'article_cleaned'  # استبدل باسم العمود الذي يحتوي النصوص\n",
        "texts = df[text_column].dropna().astype(str)  # إزالة النصوص الفارغة والتأكد من أن جميع النصوص هي نصوص\n",
        "\n",
        "# استخراج الجمل ذات الوزن الأعلى لكل نص\n",
        "top_sentences_per_text = []\n",
        "\n",
        "for text in texts:\n",
        "    top_sentences = get_top_signal_sentences(text, signal_phrases, top_n=5)\n",
        "    top_sentences_per_text.append(top_sentences)\n",
        "\n",
        "# عرض النتائج لأول 5 نصوص\n",
        "for idx, sentences in enumerate(top_sentences_per_text[:5], 1):\n",
        "    print(f\"Text {idx}:\\n\")\n",
        "    for i, sentence in enumerate(sentences, 1):\n",
        "        print(f\"Sentence {i}: {sentence}\")\n",
        "    print(\"\\n\" + \"=\"*50 + \"\\n\")\n"
      ]
    },
    {
      "cell_type": "markdown",
      "metadata": {
        "id": "HBGJnxd6n6va"
      },
      "source": [
        "# **Baseline model**"
      ]
    },
    {
      "cell_type": "code",
      "execution_count": null,
      "metadata": {
        "colab": {
          "base_uri": "https://localhost:8080/"
        },
        "id": "y-W0I9CmO2ti",
        "outputId": "3fd51678-5035-42ed-ff6a-4e42bff9cd9f",
        "collapsed": true
      },
      "outputs": [
        {
          "output_type": "stream",
          "name": "stdout",
          "text": [
            "Classification Report (Validation Data):\n",
            "              precision    recall  f1-score   support\n",
            "\n",
            "           0       1.00      1.00      1.00    420096\n",
            "           1       0.59      0.03      0.06       693\n",
            "\n",
            "    accuracy                           1.00    420789\n",
            "   macro avg       0.79      0.52      0.53    420789\n",
            "weighted avg       1.00      1.00      1.00    420789\n",
            "\n",
            "Classification Report (Test Data):\n",
            "              precision    recall  f1-score   support\n",
            "\n",
            "           0       1.00      1.00      1.00    366285\n",
            "           1       0.39      0.01      0.03       532\n",
            "\n",
            "    accuracy                           1.00    366817\n",
            "   macro avg       0.69      0.51      0.51    366817\n",
            "weighted avg       1.00      1.00      1.00    366817\n",
            "\n",
            "\n",
            "Article 1 - Important Sentences:\n",
            "1. ever noticed plane seats appear getting smaller smaller increasing numbers people taking skies, experts questioning packed planes putting passengers risk.\n",
            "2. say shrinking space aeroplanes uncomfortable putting health safety danger.\n",
            "3. squabbling arm rest, shrinking space planes putting health safety danger week, u.s consumer advisory group set department transportation said public hearing government happy set standards animals flying planes, doesnt stipulate minimum amount space humans.\n",
            "4. world animals rights space food humans, said charlie leocha, consumer representative committee.\n",
            "5. time dot faa take stand humane treatment passengers.\n",
            "\n",
            "Article 2 - Important Sentences:\n",
            "1. drunk teenage boy rescued security jumping lions enclosure zoo western india.\n",
            "2. rahul kumar, 17, clambered enclosure fence kamla nehru zoological park ahmedabad, began running towards animals, shouting would kill them.\n",
            "3. mr kumar explained afterwards drunk thought id stand good chance predators.\n",
            "4. next level drunk intoxicated rahul kumar, 17, climbed lions enclosure zoo ahmedabad began running towards animals shouting today kill lion mr kumar sitting near enclosure suddenly made dash lions, surprising zoo security.\n",
            "5. intoxicated teenager ran towards lions, shouting today kill lion lion kills zoo spokesman said guards earlier spotted close enclosure idea planing enter it.\n",
            "\n",
            "Article 3 - Important Sentences:\n",
            "1. dougie freedman verge agreeing new twoyear deal remain nottingham forest.\n",
            "2. freedman stabilised forest since replaced cult hero stuart pearce clubs owners pleased job done city ground.\n",
            "3. dougie freedman set sign new deal nottingham forest .\n",
            "4. freedman impressed city ground since replacing stuart pearce february .\n",
            "5. made audacious attempt playoff places freedman replaced pearce tailed recent weeks.\n",
            "\n",
            "Article 4 - Important Sentences:\n",
            "1. liverpool target neto also wanted psg clubs spain brendan rodgers faces stiff competition land fiorentina goalkeeper, according brazilians agent stefano castagna.\n",
            "2. reds linked move 25yearold, whose contract expires june, earlier season simon mignolet dropped side.\n",
            "3. january move neto never materialised former atletico paranaense keeper looks certain leave florencebased club summer.\n",
            "4. neto rushes goal juan iturbe bears fiorentinas clash roma march .\n",
            "5. neto wanted number top european clubs including liverpool psg, according agent .\n",
            "\n",
            "Article 5 - Important Sentences:\n",
            "1. bruce jenner break silence twohour interview diane sawyer later month.\n",
            "2. former olympian reality tv star, 65, speak farranging interview sawyer special edition 2020 friday april 24, abc news announced monday.\n",
            "3. interview comes amid growing speculation fatherofsixs transition woman, follows closely behind involvement deadly car crash california february.\n",
            "4. kardashian women known enjoying center stage, stealing bruces spotlight armenia interview airs, according tmz.\n",
            "5. scroll video .\n"
          ]
        }
      ],
      "source": [
        "import pandas as pd\n",
        "from sklearn.feature_extraction.text import TfidfVectorizer\n",
        "from sklearn.linear_model import LogisticRegression\n",
        "from sklearn.metrics import classification_report\n",
        "from sklearn.pipeline import make_pipeline\n",
        "from nltk.tokenize import sent_tokenize\n",
        "\n",
        "# روابط الملفات\n",
        "train_file_path = '/content/data/cleaned_train_data.csv'       # ملف التدريب\n",
        "validation_file_path = '/content/data/cleaned_validation_data.csv'  # ملف الفاليديشن\n",
        "test_file_path = '/content/data/cleaned_test_data.csv'         # ملف الاختبار\n",
        "\n",
        "# قراءة البيانات\n",
        "df_train = pd.read_csv(train_file_path)\n",
        "df_validation = pd.read_csv(validation_file_path)\n",
        "df_test = pd.read_csv(test_file_path)\n",
        "\n",
        "# التأكد من أن الأعمدة تحتوي على المقالات والملخصات\n",
        "article_column = 'article_cleaned'  # اسم العمود الذي يحتوي على المقالات\n",
        "summary_column = 'summary_cleaned'  # اسم العمود الذي يحتوي على الملخصات\n",
        "\n",
        "# دالة لتقسيم المقال إلى جمل\n",
        "def split_into_sentences(text):\n",
        "    return sent_tokenize(text)\n",
        "\n",
        "# معالجة بيانات التدريب\n",
        "df_train['sentences'] = df_train[article_column].apply(split_into_sentences)\n",
        "sentences_train = []\n",
        "labels_train = []\n",
        "for _, row in df_train.iterrows():\n",
        "    for sentence in row['sentences']:\n",
        "        sentences_train.append(sentence)\n",
        "        if sentence in row[summary_column]:\n",
        "            labels_train.append(1)  # جملة مهمة\n",
        "        else:\n",
        "            labels_train.append(0)  # جملة غير مهمة\n",
        "\n",
        "# معالجة بيانات الفاليديشن\n",
        "df_validation['sentences'] = df_validation[article_column].apply(split_into_sentences)\n",
        "sentences_validation = []\n",
        "labels_validation = []\n",
        "for _, row in df_validation.iterrows():\n",
        "    for sentence in row['sentences']:\n",
        "        sentences_validation.append(sentence)\n",
        "        if sentence in row[summary_column]:\n",
        "            labels_validation.append(1)  # جملة مهمة\n",
        "        else:\n",
        "            labels_validation.append(0)  # جملة غير مهمة\n",
        "\n",
        "# بناء نموذج TF-IDF + Logistic Regression\n",
        "model = make_pipeline(TfidfVectorizer(), LogisticRegression(max_iter=1000, random_state=42))\n",
        "\n",
        "# تدريب النموذج على بيانات التدريب\n",
        "model.fit(sentences_train, labels_train)\n",
        "\n",
        "# تقييم النموذج على بيانات الفاليديشن\n",
        "y_pred_validation = model.predict(sentences_validation)\n",
        "print(\"Classification Report (Validation Data):\")\n",
        "print(classification_report(labels_validation, y_pred_validation))\n",
        "\n",
        "# معالجة بيانات الاختبار\n",
        "df_test['sentences'] = df_test[article_column].apply(split_into_sentences)\n",
        "sentences_test = []\n",
        "labels_test = []\n",
        "for _, row in df_test.iterrows():\n",
        "    for sentence in row['sentences']:\n",
        "        sentences_test.append(sentence)\n",
        "        if sentence in row[summary_column]:\n",
        "            labels_test.append(1)  # جملة مهمة\n",
        "        else:\n",
        "            labels_test.append(0)  # جملة غير مهمة\n",
        "\n",
        "# التقييم النهائي على بيانات الاختبار\n",
        "y_pred_test = model.predict(sentences_test)\n",
        "print(\"Classification Report (Test Data):\")\n",
        "print(classification_report(labels_test, y_pred_test))\n",
        "\n",
        "# دالة لاستخراج الجمل المهمة بناءً على التنبؤات\n",
        "def extract_important_sentences(article, model, top_n=5):\n",
        "    sentences = split_into_sentences(article)\n",
        "    sentence_weights = [\n",
        "        (sentence, model.predict([sentence])[0])  # التنبؤ إذا كانت الجملة مهمة أو غير مهمة\n",
        "        for sentence in sentences\n",
        "    ]\n",
        "    # ترتيب الجمل بحسب التنبؤات\n",
        "    sorted_sentences = sorted(sentence_weights, key=lambda x: x[1], reverse=True)\n",
        "    important_sentences = [s[0] for s in sorted_sentences[:top_n]]  # استخراج الجمل المهمة\n",
        "    return important_sentences\n",
        "\n",
        "# اختبار على 5 مقالات من ملف التيست\n",
        "for i in range(5):\n",
        "    article = df_test.iloc[i][article_column]\n",
        "    important_sentences = extract_important_sentences(article, model)\n",
        "    print(f\"\\nArticle {i+1} - Important Sentences:\")\n",
        "    for j, sentence in enumerate(important_sentences, 1):\n",
        "        print(f\"{j}. {sentence}\")"
      ]
    },
    {
      "cell_type": "code",
      "source": [
        "from rouge_score import rouge_scorer\n",
        "\n",
        "# دالة لحساب تقييم ROUGE\n",
        "def calculate_rouge_scores(references, candidates):\n",
        "    scorer = rouge_scorer.RougeScorer(['rouge1', 'rouge2', 'rougeL'], use_stemmer=True)\n",
        "    scores = {'rouge1': [], 'rouge2': [], 'rougeL': []}\n",
        "    for ref, cand in zip(references, candidates):\n",
        "        score = scorer.score(ref, cand)\n",
        "        scores['rouge1'].append(score['rouge1'].fmeasure)\n",
        "        scores['rouge2'].append(score['rouge2'].fmeasure)\n",
        "        scores['rougeL'].append(score['rougeL'].fmeasure)\n",
        "    # حساب المتوسط لكل نوع\n",
        "    avg_scores = {key: sum(values) / len(values) for key, values in scores.items()}\n",
        "    return avg_scores\n",
        "\n",
        "# استخراج الجمل المهمة من المقالات واختبارها باستخدام ROUGE\n",
        "references = []\n",
        "candidates = []\n",
        "for i in range(len(df_test)):\n",
        "    article = df_test.iloc[i][article_column]\n",
        "    summary = df_test.iloc[i][summary_column]\n",
        "    # استخراج الجمل المهمة باستخدام النموذج\n",
        "    important_sentences = extract_important_sentences(article, model, top_n=5)\n",
        "    # تحويل الجمل المستخرجة والمرجعية إلى نصوص\n",
        "    candidate_summary = \" \".join(important_sentences)\n",
        "    references.append(summary)\n",
        "    candidates.append(candidate_summary)\n",
        "\n",
        "# حساب تقييم ROUGE\n",
        "rouge_scores = calculate_rouge_scores(references, candidates)\n",
        "\n",
        "# طباعة النتائج\n",
        "print(\"\\nROUGE Scores:\")\n",
        "for metric, score in rouge_scores.items():\n",
        "    print(f\"{metric}: {score:.4f}\")"
      ],
      "metadata": {
        "colab": {
          "base_uri": "https://localhost:8080/"
        },
        "id": "eYJHnjlJH2lI",
        "outputId": "18736d10-5d1b-4536-a1b0-9f44371bc604"
      },
      "execution_count": null,
      "outputs": [
        {
          "output_type": "stream",
          "name": "stdout",
          "text": [
            "\n",
            "ROUGE Scores:\n",
            "rouge1: 0.3470\n",
            "rouge2: 0.1604\n",
            "rougeL: 0.2422\n"
          ]
        }
      ]
    },
    {
      "cell_type": "markdown",
      "metadata": {
        "id": "PPrbOBNIO-tG"
      },
      "source": [
        "# RandomForest with other features"
      ]
    },
    {
      "cell_type": "markdown",
      "metadata": {
        "id": "pzzffLIj3eh3"
      },
      "source": [
        "# اضافة الاوزان من اجل كل ميزة"
      ]
    },
    {
      "cell_type": "code",
      "execution_count": null,
      "metadata": {
        "colab": {
          "base_uri": "https://localhost:8080/"
        },
        "id": "iZP4TceKV8fS",
        "outputId": "b3a27698-0411-4459-8030-2de031bf764d",
        "collapsed": true
      },
      "outputs": [
        {
          "output_type": "stream",
          "name": "stdout",
          "text": [
            "Validation Classification Report:\n",
            "              precision    recall  f1-score   support\n",
            "\n",
            "           0       1.00      1.00      1.00    420096\n",
            "           1       0.95      0.26      0.41       693\n",
            "\n",
            "    accuracy                           1.00    420789\n",
            "   macro avg       0.98      0.63      0.70    420789\n",
            "weighted avg       1.00      1.00      1.00    420789\n",
            "\n",
            "\n",
            "Average ROUGE Scores:\n",
            "ROUGE-1: 0.2471\n",
            "ROUGE-2: 0.0977\n",
            "ROUGE-L: 0.1561\n"
          ]
        }
      ],
      "source": [
        "import pandas as pd\n",
        "import numpy as np\n",
        "from sklearn.feature_extraction.text import TfidfVectorizer\n",
        "from sklearn.model_selection import train_test_split\n",
        "from sklearn.ensemble import RandomForestClassifier\n",
        "from sklearn.metrics import classification_report\n",
        "from nltk.tokenize import sent_tokenize, word_tokenize\n",
        "from sklearn.preprocessing import StandardScaler\n",
        "from rouge_score import rouge_scorer\n",
        "\n",
        "# 1. قراءة البيانات\n",
        "train_file_path = '/content/data/cleaned_train_data.csv'\n",
        "val_file_path = '/content/data/cleaned_validation_data.csv'\n",
        "test_file_path = '/content/data/cleaned_test_data.csv'\n",
        "\n",
        "df_train = pd.read_csv(train_file_path)\n",
        "df_val = pd.read_csv(val_file_path)\n",
        "df_test = pd.read_csv(test_file_path)\n",
        "\n",
        "article_column = 'article_cleaned'  # اسم العمود الذي يحتوي على المقالات\n",
        "summary_column = 'summary_cleaned'  # اسم العمود الذي يحتوي على الملخصات المرجعية\n",
        "\n",
        "# 2. تعريف الأوزان المبدئية للميزات\n",
        "weights = {\n",
        "    \"tfidf_score\": 0.2,  # أهمية TF-IDF\n",
        "    \"is_first\": 0.2,     # الجملة الأولى\n",
        "    \"is_last\": 0.2,      # الجملة الأخيرة\n",
        "    \"length\": 0.2,       # طول الجملة\n",
        "    \"signal_weight\": 0.2 # عبارات الإشارة\n",
        "}\n",
        "\n",
        "# 3. تعريف دوال الميزات\n",
        "def calculate_tfidf_scores(sentences, vectorizer=None):\n",
        "    if vectorizer is None:\n",
        "        vectorizer = TfidfVectorizer()\n",
        "        vectorizer.fit(sentences)\n",
        "    tfidf_matrix = vectorizer.transform(sentences)\n",
        "    tfidf_scores = tfidf_matrix.sum(axis=1).A1  # مجموع القيم لكل جملة\n",
        "    return tfidf_scores, vectorizer\n",
        "\n",
        "def calculate_signal_weight(sentence, signal_phrases):\n",
        "    weight = sum(phrase.lower() in sentence.lower() for phrase in signal_phrases)\n",
        "    return weight\n",
        "\n",
        "def calculate_sentence_score(features, weights):\n",
        "    score = (\n",
        "        weights[\"tfidf_score\"] * features[0] +\n",
        "        weights[\"is_first\"] * features[1] +\n",
        "        weights[\"is_last\"] * features[2] +\n",
        "        weights[\"length\"] * features[3] +\n",
        "        weights[\"signal_weight\"] * features[4]\n",
        "    )\n",
        "    return score\n",
        "\n",
        "def extract_features(article, summary, vectorizer=None, signal_phrases=[]):\n",
        "    sentences = sent_tokenize(article)\n",
        "    tfidf_scores, vectorizer = calculate_tfidf_scores(sentences, vectorizer)\n",
        "\n",
        "    features = []\n",
        "    labels = []\n",
        "    sentence_scores = []\n",
        "\n",
        "    # حساب طول الجملة (عدد الكلمات)\n",
        "    sentence_lengths = [len(word_tokenize(sentence)) for sentence in sentences]\n",
        "\n",
        "    for i, sentence in enumerate(sentences):\n",
        "        tfidf_score = tfidf_scores[i]\n",
        "        is_first = int(i == 0)\n",
        "        is_last = int(i == len(sentences) - 1)\n",
        "        length = sentence_lengths[i]\n",
        "        signal_weight = calculate_signal_weight(sentence, signal_phrases)\n",
        "        is_important = int(sentence in summary)\n",
        "\n",
        "        feature_vector = [tfidf_score, is_first, is_last, length, signal_weight]\n",
        "        features.append(feature_vector)\n",
        "        labels.append(is_important)\n",
        "\n",
        "        # حساب درجة الجملة باستخدام الأوزان\n",
        "        score = calculate_sentence_score(feature_vector, weights)\n",
        "        sentence_scores.append(score)\n",
        "\n",
        "    return np.array(features), np.array(labels), vectorizer, sentence_scores, sentence_lengths\n",
        "\n",
        "# قائمة عبارات الإشارة\n",
        "signal_phrases = [\n",
        "    \"in conclusion\", \"to summarize\", \"in summary\", \"in short\", \"to sum up\", \"in brief\",\n",
        "    \"furthermore\", \"moreover\", \"additionally\", \"in addition\", \"also\", \"besides\", \"not only\",\n",
        "    \"however\", \"on the other hand\", \"nevertheless\", \"in contrast\", \"conversely\", \"although\", \"despite\",\n",
        "    \"therefore\", \"as a result\", \"consequently\", \"thus\", \"hence\", \"because of this\", \"due to\",\n",
        "    \"for example\", \"for instance\", \"such as\", \"to illustrate\", \"as an illustration\", \"namely\", \"in particular\",\n",
        "    \"indeed\", \"in fact\", \"certainly\", \"of course\", \"undoubtedly\", \"clearly\", \"obviously\",\n",
        "    \"first\", \"second\", \"finally\", \"next\", \"then\", \"after that\", \"subsequently\",\n",
        "    \"that is\", \"in other words\", \"to put it differently\", \"this means that\", \"which means\", \"namely\", \"specifically\",\n",
        "    \"as a result\", \"accordingly\", \"hence\", \"thus\", \"therefore\", \"so\", \"for this reason\",\n",
        "    \"similarly\", \"likewise\", \"in the same way\", \"just as\", \"compared to\", \"in comparison\", \"equally\"\n",
        "]\n",
        "\n",
        "# 4. استخراج الميزات من بيانات التدريب\n",
        "X_train, y_train, tfidf_vectorizer, train_scores, train_sentence_lengths = [], [], None, [], []\n",
        "for _, row in df_train.iterrows():\n",
        "    features, labels, tfidf_vectorizer, scores, sentence_lengths = extract_features(\n",
        "        row[article_column], row[summary_column], tfidf_vectorizer, signal_phrases\n",
        "    )\n",
        "    X_train.extend(features)\n",
        "    y_train.extend(labels)\n",
        "    train_scores.extend(scores)\n",
        "    train_sentence_lengths.extend(sentence_lengths)\n",
        "\n",
        "X_train = np.array(X_train)\n",
        "y_train = np.array(y_train)\n",
        "\n",
        "# 5. استخراج الميزات من بيانات التحقق\n",
        "X_val, y_val, val_scores, val_sentence_lengths = [], [], [], []\n",
        "for _, row in df_val.iterrows():\n",
        "    features, labels, _, scores, sentence_lengths = extract_features(\n",
        "        row[article_column], row[summary_column], tfidf_vectorizer, signal_phrases\n",
        "    )\n",
        "    X_val.extend(features)\n",
        "    y_val.extend(labels)\n",
        "    val_scores.extend(scores)\n",
        "    val_sentence_lengths.extend(sentence_lengths)\n",
        "\n",
        "X_val = np.array(X_val)\n",
        "y_val = np.array(y_val)\n",
        "\n",
        "# 6. تدريب النموذج\n",
        "scaler = StandardScaler()\n",
        "X_train_scaled = scaler.fit_transform(X_train)\n",
        "X_val_scaled = scaler.transform(X_val)\n",
        "\n",
        "model = RandomForestClassifier(random_state=42)\n",
        "model.fit(X_train_scaled, y_train)\n",
        "\n",
        "# 7. تقييم النموذج\n",
        "y_val_pred = model.predict(X_val_scaled)\n",
        "print(\"Validation Classification Report:\")\n",
        "print(classification_report(y_val, y_val_pred))\n",
        "\n",
        "# 8. توليد ملخص مع الأوزان\n",
        "def generate_summary(article, model, scaler, tfidf_vectorizer, signal_phrases, weights, top_n=5):\n",
        "    sentences = sent_tokenize(article)\n",
        "    tfidf_scores, _ = calculate_tfidf_scores(sentences, tfidf_vectorizer)\n",
        "\n",
        "    sentence_scores = []\n",
        "    for i, sentence in enumerate(sentences):\n",
        "        tfidf_score = tfidf_scores[i]\n",
        "        is_first = int(i == 0)\n",
        "        is_last = int(i == len(sentences) - 1)\n",
        "        length = len(word_tokenize(sentence))\n",
        "        signal_weight = calculate_signal_weight(sentence, signal_phrases)\n",
        "\n",
        "        features = [tfidf_score, is_first, is_last, length, signal_weight]\n",
        "        score = calculate_sentence_score(features, weights)\n",
        "        sentence_scores.append((sentence, score, length))\n",
        "\n",
        "    important_sentences = sorted(sentence_scores, key=lambda x: (x[1], x[2]), reverse=True)[:top_n]\n",
        "    return [s[0] for s in important_sentences]\n",
        "# 8. حساب ROUGE\n",
        "def calculate_rouge_scores(reference, generated):\n",
        "    scorer = rouge_scorer.RougeScorer(['rouge1', 'rouge2', 'rougeL'], use_stemmer=True)\n",
        "    scores = scorer.score(reference, generated)\n",
        "    return scores\n",
        "\n",
        "# تقييم النموذج باستخدام بيانات الاختبار\n",
        "rouge1_scores = []\n",
        "rouge2_scores = []\n",
        "rougeL_scores = []\n",
        "\n",
        "for i in range(len(df_test)):\n",
        "    article = df_test.iloc[i][article_column]\n",
        "    reference_summary = df_test.iloc[i][summary_column]\n",
        "\n",
        "    # إنتاج الملخص باستخدام النموذج\n",
        "    generated_summary = \" \".join(generate_summary(article, model, scaler, tfidf_vectorizer, signal_phrases, weights))\n",
        "\n",
        "    # حساب ROUGE\n",
        "    scores = calculate_rouge_scores(reference_summary, generated_summary)\n",
        "\n",
        "    rouge1_scores.append(scores['rouge1'].fmeasure)\n",
        "    rouge2_scores.append(scores['rouge2'].fmeasure)\n",
        "    rougeL_scores.append(scores['rougeL'].fmeasure)\n",
        "\n",
        "# حساب متوسط القيم\n",
        "avg_rouge1 = np.mean(rouge1_scores)\n",
        "avg_rouge2 = np.mean(rouge2_scores)\n",
        "avg_rougeL = np.mean(rougeL_scores)\n",
        "\n",
        "print(\"Average ROUGE Scores:\")\n",
        "print(f\"ROUGE-1: {avg_rouge1:.4f}\")\n",
        "print(f\"ROUGE-2: {avg_rouge2:.4f}\")\n",
        "print(f\"ROUGE-L: {avg_rougeL:.4f}\")\n"
      ]
    },
    {
      "cell_type": "markdown",
      "metadata": {
        "id": "aHtzlXGqcOZW"
      },
      "source": [
        "تجربة مع تغيير الاوزان"
      ]
    },
    {
      "cell_type": "code",
      "execution_count": null,
      "metadata": {
        "colab": {
          "base_uri": "https://localhost:8080/"
        },
        "id": "DHTl1cyocRTx",
        "outputId": "3ffb1733-2f04-4e5c-88a1-acf9f49bb0b8",
        "collapsed": true
      },
      "outputs": [
        {
          "output_type": "stream",
          "name": "stdout",
          "text": [
            "Validation Classification Report:\n",
            "              precision    recall  f1-score   support\n",
            "\n",
            "           0       1.00      1.00      1.00    420096\n",
            "           1       0.95      0.26      0.41       693\n",
            "\n",
            "    accuracy                           1.00    420789\n",
            "   macro avg       0.98      0.63      0.70    420789\n",
            "weighted avg       1.00      1.00      1.00    420789\n",
            "\n",
            "\n",
            "Average ROUGE Scores:\n",
            "ROUGE-1: 0.2462\n",
            "ROUGE-2: 0.0968\n",
            "ROUGE-L: 0.1552\n"
          ]
        }
      ],
      "source": [
        "import pandas as pd\n",
        "import numpy as np\n",
        "from sklearn.feature_extraction.text import TfidfVectorizer\n",
        "from sklearn.model_selection import train_test_split\n",
        "from sklearn.ensemble import RandomForestClassifier\n",
        "from sklearn.metrics import classification_report\n",
        "from nltk.tokenize import sent_tokenize, word_tokenize\n",
        "from sklearn.preprocessing import StandardScaler\n",
        "from rouge_score import rouge_scorer\n",
        "\n",
        "# 1. قراءة البيانات\n",
        "train_file_path = '/content/data/cleaned_train_data.csv'\n",
        "val_file_path = '/content/data/cleaned_validation_data.csv'\n",
        "test_file_path = '/content/data/cleaned_test_data.csv'\n",
        "\n",
        "df_train = pd.read_csv(train_file_path)\n",
        "df_val = pd.read_csv(val_file_path)\n",
        "df_test = pd.read_csv(test_file_path)\n",
        "\n",
        "article_column = 'article_cleaned'  # اسم العمود الذي يحتوي على المقالات\n",
        "summary_column = 'summary_cleaned'  # اسم العمود الذي يحتوي على الملخصات المرجعية\n",
        "\n",
        "# 2. تعريف الأوزان المبدئية للميزات\n",
        "# 2. تعريف الأوزان المبدئية للميزات\n",
        "weights = {\n",
        "    \"tfidf_score\": 0.2,  # أهمية TF-IDF\n",
        "    \"is_first\": 0.2,     # الجملة الأولى\n",
        "    \"is_last\": 0.2,      # الجملة الأخيرة\n",
        "    \"length\": 0.1,       # طول الجملة\n",
        "    \"signal_weight\": 0.3 # عبارات الإشارة\n",
        "}\n",
        "\n",
        "# 3. تعريف دوال الميزات\n",
        "def calculate_tfidf_scores(sentences, vectorizer=None):\n",
        "    if vectorizer is None:\n",
        "        vectorizer = TfidfVectorizer()\n",
        "        vectorizer.fit(sentences)\n",
        "    tfidf_matrix = vectorizer.transform(sentences)\n",
        "    tfidf_scores = tfidf_matrix.sum(axis=1).A1  # مجموع القيم لكل جملة\n",
        "    return tfidf_scores, vectorizer\n",
        "\n",
        "def calculate_signal_weight(sentence, signal_phrases):\n",
        "    weight = sum(phrase.lower() in sentence.lower() for phrase in signal_phrases)\n",
        "    return weight\n",
        "\n",
        "def calculate_sentence_score(features, weights):\n",
        "    score = (\n",
        "        weights[\"tfidf_score\"] * features[0] +\n",
        "        weights[\"is_first\"] * features[1] +\n",
        "        weights[\"is_last\"] * features[2] +\n",
        "        weights[\"length\"] * features[3] +\n",
        "        weights[\"signal_weight\"] * features[4]\n",
        "    )\n",
        "    return score\n",
        "\n",
        "def extract_features(article, summary, vectorizer=None, signal_phrases=[]):\n",
        "    sentences = sent_tokenize(article)\n",
        "    tfidf_scores, vectorizer = calculate_tfidf_scores(sentences, vectorizer)\n",
        "\n",
        "    features = []\n",
        "    labels = []\n",
        "    sentence_scores = []\n",
        "\n",
        "    # حساب طول الجملة (عدد الكلمات)\n",
        "    sentence_lengths = [len(word_tokenize(sentence)) for sentence in sentences]\n",
        "\n",
        "    for i, sentence in enumerate(sentences):\n",
        "        tfidf_score = tfidf_scores[i]\n",
        "        is_first = int(i == 0)\n",
        "        is_last = int(i == len(sentences) - 1)\n",
        "        length = sentence_lengths[i]\n",
        "        signal_weight = calculate_signal_weight(sentence, signal_phrases)\n",
        "        is_important = int(sentence in summary)\n",
        "\n",
        "        feature_vector = [tfidf_score, is_first, is_last, length, signal_weight]\n",
        "        features.append(feature_vector)\n",
        "        labels.append(is_important)\n",
        "\n",
        "        # حساب درجة الجملة باستخدام الأوزان\n",
        "        score = calculate_sentence_score(feature_vector, weights)\n",
        "        sentence_scores.append(score)\n",
        "\n",
        "    return np.array(features), np.array(labels), vectorizer, sentence_scores, sentence_lengths\n",
        "\n",
        "# قائمة عبارات الإشارة\n",
        "signal_phrases = [\n",
        "    \"in conclusion\", \"to summarize\", \"in summary\", \"in short\", \"to sum up\", \"in brief\",\n",
        "    \"furthermore\", \"moreover\", \"additionally\", \"in addition\", \"also\", \"besides\", \"not only\",\n",
        "    \"however\", \"on the other hand\", \"nevertheless\", \"in contrast\", \"conversely\", \"although\", \"despite\",\n",
        "    \"therefore\", \"as a result\", \"consequently\", \"thus\", \"hence\", \"because of this\", \"due to\",\n",
        "    \"for example\", \"for instance\", \"such as\", \"to illustrate\", \"as an illustration\", \"namely\", \"in particular\",\n",
        "    \"indeed\", \"in fact\", \"certainly\", \"of course\", \"undoubtedly\", \"clearly\", \"obviously\",\n",
        "    \"first\", \"second\", \"finally\", \"next\", \"then\", \"after that\", \"subsequently\",\n",
        "    \"that is\", \"in other words\", \"to put it differently\", \"this means that\", \"which means\", \"namely\", \"specifically\",\n",
        "    \"as a result\", \"accordingly\", \"hence\", \"thus\", \"therefore\", \"so\", \"for this reason\",\n",
        "    \"similarly\", \"likewise\", \"in the same way\", \"just as\", \"compared to\", \"in comparison\", \"equally\"\n",
        "]\n",
        "\n",
        "# 4. استخراج الميزات من بيانات التدريب\n",
        "X_train, y_train, tfidf_vectorizer, train_scores, train_sentence_lengths = [], [], None, [], []\n",
        "for _, row in df_train.iterrows():\n",
        "    features, labels, tfidf_vectorizer, scores, sentence_lengths = extract_features(\n",
        "        row[article_column], row[summary_column], tfidf_vectorizer, signal_phrases\n",
        "    )\n",
        "    X_train.extend(features)\n",
        "    y_train.extend(labels)\n",
        "    train_scores.extend(scores)\n",
        "    train_sentence_lengths.extend(sentence_lengths)\n",
        "\n",
        "X_train = np.array(X_train)\n",
        "y_train = np.array(y_train)\n",
        "\n",
        "# 5. استخراج الميزات من بيانات التحقق\n",
        "X_val, y_val, val_scores, val_sentence_lengths = [], [], [], []\n",
        "for _, row in df_val.iterrows():\n",
        "    features, labels, _, scores, sentence_lengths = extract_features(\n",
        "        row[article_column], row[summary_column], tfidf_vectorizer, signal_phrases\n",
        "    )\n",
        "    X_val.extend(features)\n",
        "    y_val.extend(labels)\n",
        "    val_scores.extend(scores)\n",
        "    val_sentence_lengths.extend(sentence_lengths)\n",
        "\n",
        "X_val = np.array(X_val)\n",
        "y_val = np.array(y_val)\n",
        "\n",
        "# 6. تدريب النموذج\n",
        "scaler = StandardScaler()\n",
        "X_train_scaled = scaler.fit_transform(X_train)\n",
        "X_val_scaled = scaler.transform(X_val)\n",
        "\n",
        "model = RandomForestClassifier(random_state=42)\n",
        "model.fit(X_train_scaled, y_train)\n",
        "\n",
        "# 7. تقييم النموذج\n",
        "y_val_pred = model.predict(X_val_scaled)\n",
        "print(\"Validation Classification Report:\")\n",
        "print(classification_report(y_val, y_val_pred))\n",
        "\n",
        "# 8. توليد ملخص مع الأوزان\n",
        "def generate_summary(article, model, scaler, tfidf_vectorizer, signal_phrases, weights, top_n=5):\n",
        "    sentences = sent_tokenize(article)\n",
        "    tfidf_scores, _ = calculate_tfidf_scores(sentences, tfidf_vectorizer)\n",
        "\n",
        "    sentence_scores = []\n",
        "    for i, sentence in enumerate(sentences):\n",
        "        tfidf_score = tfidf_scores[i]\n",
        "        is_first = int(i == 0)\n",
        "        is_last = int(i == len(sentences) - 1)\n",
        "        length = len(word_tokenize(sentence))\n",
        "        signal_weight = calculate_signal_weight(sentence, signal_phrases)\n",
        "\n",
        "        features = [tfidf_score, is_first, is_last, length, signal_weight]\n",
        "        score = calculate_sentence_score(features, weights)\n",
        "        sentence_scores.append((sentence, score, length))\n",
        "\n",
        "    important_sentences = sorted(sentence_scores, key=lambda x: (x[1], x[2]), reverse=True)[:top_n]\n",
        "    return [s[0] for s in important_sentences]\n",
        "# 8. حساب ROUGE\n",
        "def calculate_rouge_scores(reference, generated):\n",
        "    scorer = rouge_scorer.RougeScorer(['rouge1', 'rouge2', 'rougeL'], use_stemmer=True)\n",
        "    scores = scorer.score(reference, generated)\n",
        "    return scores\n",
        "\n",
        "# تقييم النموذج باستخدام بيانات الاختبار\n",
        "rouge1_scores = []\n",
        "rouge2_scores = []\n",
        "rougeL_scores = []\n",
        "\n",
        "for i in range(len(df_test)):\n",
        "    article = df_test.iloc[i][article_column]\n",
        "    reference_summary = df_test.iloc[i][summary_column]\n",
        "\n",
        "    # إنتاج الملخص باستخدام النموذج\n",
        "    generated_summary = \" \".join(generate_summary(article, model, scaler, tfidf_vectorizer, signal_phrases, weights))\n",
        "\n",
        "    # حساب ROUGE\n",
        "    scores = calculate_rouge_scores(reference_summary, generated_summary)\n",
        "\n",
        "    rouge1_scores.append(scores['rouge1'].fmeasure)\n",
        "    rouge2_scores.append(scores['rouge2'].fmeasure)\n",
        "    rougeL_scores.append(scores['rougeL'].fmeasure)\n",
        "\n",
        "# حساب متوسط القيم\n",
        "avg_rouge1 = np.mean(rouge1_scores)\n",
        "avg_rouge2 = np.mean(rouge2_scores)\n",
        "avg_rougeL = np.mean(rougeL_scores)\n",
        "\n",
        "print(\"\\nAverage ROUGE Scores:\")\n",
        "print(f\"ROUGE-1: {avg_rouge1:.4f}\")\n",
        "print(f\"ROUGE-2: {avg_rouge2:.4f}\")\n",
        "print(f\"ROUGE-L: {avg_rougeL:.4f}\")\n"
      ]
    },
    {
      "cell_type": "markdown",
      "metadata": {
        "id": "bbLZoVdv_U3r"
      },
      "source": [
        "# Logistic Regression\n"
      ]
    },
    {
      "cell_type": "code",
      "execution_count": null,
      "metadata": {
        "colab": {
          "base_uri": "https://localhost:8080/"
        },
        "id": "l18UHAhQ_Yk2",
        "outputId": "ef61d487-86eb-46c4-85d8-eb977a49ad51",
        "collapsed": true
      },
      "outputs": [
        {
          "output_type": "stream",
          "name": "stdout",
          "text": [
            "Validation Classification Report:\n",
            "              precision    recall  f1-score   support\n",
            "\n",
            "           0       1.00      0.96      0.98    420096\n",
            "           1       0.02      0.45      0.04       693\n",
            "\n",
            "    accuracy                           0.96    420789\n",
            "   macro avg       0.51      0.71      0.51    420789\n",
            "weighted avg       1.00      0.96      0.98    420789\n",
            "\n",
            "\n",
            "Average ROUGE Scores:\n",
            "ROUGE-1: 0.2462\n",
            "ROUGE-2: 0.0968\n",
            "ROUGE-L: 0.1552\n"
          ]
        }
      ],
      "source": [
        "import pandas as pd\n",
        "import numpy as np\n",
        "from sklearn.feature_extraction.text import TfidfVectorizer\n",
        "from sklearn.model_selection import train_test_split\n",
        "from sklearn.ensemble import RandomForestClassifier\n",
        "from sklearn.metrics import classification_report\n",
        "from nltk.tokenize import sent_tokenize, word_tokenize\n",
        "from sklearn.preprocessing import StandardScaler\n",
        "from rouge_score import rouge_scorer\n",
        "from sklearn.linear_model import LogisticRegression\n",
        "\n",
        "# 1. قراءة البيانات\n",
        "train_file_path = '/content/data/cleaned_train_data.csv'\n",
        "val_file_path = '/content/data/cleaned_validation_data.csv'\n",
        "test_file_path = '/content/data/cleaned_test_data.csv'\n",
        "\n",
        "df_train = pd.read_csv(train_file_path)\n",
        "df_val = pd.read_csv(val_file_path)\n",
        "df_test = pd.read_csv(test_file_path)\n",
        "\n",
        "article_column = 'article_cleaned'  # اسم العمود الذي يحتوي على المقالات\n",
        "summary_column = 'summary_cleaned'  # اسم العمود الذي يحتوي على الملخصات المرجعية\n",
        "\n",
        "# 2. تعريف الأوزان المبدئية للميزات\n",
        "weights = {\n",
        "    \"tfidf_score\": 0.2,  # أهمية TF-IDF\n",
        "    \"is_first\": 0.2,     # الجملة الأولى\n",
        "    \"is_last\": 0.2,      # الجملة الأخيرة\n",
        "    \"length\": 0.1,       # طول الجملة\n",
        "    \"signal_weight\": 0.3 # عبارات الإشارة\n",
        "}\n",
        "\n",
        "# 3. تعريف دوال الميزات\n",
        "def calculate_tfidf_scores(sentences, vectorizer=None):\n",
        "    if vectorizer is None:\n",
        "        vectorizer = TfidfVectorizer()\n",
        "        vectorizer.fit(sentences)\n",
        "    tfidf_matrix = vectorizer.transform(sentences)\n",
        "    tfidf_scores = tfidf_matrix.sum(axis=1).A1  # مجموع القيم لكل جملة\n",
        "    return tfidf_scores, vectorizer\n",
        "\n",
        "def calculate_signal_weight(sentence, signal_phrases):\n",
        "    weight = sum(phrase.lower() in sentence.lower() for phrase in signal_phrases)\n",
        "    return weight\n",
        "\n",
        "def calculate_sentence_score(features, weights):\n",
        "    score = (\n",
        "        weights[\"tfidf_score\"] * features[0] +\n",
        "        weights[\"is_first\"] * features[1] +\n",
        "        weights[\"is_last\"] * features[2] +\n",
        "        weights[\"length\"] * features[3] +\n",
        "        weights[\"signal_weight\"] * features[4]\n",
        "    )\n",
        "    return score\n",
        "\n",
        "def extract_features(article, summary, vectorizer=None, signal_phrases=[]):\n",
        "    sentences = sent_tokenize(article)\n",
        "    tfidf_scores, vectorizer = calculate_tfidf_scores(sentences, vectorizer)\n",
        "\n",
        "    features = []\n",
        "    labels = []\n",
        "    sentence_scores = []\n",
        "\n",
        "    # حساب طول الجملة (عدد الكلمات)\n",
        "    sentence_lengths = [len(word_tokenize(sentence)) for sentence in sentences]\n",
        "\n",
        "    for i, sentence in enumerate(sentences):\n",
        "        tfidf_score = tfidf_scores[i]\n",
        "        is_first = int(i == 0)\n",
        "        is_last = int(i == len(sentences) - 1)\n",
        "        length = sentence_lengths[i]\n",
        "        signal_weight = calculate_signal_weight(sentence, signal_phrases)\n",
        "        is_important = int(sentence in summary)\n",
        "\n",
        "        feature_vector = [tfidf_score, is_first, is_last, length, signal_weight]\n",
        "        features.append(feature_vector)\n",
        "        labels.append(is_important)\n",
        "\n",
        "        # حساب درجة الجملة باستخدام الأوزان\n",
        "        score = calculate_sentence_score(feature_vector, weights)\n",
        "        sentence_scores.append(score)\n",
        "\n",
        "    return np.array(features), np.array(labels), vectorizer, sentence_scores, sentence_lengths\n",
        "\n",
        "# قائمة عبارات الإشارة\n",
        "signal_phrases = [\n",
        "    \"in conclusion\", \"to summarize\", \"in summary\", \"in short\", \"to sum up\", \"in brief\",\n",
        "    \"furthermore\", \"moreover\", \"additionally\", \"in addition\", \"also\", \"besides\", \"not only\",\n",
        "    \"however\", \"on the other hand\", \"nevertheless\", \"in contrast\", \"conversely\", \"although\", \"despite\",\n",
        "    \"therefore\", \"as a result\", \"consequently\", \"thus\", \"hence\", \"because of this\", \"due to\",\n",
        "    \"for example\", \"for instance\", \"such as\", \"to illustrate\", \"as an illustration\", \"namely\", \"in particular\",\n",
        "    \"indeed\", \"in fact\", \"certainly\", \"of course\", \"undoubtedly\", \"clearly\", \"obviously\",\n",
        "    \"first\", \"second\", \"finally\", \"next\", \"then\", \"after that\", \"subsequently\",\n",
        "    \"that is\", \"in other words\", \"to put it differently\", \"this means that\", \"which means\", \"namely\", \"specifically\",\n",
        "    \"as a result\", \"accordingly\", \"hence\", \"thus\", \"therefore\", \"so\", \"for this reason\",\n",
        "    \"similarly\", \"likewise\", \"in the same way\", \"just as\", \"compared to\", \"in comparison\", \"equally\"\n",
        "]\n",
        "\n",
        "# 4. استخراج الميزات من بيانات التدريب\n",
        "X_train, y_train, tfidf_vectorizer, train_scores, train_sentence_lengths = [], [], None, [], []\n",
        "for _, row in df_train.iterrows():\n",
        "    features, labels, tfidf_vectorizer, scores, sentence_lengths = extract_features(\n",
        "        row[article_column], row[summary_column], tfidf_vectorizer, signal_phrases\n",
        "    )\n",
        "    X_train.extend(features)\n",
        "    y_train.extend(labels)\n",
        "    train_scores.extend(scores)\n",
        "    train_sentence_lengths.extend(sentence_lengths)\n",
        "\n",
        "X_train = np.array(X_train)\n",
        "y_train = np.array(y_train)\n",
        "\n",
        "# 5. استخراج الميزات من بيانات التحقق\n",
        "X_val, y_val, val_scores, val_sentence_lengths = [], [], [], []\n",
        "for _, row in df_val.iterrows():\n",
        "    features, labels, _, scores, sentence_lengths = extract_features(\n",
        "        row[article_column], row[summary_column], tfidf_vectorizer, signal_phrases\n",
        "    )\n",
        "    X_val.extend(features)\n",
        "    y_val.extend(labels)\n",
        "    val_scores.extend(scores)\n",
        "    val_sentence_lengths.extend(sentence_lengths)\n",
        "\n",
        "X_val = np.array(X_val)\n",
        "y_val = np.array(y_val)\n",
        "\n",
        "# 6. تدريب النموذج\n",
        "scaler = StandardScaler()\n",
        "X_train_scaled = scaler.fit_transform(X_train)\n",
        "X_val_scaled = scaler.transform(X_val)\n",
        "\n",
        "# استبدال SVC بـ LogisticRegression\n",
        "model = LogisticRegression(class_weight='balanced', random_state=42, max_iter=1000)\n",
        "model.fit(X_train_scaled, y_train)\n",
        "\n",
        "# 7. تقييم النموذج\n",
        "y_val_pred = model.predict(X_val_scaled)\n",
        "print(\"Validation Classification Report:\")\n",
        "print(classification_report(y_val, y_val_pred))\n",
        "\n",
        "# 8. توليد ملخص مع الأوزان\n",
        "def generate_summary(article, model, scaler, tfidf_vectorizer, signal_phrases, weights, top_n=5):\n",
        "    sentences = sent_tokenize(article)\n",
        "    tfidf_scores, _ = calculate_tfidf_scores(sentences, tfidf_vectorizer)\n",
        "\n",
        "    sentence_scores = []\n",
        "    for i, sentence in enumerate(sentences):\n",
        "        tfidf_score = tfidf_scores[i]\n",
        "        is_first = int(i == 0)\n",
        "        is_last = int(i == len(sentences) - 1)\n",
        "        length = len(word_tokenize(sentence))\n",
        "        signal_weight = calculate_signal_weight(sentence, signal_phrases)\n",
        "\n",
        "        features = [tfidf_score, is_first, is_last, length, signal_weight]\n",
        "        score = calculate_sentence_score(features, weights)\n",
        "        sentence_scores.append((sentence, score, length))\n",
        "\n",
        "    important_sentences = sorted(sentence_scores, key=lambda x: (x[1], x[2]), reverse=True)[:top_n]\n",
        "    return [s[0] for s in important_sentences]\n",
        "\n",
        "# 9. حساب ROUGE\n",
        "def calculate_rouge_scores(reference, generated):\n",
        "    scorer = rouge_scorer.RougeScorer(['rouge1', 'rouge2', 'rougeL'], use_stemmer=True)\n",
        "    scores = scorer.score(reference, generated)\n",
        "    return scores\n",
        "\n",
        "# تقييم النموذج باستخدام بيانات الاختبار\n",
        "rouge1_scores = []\n",
        "rouge2_scores = []\n",
        "rougeL_scores = []\n",
        "\n",
        "for i in range(len(df_test)):\n",
        "    article = df_test.iloc[i][article_column]\n",
        "    reference_summary = df_test.iloc[i][summary_column]\n",
        "\n",
        "    # إنتاج الملخص باستخدام النموذج\n",
        "    generated_summary = \" \".join(generate_summary(article, model, scaler, tfidf_vectorizer, signal_phrases, weights))\n",
        "\n",
        "    # حساب ROUGE\n",
        "    scores = calculate_rouge_scores(reference_summary, generated_summary)\n",
        "\n",
        "    rouge1_scores.append(scores['rouge1'].fmeasure)\n",
        "    rouge2_scores.append(scores['rouge2'].fmeasure)\n",
        "    rougeL_scores.append(scores['rougeL'].fmeasure)\n",
        "\n",
        "# حساب متوسط القيم\n",
        "avg_rouge1 = np.mean(rouge1_scores)\n",
        "avg_rouge2 = np.mean(rouge2_scores)\n",
        "avg_rougeL = np.mean(rougeL_scores)\n",
        "\n",
        "print(\"\\nAverage ROUGE Scores:\")\n",
        "print(f\"ROUGE-1: {avg_rouge1:.4f}\")\n",
        "print(f\"ROUGE-2: {avg_rouge2:.4f}\")\n",
        "print(f\"ROUGE-L: {avg_rougeL:.4f}\")\n"
      ]
    },
    {
      "cell_type": "markdown",
      "source": [
        "تجربة مع تغيير الاوزان"
      ],
      "metadata": {
        "id": "9hZBsiB2JQMz"
      }
    },
    {
      "cell_type": "code",
      "execution_count": null,
      "metadata": {
        "id": "gop6M1SDL9jn",
        "colab": {
          "base_uri": "https://localhost:8080/"
        },
        "outputId": "04e1bcc1-b153-49f0-db44-9be9a238c88a",
        "collapsed": true
      },
      "outputs": [
        {
          "output_type": "stream",
          "name": "stdout",
          "text": [
            "Validation Classification Report:\n",
            "              precision    recall  f1-score   support\n",
            "\n",
            "           0       1.00      0.96      0.98    420096\n",
            "           1       0.02      0.45      0.04       693\n",
            "\n",
            "    accuracy                           0.96    420789\n",
            "   macro avg       0.51      0.71      0.51    420789\n",
            "weighted avg       1.00      0.96      0.98    420789\n",
            "\n",
            "\n",
            "Average ROUGE Scores:\n",
            "ROUGE-1: 0.2468\n",
            "ROUGE-2: 0.0976\n",
            "ROUGE-L: 0.1558\n"
          ]
        }
      ],
      "source": [
        "import pandas as pd\n",
        "import numpy as np\n",
        "from sklearn.feature_extraction.text import TfidfVectorizer\n",
        "from sklearn.model_selection import train_test_split\n",
        "from sklearn.ensemble import RandomForestClassifier\n",
        "from sklearn.metrics import classification_report\n",
        "from nltk.tokenize import sent_tokenize, word_tokenize\n",
        "from sklearn.preprocessing import StandardScaler\n",
        "from rouge_score import rouge_scorer\n",
        "from sklearn.linear_model import LogisticRegression\n",
        "\n",
        "# 1. قراءة البيانات\n",
        "train_file_path = '/content/data/cleaned_train_data.csv'\n",
        "val_file_path = '/content/data/cleaned_validation_data.csv'\n",
        "test_file_path = '/content/data/cleaned_test_data.csv'\n",
        "\n",
        "df_train = pd.read_csv(train_file_path)\n",
        "df_val = pd.read_csv(val_file_path)\n",
        "df_test = pd.read_csv(test_file_path)\n",
        "\n",
        "article_column = 'article_cleaned'  # اسم العمود الذي يحتوي على المقالات\n",
        "summary_column = 'summary_cleaned'  # اسم العمود الذي يحتوي على الملخصات المرجعية\n",
        "\n",
        "# 2. تعريف الأوزان المبدئية للميزات\n",
        "weights = {\n",
        "    \"tfidf_score\": 0.1,  # أهمية TF-IDF\n",
        "    \"is_first\": 0.2,     # الجملة الأولى\n",
        "    \"is_last\": 0.2,      # الجملة الأخيرة\n",
        "    \"length\": 0.3,       # طول الجملة\n",
        "    \"signal_weight\": 0.2 # عبارات الإشارة\n",
        "}\n",
        "\n",
        "# 3. تعريف دوال الميزات\n",
        "def calculate_tfidf_scores(sentences, vectorizer=None):\n",
        "    if vectorizer is None:\n",
        "        vectorizer = TfidfVectorizer()\n",
        "        vectorizer.fit(sentences)\n",
        "    tfidf_matrix = vectorizer.transform(sentences)\n",
        "    tfidf_scores = tfidf_matrix.sum(axis=1).A1  # مجموع القيم لكل جملة\n",
        "    return tfidf_scores, vectorizer\n",
        "\n",
        "def calculate_signal_weight(sentence, signal_phrases):\n",
        "    weight = sum(phrase.lower() in sentence.lower() for phrase in signal_phrases)\n",
        "    return weight\n",
        "\n",
        "def calculate_sentence_score(features, weights):\n",
        "    score = (\n",
        "        weights[\"tfidf_score\"] * features[0] +\n",
        "        weights[\"is_first\"] * features[1] +\n",
        "        weights[\"is_last\"] * features[2] +\n",
        "        weights[\"length\"] * features[3] +\n",
        "        weights[\"signal_weight\"] * features[4]\n",
        "    )\n",
        "    return score\n",
        "\n",
        "def extract_features(article, summary, vectorizer=None, signal_phrases=[]):\n",
        "    sentences = sent_tokenize(article)\n",
        "    tfidf_scores, vectorizer = calculate_tfidf_scores(sentences, vectorizer)\n",
        "\n",
        "    features = []\n",
        "    labels = []\n",
        "    sentence_scores = []\n",
        "\n",
        "    # حساب طول الجملة (عدد الكلمات)\n",
        "    sentence_lengths = [len(word_tokenize(sentence)) for sentence in sentences]\n",
        "\n",
        "    for i, sentence in enumerate(sentences):\n",
        "        tfidf_score = tfidf_scores[i]\n",
        "        is_first = int(i == 0)\n",
        "        is_last = int(i == len(sentences) - 1)\n",
        "        length = sentence_lengths[i]\n",
        "        signal_weight = calculate_signal_weight(sentence, signal_phrases)\n",
        "        is_important = int(sentence in summary)\n",
        "\n",
        "        feature_vector = [tfidf_score, is_first, is_last, length, signal_weight]\n",
        "        features.append(feature_vector)\n",
        "        labels.append(is_important)\n",
        "\n",
        "        # حساب درجة الجملة باستخدام الأوزان\n",
        "        score = calculate_sentence_score(feature_vector, weights)\n",
        "        sentence_scores.append(score)\n",
        "\n",
        "    return np.array(features), np.array(labels), vectorizer, sentence_scores, sentence_lengths\n",
        "\n",
        "# قائمة عبارات الإشارة\n",
        "signal_phrases = [\n",
        "    \"in conclusion\", \"to summarize\", \"in summary\", \"in short\", \"to sum up\", \"in brief\",\n",
        "    \"furthermore\", \"moreover\", \"additionally\", \"in addition\", \"also\", \"besides\", \"not only\",\n",
        "    \"however\", \"on the other hand\", \"nevertheless\", \"in contrast\", \"conversely\", \"although\", \"despite\",\n",
        "    \"therefore\", \"as a result\", \"consequently\", \"thus\", \"hence\", \"because of this\", \"due to\",\n",
        "    \"for example\", \"for instance\", \"such as\", \"to illustrate\", \"as an illustration\", \"namely\", \"in particular\",\n",
        "    \"indeed\", \"in fact\", \"certainly\", \"of course\", \"undoubtedly\", \"clearly\", \"obviously\",\n",
        "    \"first\", \"second\", \"finally\", \"next\", \"then\", \"after that\", \"subsequently\",\n",
        "    \"that is\", \"in other words\", \"to put it differently\", \"this means that\", \"which means\", \"namely\", \"specifically\",\n",
        "    \"as a result\", \"accordingly\", \"hence\", \"thus\", \"therefore\", \"so\", \"for this reason\",\n",
        "    \"similarly\", \"likewise\", \"in the same way\", \"just as\", \"compared to\", \"in comparison\", \"equally\"\n",
        "]\n",
        "\n",
        "# 4. استخراج الميزات من بيانات التدريب\n",
        "X_train, y_train, tfidf_vectorizer, train_scores, train_sentence_lengths = [], [], None, [], []\n",
        "for _, row in df_train.iterrows():\n",
        "    features, labels, tfidf_vectorizer, scores, sentence_lengths = extract_features(\n",
        "        row[article_column], row[summary_column], tfidf_vectorizer, signal_phrases\n",
        "    )\n",
        "    X_train.extend(features)\n",
        "    y_train.extend(labels)\n",
        "    train_scores.extend(scores)\n",
        "    train_sentence_lengths.extend(sentence_lengths)\n",
        "\n",
        "X_train = np.array(X_train)\n",
        "y_train = np.array(y_train)\n",
        "\n",
        "# 5. استخراج الميزات من بيانات التحقق\n",
        "X_val, y_val, val_scores, val_sentence_lengths = [], [], [], []\n",
        "for _, row in df_val.iterrows():\n",
        "    features, labels, _, scores, sentence_lengths = extract_features(\n",
        "        row[article_column], row[summary_column], tfidf_vectorizer, signal_phrases\n",
        "    )\n",
        "    X_val.extend(features)\n",
        "    y_val.extend(labels)\n",
        "    val_scores.extend(scores)\n",
        "    val_sentence_lengths.extend(sentence_lengths)\n",
        "\n",
        "X_val = np.array(X_val)\n",
        "y_val = np.array(y_val)\n",
        "\n",
        "# 6. تدريب النموذج\n",
        "scaler = StandardScaler()\n",
        "X_train_scaled = scaler.fit_transform(X_train)\n",
        "X_val_scaled = scaler.transform(X_val)\n",
        "\n",
        "# استبدال SVC بـ LogisticRegression\n",
        "model = LogisticRegression(class_weight='balanced', random_state=42, max_iter=1000)\n",
        "model.fit(X_train_scaled, y_train)\n",
        "\n",
        "# 7. تقييم النموذج\n",
        "y_val_pred = model.predict(X_val_scaled)\n",
        "print(\"Validation Classification Report:\")\n",
        "print(classification_report(y_val, y_val_pred))\n",
        "\n",
        "# 8. توليد ملخص مع الأوزان\n",
        "def generate_summary(article, model, scaler, tfidf_vectorizer, signal_phrases, weights, top_n=5):\n",
        "    sentences = sent_tokenize(article)\n",
        "    tfidf_scores, _ = calculate_tfidf_scores(sentences, tfidf_vectorizer)\n",
        "\n",
        "    sentence_scores = []\n",
        "    for i, sentence in enumerate(sentences):\n",
        "        tfidf_score = tfidf_scores[i]\n",
        "        is_first = int(i == 0)\n",
        "        is_last = int(i == len(sentences) - 1)\n",
        "        length = len(word_tokenize(sentence))\n",
        "        signal_weight = calculate_signal_weight(sentence, signal_phrases)\n",
        "\n",
        "        features = [tfidf_score, is_first, is_last, length, signal_weight]\n",
        "        score = calculate_sentence_score(features, weights)\n",
        "        sentence_scores.append((sentence, score, length))\n",
        "\n",
        "    important_sentences = sorted(sentence_scores, key=lambda x: (x[1], x[2]), reverse=True)[:top_n]\n",
        "    return [s[0] for s in important_sentences]\n",
        "\n",
        "# 9. حساب ROUGE\n",
        "def calculate_rouge_scores(reference, generated):\n",
        "    scorer = rouge_scorer.RougeScorer(['rouge1', 'rouge2', 'rougeL'], use_stemmer=True)\n",
        "    scores = scorer.score(reference, generated)\n",
        "    return scores\n",
        "\n",
        "# تقييم النموذج باستخدام بيانات الاختبار\n",
        "rouge1_scores = []\n",
        "rouge2_scores = []\n",
        "rougeL_scores = []\n",
        "\n",
        "for i in range(len(df_test)):\n",
        "    article = df_test.iloc[i][article_column]\n",
        "    reference_summary = df_test.iloc[i][summary_column]\n",
        "\n",
        "    # إنتاج الملخص باستخدام النموذج\n",
        "    generated_summary = \" \".join(generate_summary(article, model, scaler, tfidf_vectorizer, signal_phrases, weights))\n",
        "\n",
        "    # حساب ROUGE\n",
        "    scores = calculate_rouge_scores(reference_summary, generated_summary)\n",
        "\n",
        "    rouge1_scores.append(scores['rouge1'].fmeasure)\n",
        "    rouge2_scores.append(scores['rouge2'].fmeasure)\n",
        "    rougeL_scores.append(scores['rougeL'].fmeasure)\n",
        "\n",
        "# حساب متوسط القيم\n",
        "avg_rouge1 = np.mean(rouge1_scores)\n",
        "avg_rouge2 = np.mean(rouge2_scores)\n",
        "avg_rougeL = np.mean(rougeL_scores)\n",
        "\n",
        "print(\"\\nAverage ROUGE Scores:\")\n",
        "print(f\"ROUGE-1: {avg_rouge1:.4f}\")\n",
        "print(f\"ROUGE-2: {avg_rouge2:.4f}\")\n",
        "print(f\"ROUGE-L: {avg_rougeL:.4f}\")\n"
      ]
    }
  ],
  "metadata": {
    "colab": {
      "collapsed_sections": [
        "76C6IVsYLjk5",
        "AZS3txBukEbg"
      ],
      "toc_visible": true,
      "provenance": []
    },
    "kernelspec": {
      "display_name": "Python 3",
      "name": "python3"
    },
    "language_info": {
      "name": "python"
    }
  },
  "nbformat": 4,
  "nbformat_minor": 0
}